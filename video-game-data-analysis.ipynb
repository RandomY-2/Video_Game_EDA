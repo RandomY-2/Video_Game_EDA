{
 "cells": [
  {
   "cell_type": "markdown",
   "metadata": {
    "papermill": {
     "duration": 0.052928,
     "end_time": "2020-11-17T07:12:38.350833",
     "exception": false,
     "start_time": "2020-11-17T07:12:38.297905",
     "status": "completed"
    },
    "tags": []
   },
   "source": [
    "# Introduction\n",
    "\n",
    "Hello everyone! This is my data analysis with the video game sales dataset. I am actually very excited to explore more about this dataset because I am myself a video game fan. So let's load the data and take a quick look!"
   ]
  },
  {
   "cell_type": "code",
   "execution_count": 1,
   "metadata": {
    "_cell_guid": "b1076dfc-b9ad-4769-8c92-a6c4dae69d19",
    "_uuid": "8f2839f25d086af736a60e9eeb907d3b93b6e0e5",
    "execution": {
     "iopub.execute_input": "2020-11-17T07:12:38.471564Z",
     "iopub.status.busy": "2020-11-17T07:12:38.470729Z",
     "iopub.status.idle": "2020-11-17T07:12:41.074890Z",
     "shell.execute_reply": "2020-11-17T07:12:41.073901Z"
    },
    "papermill": {
     "duration": 2.673265,
     "end_time": "2020-11-17T07:12:41.075093",
     "exception": false,
     "start_time": "2020-11-17T07:12:38.401828",
     "status": "completed"
    },
    "tags": []
   },
   "outputs": [
    {
     "name": "stdout",
     "output_type": "stream",
     "text": [
      "/kaggle/input/videogamesales/vgsales.csv\n"
     ]
    }
   ],
   "source": [
    "# This Python 3 environment comes with many helpful analytics libraries installed\n",
    "# It is defined by the kaggle/python Docker image: https://github.com/kaggle/docker-python\n",
    "# For example, here's several helpful packages to load\n",
    "\n",
    "import numpy as np\n",
    "import pandas as pd\n",
    "\n",
    "from sklearn.compose import ColumnTransformer\n",
    "from sklearn.pipeline import Pipeline\n",
    "from sklearn.impute import SimpleImputer\n",
    "from sklearn.preprocessing import LabelEncoder, OneHotEncoder\n",
    "from sklearn.model_selection import train_test_split\n",
    "from sklearn.metrics import mean_squared_error\n",
    "import math\n",
    "import seaborn as sns\n",
    "import matplotlib.pyplot as plt\n",
    "%matplotlib inline\n",
    "from sklearn.model_selection import GridSearchCV\n",
    "import plotly.express as px\n",
    "from sklearn.model_selection import train_test_split, KFold, cross_validate, cross_val_score\n",
    "\n",
    "# Input data files are available in the read-only \"../input/\" directory\n",
    "# For example, running this (by clicking run or pressing Shift+Enter) will list all files under the input directory\n",
    "\n",
    "import os\n",
    "for dirname, _, filenames in os.walk('/kaggle/input'):\n",
    "    for filename in filenames:\n",
    "        print(os.path.join(dirname, filename))\n",
    "\n",
    "# You can write up to 20GB to the current directory (/kaggle/working/) that gets preserved as output when you create a version using \"Save & Run All\" \n",
    "# You can also write temporary files to /kaggle/temp/, but they won't be saved outside of the current session"
   ]
  },
  {
   "cell_type": "code",
   "execution_count": 2,
   "metadata": {
    "_cell_guid": "79c7e3d0-c299-4dcb-8224-4455121ee9b0",
    "_uuid": "d629ff2d2480ee46fbb7e2d37f6b5fab8052498a",
    "execution": {
     "iopub.execute_input": "2020-11-17T07:12:41.184870Z",
     "iopub.status.busy": "2020-11-17T07:12:41.184049Z",
     "iopub.status.idle": "2020-11-17T07:12:41.242932Z",
     "shell.execute_reply": "2020-11-17T07:12:41.243597Z"
    },
    "papermill": {
     "duration": 0.116353,
     "end_time": "2020-11-17T07:12:41.243769",
     "exception": false,
     "start_time": "2020-11-17T07:12:41.127416",
     "status": "completed"
    },
    "tags": []
   },
   "outputs": [],
   "source": [
    "full_data = pd.read_csv('/kaggle/input/videogamesales/vgsales.csv')"
   ]
  },
  {
   "cell_type": "code",
   "execution_count": 3,
   "metadata": {
    "execution": {
     "iopub.execute_input": "2020-11-17T07:12:41.370167Z",
     "iopub.status.busy": "2020-11-17T07:12:41.357571Z",
     "iopub.status.idle": "2020-11-17T07:12:41.386145Z",
     "shell.execute_reply": "2020-11-17T07:12:41.385396Z"
    },
    "papermill": {
     "duration": 0.090976,
     "end_time": "2020-11-17T07:12:41.386283",
     "exception": false,
     "start_time": "2020-11-17T07:12:41.295307",
     "status": "completed"
    },
    "tags": []
   },
   "outputs": [
    {
     "data": {
      "text/html": [
       "<div>\n",
       "<style scoped>\n",
       "    .dataframe tbody tr th:only-of-type {\n",
       "        vertical-align: middle;\n",
       "    }\n",
       "\n",
       "    .dataframe tbody tr th {\n",
       "        vertical-align: top;\n",
       "    }\n",
       "\n",
       "    .dataframe thead th {\n",
       "        text-align: right;\n",
       "    }\n",
       "</style>\n",
       "<table border=\"1\" class=\"dataframe\">\n",
       "  <thead>\n",
       "    <tr style=\"text-align: right;\">\n",
       "      <th></th>\n",
       "      <th>Rank</th>\n",
       "      <th>Name</th>\n",
       "      <th>Platform</th>\n",
       "      <th>Year</th>\n",
       "      <th>Genre</th>\n",
       "      <th>Publisher</th>\n",
       "      <th>NA_Sales</th>\n",
       "      <th>EU_Sales</th>\n",
       "      <th>JP_Sales</th>\n",
       "      <th>Other_Sales</th>\n",
       "      <th>Global_Sales</th>\n",
       "    </tr>\n",
       "  </thead>\n",
       "  <tbody>\n",
       "    <tr>\n",
       "      <th>0</th>\n",
       "      <td>1</td>\n",
       "      <td>Wii Sports</td>\n",
       "      <td>Wii</td>\n",
       "      <td>2006.0</td>\n",
       "      <td>Sports</td>\n",
       "      <td>Nintendo</td>\n",
       "      <td>41.49</td>\n",
       "      <td>29.02</td>\n",
       "      <td>3.77</td>\n",
       "      <td>8.46</td>\n",
       "      <td>82.74</td>\n",
       "    </tr>\n",
       "    <tr>\n",
       "      <th>1</th>\n",
       "      <td>2</td>\n",
       "      <td>Super Mario Bros.</td>\n",
       "      <td>NES</td>\n",
       "      <td>1985.0</td>\n",
       "      <td>Platform</td>\n",
       "      <td>Nintendo</td>\n",
       "      <td>29.08</td>\n",
       "      <td>3.58</td>\n",
       "      <td>6.81</td>\n",
       "      <td>0.77</td>\n",
       "      <td>40.24</td>\n",
       "    </tr>\n",
       "    <tr>\n",
       "      <th>2</th>\n",
       "      <td>3</td>\n",
       "      <td>Mario Kart Wii</td>\n",
       "      <td>Wii</td>\n",
       "      <td>2008.0</td>\n",
       "      <td>Racing</td>\n",
       "      <td>Nintendo</td>\n",
       "      <td>15.85</td>\n",
       "      <td>12.88</td>\n",
       "      <td>3.79</td>\n",
       "      <td>3.31</td>\n",
       "      <td>35.82</td>\n",
       "    </tr>\n",
       "    <tr>\n",
       "      <th>3</th>\n",
       "      <td>4</td>\n",
       "      <td>Wii Sports Resort</td>\n",
       "      <td>Wii</td>\n",
       "      <td>2009.0</td>\n",
       "      <td>Sports</td>\n",
       "      <td>Nintendo</td>\n",
       "      <td>15.75</td>\n",
       "      <td>11.01</td>\n",
       "      <td>3.28</td>\n",
       "      <td>2.96</td>\n",
       "      <td>33.00</td>\n",
       "    </tr>\n",
       "    <tr>\n",
       "      <th>4</th>\n",
       "      <td>5</td>\n",
       "      <td>Pokemon Red/Pokemon Blue</td>\n",
       "      <td>GB</td>\n",
       "      <td>1996.0</td>\n",
       "      <td>Role-Playing</td>\n",
       "      <td>Nintendo</td>\n",
       "      <td>11.27</td>\n",
       "      <td>8.89</td>\n",
       "      <td>10.22</td>\n",
       "      <td>1.00</td>\n",
       "      <td>31.37</td>\n",
       "    </tr>\n",
       "  </tbody>\n",
       "</table>\n",
       "</div>"
      ],
      "text/plain": [
       "   Rank                      Name Platform    Year         Genre Publisher  \\\n",
       "0     1                Wii Sports      Wii  2006.0        Sports  Nintendo   \n",
       "1     2         Super Mario Bros.      NES  1985.0      Platform  Nintendo   \n",
       "2     3            Mario Kart Wii      Wii  2008.0        Racing  Nintendo   \n",
       "3     4         Wii Sports Resort      Wii  2009.0        Sports  Nintendo   \n",
       "4     5  Pokemon Red/Pokemon Blue       GB  1996.0  Role-Playing  Nintendo   \n",
       "\n",
       "   NA_Sales  EU_Sales  JP_Sales  Other_Sales  Global_Sales  \n",
       "0     41.49     29.02      3.77         8.46         82.74  \n",
       "1     29.08      3.58      6.81         0.77         40.24  \n",
       "2     15.85     12.88      3.79         3.31         35.82  \n",
       "3     15.75     11.01      3.28         2.96         33.00  \n",
       "4     11.27      8.89     10.22         1.00         31.37  "
      ]
     },
     "execution_count": 3,
     "metadata": {},
     "output_type": "execute_result"
    }
   ],
   "source": [
    "full_data.head()"
   ]
  },
  {
   "cell_type": "code",
   "execution_count": 4,
   "metadata": {
    "execution": {
     "iopub.execute_input": "2020-11-17T07:12:41.499688Z",
     "iopub.status.busy": "2020-11-17T07:12:41.498512Z",
     "iopub.status.idle": "2020-11-17T07:12:41.503360Z",
     "shell.execute_reply": "2020-11-17T07:12:41.503957Z"
    },
    "papermill": {
     "duration": 0.064821,
     "end_time": "2020-11-17T07:12:41.504128",
     "exception": false,
     "start_time": "2020-11-17T07:12:41.439307",
     "status": "completed"
    },
    "tags": []
   },
   "outputs": [
    {
     "name": "stdout",
     "output_type": "stream",
     "text": [
      "Index(['Rank', 'Name', 'Platform', 'Year', 'Genre', 'Publisher', 'NA_Sales',\n",
      "       'EU_Sales', 'JP_Sales', 'Other_Sales', 'Global_Sales'],\n",
      "      dtype='object')\n"
     ]
    },
    {
     "data": {
      "text/plain": [
       "11"
      ]
     },
     "execution_count": 4,
     "metadata": {},
     "output_type": "execute_result"
    }
   ],
   "source": [
    "print(full_data.columns.unique())\n",
    "len(full_data.columns.unique())"
   ]
  },
  {
   "cell_type": "code",
   "execution_count": 5,
   "metadata": {
    "execution": {
     "iopub.execute_input": "2020-11-17T07:12:41.624698Z",
     "iopub.status.busy": "2020-11-17T07:12:41.623816Z",
     "iopub.status.idle": "2020-11-17T07:12:41.638313Z",
     "shell.execute_reply": "2020-11-17T07:12:41.637433Z"
    },
    "papermill": {
     "duration": 0.08092,
     "end_time": "2020-11-17T07:12:41.638448",
     "exception": false,
     "start_time": "2020-11-17T07:12:41.557528",
     "status": "completed"
    },
    "tags": []
   },
   "outputs": [
    {
     "name": "stdout",
     "output_type": "stream",
     "text": [
      "<class 'pandas.core.frame.DataFrame'>\n",
      "RangeIndex: 16598 entries, 0 to 16597\n",
      "Data columns (total 11 columns):\n",
      " #   Column        Non-Null Count  Dtype  \n",
      "---  ------        --------------  -----  \n",
      " 0   Rank          16598 non-null  int64  \n",
      " 1   Name          16598 non-null  object \n",
      " 2   Platform      16598 non-null  object \n",
      " 3   Year          16327 non-null  float64\n",
      " 4   Genre         16598 non-null  object \n",
      " 5   Publisher     16540 non-null  object \n",
      " 6   NA_Sales      16598 non-null  float64\n",
      " 7   EU_Sales      16598 non-null  float64\n",
      " 8   JP_Sales      16598 non-null  float64\n",
      " 9   Other_Sales   16598 non-null  float64\n",
      " 10  Global_Sales  16598 non-null  float64\n",
      "dtypes: float64(6), int64(1), object(4)\n",
      "memory usage: 1.4+ MB\n"
     ]
    }
   ],
   "source": [
    "full_data.info()"
   ]
  },
  {
   "cell_type": "code",
   "execution_count": 6,
   "metadata": {
    "execution": {
     "iopub.execute_input": "2020-11-17T07:12:41.761820Z",
     "iopub.status.busy": "2020-11-17T07:12:41.760924Z",
     "iopub.status.idle": "2020-11-17T07:12:41.781084Z",
     "shell.execute_reply": "2020-11-17T07:12:41.780175Z"
    },
    "papermill": {
     "duration": 0.08875,
     "end_time": "2020-11-17T07:12:41.781228",
     "exception": false,
     "start_time": "2020-11-17T07:12:41.692478",
     "status": "completed"
    },
    "tags": []
   },
   "outputs": [
    {
     "name": "stdout",
     "output_type": "stream",
     "text": [
      "Index(['Year', 'Publisher'], dtype='object')\n"
     ]
    },
    {
     "data": {
      "text/plain": [
       "2"
      ]
     },
     "execution_count": 6,
     "metadata": {},
     "output_type": "execute_result"
    }
   ],
   "source": [
    "print(full_data.columns[full_data.isna().any()].unique())\n",
    "len(full_data.columns[full_data.isna().any()].unique())"
   ]
  },
  {
   "cell_type": "markdown",
   "metadata": {
    "papermill": {
     "duration": 0.055194,
     "end_time": "2020-11-17T07:12:41.891185",
     "exception": false,
     "start_time": "2020-11-17T07:12:41.835991",
     "status": "completed"
    },
    "tags": []
   },
   "source": [
    "OK, so we see that this dataset contains 11 columns of information.\n",
    "\n",
    "\n",
    "**The columns are:**\n",
    "\n",
    "* Rank - Ranking of overall sales, integer\n",
    "\n",
    "* Name - The games name\n",
    "\n",
    "* Platform - Platform of the games release (i.e. PC,PS4, etc.), object\n",
    "\n",
    "* Year - Year of the game's release, float\n",
    "\n",
    "* Genre - Genre of the game ,object\n",
    "\n",
    "* Publisher - Publisher of the game, object\n",
    "\n",
    "* NA_Sales - Sales in North America (in millions), float\n",
    "\n",
    "* EU_Sales - Sales in Europe (in millions), float\n",
    "\n",
    "* JP_Sales - Sales in Japan (in millions), float\n",
    "\n",
    "* Other_Sales - Sales in the rest of the world (in millions), float\n",
    "\n",
    "* Global_Sales - Total worldwide sales, float\n",
    "\n",
    "\n",
    "We also see that two of the columns contain missing values. Let's take a quick look at these two columns."
   ]
  },
  {
   "cell_type": "markdown",
   "metadata": {
    "papermill": {
     "duration": 0.057196,
     "end_time": "2020-11-17T07:12:42.002810",
     "exception": false,
     "start_time": "2020-11-17T07:12:41.945614",
     "status": "completed"
    },
    "tags": []
   },
   "source": [
    "**Year**"
   ]
  },
  {
   "cell_type": "code",
   "execution_count": 7,
   "metadata": {
    "execution": {
     "iopub.execute_input": "2020-11-17T07:12:42.123374Z",
     "iopub.status.busy": "2020-11-17T07:12:42.122317Z",
     "iopub.status.idle": "2020-11-17T07:12:42.126662Z",
     "shell.execute_reply": "2020-11-17T07:12:42.126046Z"
    },
    "papermill": {
     "duration": 0.066116,
     "end_time": "2020-11-17T07:12:42.126799",
     "exception": false,
     "start_time": "2020-11-17T07:12:42.060683",
     "status": "completed"
    },
    "tags": []
   },
   "outputs": [
    {
     "data": {
      "text/plain": [
       "271"
      ]
     },
     "execution_count": 7,
     "metadata": {},
     "output_type": "execute_result"
    }
   ],
   "source": [
    "full_data['Year'].isna().sum()"
   ]
  },
  {
   "cell_type": "code",
   "execution_count": 8,
   "metadata": {
    "execution": {
     "iopub.execute_input": "2020-11-17T07:12:42.246131Z",
     "iopub.status.busy": "2020-11-17T07:12:42.244914Z",
     "iopub.status.idle": "2020-11-17T07:12:42.254513Z",
     "shell.execute_reply": "2020-11-17T07:12:42.253756Z"
    },
    "papermill": {
     "duration": 0.071917,
     "end_time": "2020-11-17T07:12:42.254638",
     "exception": false,
     "start_time": "2020-11-17T07:12:42.182721",
     "status": "completed"
    },
    "tags": []
   },
   "outputs": [
    {
     "data": {
      "text/plain": [
       "2009.0    1431\n",
       "2008.0    1428\n",
       "2010.0    1259\n",
       "2007.0    1202\n",
       "2011.0    1139\n",
       "2006.0    1008\n",
       "2005.0     941\n",
       "2002.0     829\n",
       "2003.0     775\n",
       "2004.0     763\n",
       "2012.0     657\n",
       "2015.0     614\n",
       "2014.0     582\n",
       "2013.0     546\n",
       "2001.0     482\n",
       "1998.0     379\n",
       "2000.0     349\n",
       "2016.0     344\n",
       "1999.0     338\n",
       "1997.0     289\n",
       "1996.0     263\n",
       "1995.0     219\n",
       "1994.0     121\n",
       "1993.0      60\n",
       "1981.0      46\n",
       "1992.0      43\n",
       "1991.0      41\n",
       "1982.0      36\n",
       "1986.0      21\n",
       "1989.0      17\n",
       "1983.0      17\n",
       "1990.0      16\n",
       "1987.0      16\n",
       "1988.0      15\n",
       "1985.0      14\n",
       "1984.0      14\n",
       "1980.0       9\n",
       "2017.0       3\n",
       "2020.0       1\n",
       "Name: Year, dtype: int64"
      ]
     },
     "execution_count": 8,
     "metadata": {},
     "output_type": "execute_result"
    }
   ],
   "source": [
    "full_data['Year'].value_counts()"
   ]
  },
  {
   "cell_type": "code",
   "execution_count": 9,
   "metadata": {
    "execution": {
     "iopub.execute_input": "2020-11-17T07:12:42.398520Z",
     "iopub.status.busy": "2020-11-17T07:12:42.394274Z",
     "iopub.status.idle": "2020-11-17T07:12:42.404241Z",
     "shell.execute_reply": "2020-11-17T07:12:42.403463Z"
    },
    "papermill": {
     "duration": 0.093715,
     "end_time": "2020-11-17T07:12:42.404367",
     "exception": false,
     "start_time": "2020-11-17T07:12:42.310652",
     "status": "completed"
    },
    "tags": []
   },
   "outputs": [
    {
     "data": {
      "text/html": [
       "<div>\n",
       "<style scoped>\n",
       "    .dataframe tbody tr th:only-of-type {\n",
       "        vertical-align: middle;\n",
       "    }\n",
       "\n",
       "    .dataframe tbody tr th {\n",
       "        vertical-align: top;\n",
       "    }\n",
       "\n",
       "    .dataframe thead th {\n",
       "        text-align: right;\n",
       "    }\n",
       "</style>\n",
       "<table border=\"1\" class=\"dataframe\">\n",
       "  <thead>\n",
       "    <tr style=\"text-align: right;\">\n",
       "      <th></th>\n",
       "      <th>Rank</th>\n",
       "      <th>Name</th>\n",
       "      <th>Platform</th>\n",
       "      <th>Year</th>\n",
       "      <th>Genre</th>\n",
       "      <th>Publisher</th>\n",
       "      <th>NA_Sales</th>\n",
       "      <th>EU_Sales</th>\n",
       "      <th>JP_Sales</th>\n",
       "      <th>Other_Sales</th>\n",
       "      <th>Global_Sales</th>\n",
       "    </tr>\n",
       "  </thead>\n",
       "  <tbody>\n",
       "    <tr>\n",
       "      <th>179</th>\n",
       "      <td>180</td>\n",
       "      <td>Madden NFL 2004</td>\n",
       "      <td>PS2</td>\n",
       "      <td>NaN</td>\n",
       "      <td>Sports</td>\n",
       "      <td>Electronic Arts</td>\n",
       "      <td>4.26</td>\n",
       "      <td>0.26</td>\n",
       "      <td>0.01</td>\n",
       "      <td>0.71</td>\n",
       "      <td>5.23</td>\n",
       "    </tr>\n",
       "    <tr>\n",
       "      <th>377</th>\n",
       "      <td>378</td>\n",
       "      <td>FIFA Soccer 2004</td>\n",
       "      <td>PS2</td>\n",
       "      <td>NaN</td>\n",
       "      <td>Sports</td>\n",
       "      <td>Electronic Arts</td>\n",
       "      <td>0.59</td>\n",
       "      <td>2.36</td>\n",
       "      <td>0.04</td>\n",
       "      <td>0.51</td>\n",
       "      <td>3.49</td>\n",
       "    </tr>\n",
       "    <tr>\n",
       "      <th>431</th>\n",
       "      <td>432</td>\n",
       "      <td>LEGO Batman: The Videogame</td>\n",
       "      <td>Wii</td>\n",
       "      <td>NaN</td>\n",
       "      <td>Action</td>\n",
       "      <td>Warner Bros. Interactive Entertainment</td>\n",
       "      <td>1.86</td>\n",
       "      <td>1.02</td>\n",
       "      <td>0.00</td>\n",
       "      <td>0.29</td>\n",
       "      <td>3.17</td>\n",
       "    </tr>\n",
       "    <tr>\n",
       "      <th>470</th>\n",
       "      <td>471</td>\n",
       "      <td>wwe Smackdown vs. Raw 2006</td>\n",
       "      <td>PS2</td>\n",
       "      <td>NaN</td>\n",
       "      <td>Fighting</td>\n",
       "      <td>NaN</td>\n",
       "      <td>1.57</td>\n",
       "      <td>1.02</td>\n",
       "      <td>0.00</td>\n",
       "      <td>0.41</td>\n",
       "      <td>3.00</td>\n",
       "    </tr>\n",
       "    <tr>\n",
       "      <th>607</th>\n",
       "      <td>608</td>\n",
       "      <td>Space Invaders</td>\n",
       "      <td>2600</td>\n",
       "      <td>NaN</td>\n",
       "      <td>Shooter</td>\n",
       "      <td>Atari</td>\n",
       "      <td>2.36</td>\n",
       "      <td>0.14</td>\n",
       "      <td>0.00</td>\n",
       "      <td>0.03</td>\n",
       "      <td>2.53</td>\n",
       "    </tr>\n",
       "    <tr>\n",
       "      <th>624</th>\n",
       "      <td>625</td>\n",
       "      <td>Rock Band</td>\n",
       "      <td>X360</td>\n",
       "      <td>NaN</td>\n",
       "      <td>Misc</td>\n",
       "      <td>Electronic Arts</td>\n",
       "      <td>1.93</td>\n",
       "      <td>0.34</td>\n",
       "      <td>0.00</td>\n",
       "      <td>0.21</td>\n",
       "      <td>2.48</td>\n",
       "    </tr>\n",
       "    <tr>\n",
       "      <th>649</th>\n",
       "      <td>650</td>\n",
       "      <td>Frogger's Adventures: Temple of the Frog</td>\n",
       "      <td>GBA</td>\n",
       "      <td>NaN</td>\n",
       "      <td>Adventure</td>\n",
       "      <td>Konami Digital Entertainment</td>\n",
       "      <td>2.15</td>\n",
       "      <td>0.18</td>\n",
       "      <td>0.00</td>\n",
       "      <td>0.07</td>\n",
       "      <td>2.39</td>\n",
       "    </tr>\n",
       "    <tr>\n",
       "      <th>652</th>\n",
       "      <td>653</td>\n",
       "      <td>LEGO Indiana Jones: The Original Adventures</td>\n",
       "      <td>Wii</td>\n",
       "      <td>NaN</td>\n",
       "      <td>Action</td>\n",
       "      <td>LucasArts</td>\n",
       "      <td>1.54</td>\n",
       "      <td>0.63</td>\n",
       "      <td>0.00</td>\n",
       "      <td>0.22</td>\n",
       "      <td>2.39</td>\n",
       "    </tr>\n",
       "    <tr>\n",
       "      <th>711</th>\n",
       "      <td>713</td>\n",
       "      <td>Call of Duty 3</td>\n",
       "      <td>Wii</td>\n",
       "      <td>NaN</td>\n",
       "      <td>Shooter</td>\n",
       "      <td>Activision</td>\n",
       "      <td>1.19</td>\n",
       "      <td>0.84</td>\n",
       "      <td>0.00</td>\n",
       "      <td>0.23</td>\n",
       "      <td>2.26</td>\n",
       "    </tr>\n",
       "    <tr>\n",
       "      <th>782</th>\n",
       "      <td>784</td>\n",
       "      <td>Rock Band</td>\n",
       "      <td>Wii</td>\n",
       "      <td>NaN</td>\n",
       "      <td>Misc</td>\n",
       "      <td>MTV Games</td>\n",
       "      <td>1.35</td>\n",
       "      <td>0.56</td>\n",
       "      <td>0.00</td>\n",
       "      <td>0.20</td>\n",
       "      <td>2.11</td>\n",
       "    </tr>\n",
       "    <tr>\n",
       "      <th>1126</th>\n",
       "      <td>1128</td>\n",
       "      <td>Call of Duty: Black Ops</td>\n",
       "      <td>PC</td>\n",
       "      <td>NaN</td>\n",
       "      <td>Shooter</td>\n",
       "      <td>Activision</td>\n",
       "      <td>0.58</td>\n",
       "      <td>0.81</td>\n",
       "      <td>0.00</td>\n",
       "      <td>0.24</td>\n",
       "      <td>1.63</td>\n",
       "    </tr>\n",
       "    <tr>\n",
       "      <th>1133</th>\n",
       "      <td>1135</td>\n",
       "      <td>Rock Band</td>\n",
       "      <td>PS3</td>\n",
       "      <td>NaN</td>\n",
       "      <td>Misc</td>\n",
       "      <td>Electronic Arts</td>\n",
       "      <td>0.99</td>\n",
       "      <td>0.41</td>\n",
       "      <td>0.00</td>\n",
       "      <td>0.22</td>\n",
       "      <td>1.62</td>\n",
       "    </tr>\n",
       "    <tr>\n",
       "      <th>1303</th>\n",
       "      <td>1305</td>\n",
       "      <td>Triple Play 99</td>\n",
       "      <td>PS</td>\n",
       "      <td>NaN</td>\n",
       "      <td>Sports</td>\n",
       "      <td>NaN</td>\n",
       "      <td>0.81</td>\n",
       "      <td>0.55</td>\n",
       "      <td>0.00</td>\n",
       "      <td>0.10</td>\n",
       "      <td>1.46</td>\n",
       "    </tr>\n",
       "    <tr>\n",
       "      <th>1433</th>\n",
       "      <td>1435</td>\n",
       "      <td>LEGO Harry Potter: Years 5-7</td>\n",
       "      <td>Wii</td>\n",
       "      <td>NaN</td>\n",
       "      <td>Action</td>\n",
       "      <td>Warner Bros. Interactive Entertainment</td>\n",
       "      <td>0.76</td>\n",
       "      <td>0.47</td>\n",
       "      <td>0.00</td>\n",
       "      <td>0.13</td>\n",
       "      <td>1.36</td>\n",
       "    </tr>\n",
       "    <tr>\n",
       "      <th>1498</th>\n",
       "      <td>1500</td>\n",
       "      <td>LEGO Batman: The Videogame</td>\n",
       "      <td>PSP</td>\n",
       "      <td>NaN</td>\n",
       "      <td>Action</td>\n",
       "      <td>Warner Bros. Interactive Entertainment</td>\n",
       "      <td>0.57</td>\n",
       "      <td>0.46</td>\n",
       "      <td>0.00</td>\n",
       "      <td>0.28</td>\n",
       "      <td>1.32</td>\n",
       "    </tr>\n",
       "    <tr>\n",
       "      <th>1513</th>\n",
       "      <td>1515</td>\n",
       "      <td>Adventure</td>\n",
       "      <td>2600</td>\n",
       "      <td>NaN</td>\n",
       "      <td>Adventure</td>\n",
       "      <td>Atari</td>\n",
       "      <td>1.21</td>\n",
       "      <td>0.08</td>\n",
       "      <td>0.00</td>\n",
       "      <td>0.01</td>\n",
       "      <td>1.30</td>\n",
       "    </tr>\n",
       "    <tr>\n",
       "      <th>1585</th>\n",
       "      <td>1587</td>\n",
       "      <td>Combat</td>\n",
       "      <td>2600</td>\n",
       "      <td>NaN</td>\n",
       "      <td>Action</td>\n",
       "      <td>Atari</td>\n",
       "      <td>1.17</td>\n",
       "      <td>0.07</td>\n",
       "      <td>0.00</td>\n",
       "      <td>0.01</td>\n",
       "      <td>1.25</td>\n",
       "    </tr>\n",
       "    <tr>\n",
       "      <th>1649</th>\n",
       "      <td>1651</td>\n",
       "      <td>NASCAR Thunder 2003</td>\n",
       "      <td>PS2</td>\n",
       "      <td>NaN</td>\n",
       "      <td>Racing</td>\n",
       "      <td>Unknown</td>\n",
       "      <td>0.60</td>\n",
       "      <td>0.46</td>\n",
       "      <td>0.00</td>\n",
       "      <td>0.16</td>\n",
       "      <td>1.22</td>\n",
       "    </tr>\n",
       "    <tr>\n",
       "      <th>1697</th>\n",
       "      <td>1699</td>\n",
       "      <td>Hitman 2: Silent Assassin</td>\n",
       "      <td>XB</td>\n",
       "      <td>NaN</td>\n",
       "      <td>Action</td>\n",
       "      <td>Eidos Interactive</td>\n",
       "      <td>0.76</td>\n",
       "      <td>0.38</td>\n",
       "      <td>0.00</td>\n",
       "      <td>0.05</td>\n",
       "      <td>1.19</td>\n",
       "    </tr>\n",
       "    <tr>\n",
       "      <th>1837</th>\n",
       "      <td>1839</td>\n",
       "      <td>Rock Band</td>\n",
       "      <td>PS2</td>\n",
       "      <td>NaN</td>\n",
       "      <td>Misc</td>\n",
       "      <td>Electronic Arts</td>\n",
       "      <td>0.71</td>\n",
       "      <td>0.06</td>\n",
       "      <td>0.00</td>\n",
       "      <td>0.35</td>\n",
       "      <td>1.11</td>\n",
       "    </tr>\n",
       "  </tbody>\n",
       "</table>\n",
       "</div>"
      ],
      "text/plain": [
       "      Rank                                         Name Platform  Year  \\\n",
       "179    180                              Madden NFL 2004      PS2   NaN   \n",
       "377    378                             FIFA Soccer 2004      PS2   NaN   \n",
       "431    432                   LEGO Batman: The Videogame      Wii   NaN   \n",
       "470    471                   wwe Smackdown vs. Raw 2006      PS2   NaN   \n",
       "607    608                               Space Invaders     2600   NaN   \n",
       "624    625                                    Rock Band     X360   NaN   \n",
       "649    650     Frogger's Adventures: Temple of the Frog      GBA   NaN   \n",
       "652    653  LEGO Indiana Jones: The Original Adventures      Wii   NaN   \n",
       "711    713                               Call of Duty 3      Wii   NaN   \n",
       "782    784                                    Rock Band      Wii   NaN   \n",
       "1126  1128                      Call of Duty: Black Ops       PC   NaN   \n",
       "1133  1135                                    Rock Band      PS3   NaN   \n",
       "1303  1305                               Triple Play 99       PS   NaN   \n",
       "1433  1435                 LEGO Harry Potter: Years 5-7      Wii   NaN   \n",
       "1498  1500                   LEGO Batman: The Videogame      PSP   NaN   \n",
       "1513  1515                                    Adventure     2600   NaN   \n",
       "1585  1587                                       Combat     2600   NaN   \n",
       "1649  1651                          NASCAR Thunder 2003      PS2   NaN   \n",
       "1697  1699                    Hitman 2: Silent Assassin       XB   NaN   \n",
       "1837  1839                                    Rock Band      PS2   NaN   \n",
       "\n",
       "          Genre                               Publisher  NA_Sales  EU_Sales  \\\n",
       "179      Sports                         Electronic Arts      4.26      0.26   \n",
       "377      Sports                         Electronic Arts      0.59      2.36   \n",
       "431      Action  Warner Bros. Interactive Entertainment      1.86      1.02   \n",
       "470    Fighting                                     NaN      1.57      1.02   \n",
       "607     Shooter                                   Atari      2.36      0.14   \n",
       "624        Misc                         Electronic Arts      1.93      0.34   \n",
       "649   Adventure            Konami Digital Entertainment      2.15      0.18   \n",
       "652      Action                               LucasArts      1.54      0.63   \n",
       "711     Shooter                              Activision      1.19      0.84   \n",
       "782        Misc                               MTV Games      1.35      0.56   \n",
       "1126    Shooter                              Activision      0.58      0.81   \n",
       "1133       Misc                         Electronic Arts      0.99      0.41   \n",
       "1303     Sports                                     NaN      0.81      0.55   \n",
       "1433     Action  Warner Bros. Interactive Entertainment      0.76      0.47   \n",
       "1498     Action  Warner Bros. Interactive Entertainment      0.57      0.46   \n",
       "1513  Adventure                                   Atari      1.21      0.08   \n",
       "1585     Action                                   Atari      1.17      0.07   \n",
       "1649     Racing                                 Unknown      0.60      0.46   \n",
       "1697     Action                       Eidos Interactive      0.76      0.38   \n",
       "1837       Misc                         Electronic Arts      0.71      0.06   \n",
       "\n",
       "      JP_Sales  Other_Sales  Global_Sales  \n",
       "179       0.01         0.71          5.23  \n",
       "377       0.04         0.51          3.49  \n",
       "431       0.00         0.29          3.17  \n",
       "470       0.00         0.41          3.00  \n",
       "607       0.00         0.03          2.53  \n",
       "624       0.00         0.21          2.48  \n",
       "649       0.00         0.07          2.39  \n",
       "652       0.00         0.22          2.39  \n",
       "711       0.00         0.23          2.26  \n",
       "782       0.00         0.20          2.11  \n",
       "1126      0.00         0.24          1.63  \n",
       "1133      0.00         0.22          1.62  \n",
       "1303      0.00         0.10          1.46  \n",
       "1433      0.00         0.13          1.36  \n",
       "1498      0.00         0.28          1.32  \n",
       "1513      0.00         0.01          1.30  \n",
       "1585      0.00         0.01          1.25  \n",
       "1649      0.00         0.16          1.22  \n",
       "1697      0.00         0.05          1.19  \n",
       "1837      0.00         0.35          1.11  "
      ]
     },
     "execution_count": 9,
     "metadata": {},
     "output_type": "execute_result"
    }
   ],
   "source": [
    "full_data.loc[full_data['Year'].isna()].head(20)"
   ]
  },
  {
   "cell_type": "code",
   "execution_count": 10,
   "metadata": {
    "execution": {
     "iopub.execute_input": "2020-11-17T07:12:42.525900Z",
     "iopub.status.busy": "2020-11-17T07:12:42.525146Z",
     "iopub.status.idle": "2020-11-17T07:12:42.539419Z",
     "shell.execute_reply": "2020-11-17T07:12:42.538639Z"
    },
    "papermill": {
     "duration": 0.077699,
     "end_time": "2020-11-17T07:12:42.539557",
     "exception": false,
     "start_time": "2020-11-17T07:12:42.461858",
     "status": "completed"
    },
    "tags": []
   },
   "outputs": [
    {
     "data": {
      "text/plain": [
       "Rank            0.178814\n",
       "JP_Sales        0.169316\n",
       "NA_Sales        0.091402\n",
       "Global_Sales    0.074735\n",
       "Other_Sales     0.041058\n",
       "EU_Sales        0.006014\n",
       "Name: Year, dtype: float64"
      ]
     },
     "execution_count": 10,
     "metadata": {},
     "output_type": "execute_result"
    }
   ],
   "source": [
    "year_corr = full_data.corr()[\"Year\"]\n",
    "year_corr.abs().sort_values(ascending=False)[1:]"
   ]
  },
  {
   "cell_type": "markdown",
   "metadata": {
    "papermill": {
     "duration": 0.05762,
     "end_time": "2020-11-17T07:12:42.655337",
     "exception": false,
     "start_time": "2020-11-17T07:12:42.597717",
     "status": "completed"
    },
    "tags": []
   },
   "source": [
    "I cannot really come up with an idea of how to fill these missing year values. It is certainly not too correlated with other columns as the list shows. I will just drop all rows with missing values."
   ]
  },
  {
   "cell_type": "code",
   "execution_count": 11,
   "metadata": {
    "execution": {
     "iopub.execute_input": "2020-11-17T07:12:42.779527Z",
     "iopub.status.busy": "2020-11-17T07:12:42.778694Z",
     "iopub.status.idle": "2020-11-17T07:12:42.784920Z",
     "shell.execute_reply": "2020-11-17T07:12:42.784141Z"
    },
    "papermill": {
     "duration": 0.070957,
     "end_time": "2020-11-17T07:12:42.785072",
     "exception": false,
     "start_time": "2020-11-17T07:12:42.714115",
     "status": "completed"
    },
    "tags": []
   },
   "outputs": [],
   "source": [
    "full_data.drop(full_data.loc[full_data['Year'].isna()].index, inplace=True)"
   ]
  },
  {
   "cell_type": "code",
   "execution_count": 12,
   "metadata": {
    "execution": {
     "iopub.execute_input": "2020-11-17T07:12:42.907574Z",
     "iopub.status.busy": "2020-11-17T07:12:42.906457Z",
     "iopub.status.idle": "2020-11-17T07:12:42.911369Z",
     "shell.execute_reply": "2020-11-17T07:12:42.910631Z"
    },
    "papermill": {
     "duration": 0.068356,
     "end_time": "2020-11-17T07:12:42.911499",
     "exception": false,
     "start_time": "2020-11-17T07:12:42.843143",
     "status": "completed"
    },
    "tags": []
   },
   "outputs": [
    {
     "data": {
      "text/plain": [
       "(16327, 11)"
      ]
     },
     "execution_count": 12,
     "metadata": {},
     "output_type": "execute_result"
    }
   ],
   "source": [
    "full_data.shape"
   ]
  },
  {
   "cell_type": "markdown",
   "metadata": {
    "papermill": {
     "duration": 0.059181,
     "end_time": "2020-11-17T07:12:43.029757",
     "exception": false,
     "start_time": "2020-11-17T07:12:42.970576",
     "status": "completed"
    },
    "tags": []
   },
   "source": [
    "**Publisher**"
   ]
  },
  {
   "cell_type": "code",
   "execution_count": 13,
   "metadata": {
    "execution": {
     "iopub.execute_input": "2020-11-17T07:12:43.157964Z",
     "iopub.status.busy": "2020-11-17T07:12:43.156926Z",
     "iopub.status.idle": "2020-11-17T07:12:43.161071Z",
     "shell.execute_reply": "2020-11-17T07:12:43.161709Z"
    },
    "papermill": {
     "duration": 0.072101,
     "end_time": "2020-11-17T07:12:43.161869",
     "exception": false,
     "start_time": "2020-11-17T07:12:43.089768",
     "status": "completed"
    },
    "tags": []
   },
   "outputs": [
    {
     "data": {
      "text/plain": [
       "36"
      ]
     },
     "execution_count": 13,
     "metadata": {},
     "output_type": "execute_result"
    }
   ],
   "source": [
    "full_data['Publisher'].isna().sum()"
   ]
  },
  {
   "cell_type": "code",
   "execution_count": 14,
   "metadata": {
    "execution": {
     "iopub.execute_input": "2020-11-17T07:12:43.294118Z",
     "iopub.status.busy": "2020-11-17T07:12:43.293102Z",
     "iopub.status.idle": "2020-11-17T07:12:43.297308Z",
     "shell.execute_reply": "2020-11-17T07:12:43.297888Z"
    },
    "papermill": {
     "duration": 0.07585,
     "end_time": "2020-11-17T07:12:43.298106",
     "exception": false,
     "start_time": "2020-11-17T07:12:43.222256",
     "status": "completed"
    },
    "tags": []
   },
   "outputs": [
    {
     "name": "stdout",
     "output_type": "stream",
     "text": [
      "577\n",
      "['Nintendo' 'Microsoft Game Studios' 'Take-Two Interactive'\n",
      " 'Sony Computer Entertainment' 'Activision' 'Ubisoft' 'Bethesda Softworks'\n",
      " 'Electronic Arts' 'Sega' 'SquareSoft' 'Atari' '505 Games' 'Capcom'\n",
      " 'GT Interactive' 'Konami Digital Entertainment'\n",
      " 'Sony Computer Entertainment Europe' 'Square Enix' 'LucasArts'\n",
      " 'Virgin Interactive' 'Warner Bros. Interactive Entertainment'\n",
      " 'Universal Interactive' 'Eidos Interactive' 'RedOctane' 'Vivendi Games'\n",
      " 'Enix Corporation' 'Namco Bandai Games' 'Palcom' 'Hasbro Interactive'\n",
      " 'THQ' 'Fox Interactive' 'Acclaim Entertainment' 'MTV Games'\n",
      " 'Disney Interactive Studios' 'Majesco Entertainment' 'Codemasters'\n",
      " 'Red Orb' 'Level 5' 'Arena Entertainment' 'Midway Games' 'JVC'\n",
      " 'Deep Silver' '989 Studios' 'NCSoft' 'UEP Systems' 'Parker Bros.' 'Maxis'\n",
      " 'Imagic' 'Tecmo Koei' 'Valve Software' 'ASCII Entertainment' 'Mindscape'\n",
      " 'Infogrames' 'Unknown' 'Square' 'Valve' 'Activision Value' 'Banpresto'\n",
      " 'D3Publisher' 'Oxygen Interactive' 'Red Storm Entertainment'\n",
      " 'Video System' 'Hello Games' 'Global Star' 'Gotham Games'\n",
      " 'Westwood Studios' 'GungHo' 'Crave Entertainment' 'Hudson Soft' 'Coleco'\n",
      " 'Rising Star Games' 'Atlus' 'TDK Mediactive' 'ASC Games' 'Zoo Games'\n",
      " 'Accolade' 'Sony Online Entertainment' '3DO' 'RTL' 'Natsume'\n",
      " 'Focus Home Interactive' 'Alchemist' nan 'Black Label Games'\n",
      " 'SouthPeak Games' 'Mastertronic' 'Ocean' 'Zoo Digital Publishing'\n",
      " 'Psygnosis' 'City Interactive' 'Empire Interactive' 'Success' 'Compile'\n",
      " 'Russel' 'Taito' 'Agetec' 'GSP' 'Microprose' 'Play It'\n",
      " 'Slightly Mad Studios' 'Tomy Corporation' 'Sammy Corporation'\n",
      " 'Koch Media' 'Game Factory' 'Titus' 'Marvelous Entertainment' 'Genki'\n",
      " 'Mojang' 'Pinnacle' 'CTO SpA' 'TalonSoft' 'Crystal Dynamics' 'SCi'\n",
      " 'Quelle' 'mixi, Inc' 'Rage Software' 'Ubisoft Annecy' 'Scholastic Inc.'\n",
      " 'Interplay' 'Mystique' 'ChunSoft' 'Square EA'\n",
      " '20th Century Fox Video Games' 'Avanquest Software'\n",
      " 'Hudson Entertainment' 'Nordic Games' 'Men-A-Vision' 'Nobilis'\n",
      " 'Big Ben Interactive' 'Touchstone' 'Spike' 'Jester Interactive'\n",
      " 'Nippon Ichi Software' 'LEGO Media' 'Quest' 'Illusion Softworks'\n",
      " 'Tigervision' 'Funbox Media' 'Rocket Company' 'Metro 3D'\n",
      " 'Mattel Interactive' 'IE Institute' 'Rondomedia'\n",
      " 'Sony Computer Entertainment America' 'Universal Gamex' 'Ghostlight'\n",
      " 'Wizard Video Games' 'BMG Interactive Entertainment' 'PQube'\n",
      " 'Trion Worlds' 'Laguna' 'Ignition Entertainment' 'Takara'\n",
      " 'Kadokawa Shoten' 'Destineer' 'Enterbrain' 'Xseed Games' 'Imagineer'\n",
      " 'System 3 Arcade Software' 'CPG Products' 'Aruze Corp' 'Gamebridge'\n",
      " 'Midas Interactive Entertainment' 'Jaleco' 'Answer Software' 'XS Games'\n",
      " 'Activision Blizzard' 'Pack In Soft' 'Rebellion' 'Xplosiv'\n",
      " 'GameMill Entertainment' 'Wanadoo' 'NovaLogic' 'Telltale Games' 'Epoch'\n",
      " 'BAM! Entertainment' 'Knowledge Adventure' 'Mastiff' 'Tetris Online'\n",
      " 'Harmonix Music Systems' 'ESP' 'TYO' 'Telegames' 'Mud Duck Productions'\n",
      " 'Screenlife' 'Pioneer LDC' 'Magical Company' 'Mentor Interactive' 'Kemco'\n",
      " 'Human Entertainment' 'Avanquest' 'Data Age' 'Electronic Arts Victor'\n",
      " 'Black Bean Games' 'Jack of All Games' '989 Sports' 'Takara Tomy'\n",
      " 'Media Rings' 'Elf' 'Starfish' 'Zushi Games' 'Jorudan'\n",
      " 'Destination Software, Inc' 'New' 'Brash Entertainment'\n",
      " 'ITT Family Games' 'PopCap Games' 'Home Entertainment Suppliers'\n",
      " 'Ackkstudios' 'Starpath Corp.' 'P2 Games' 'BPS' 'Gathering of Developers'\n",
      " 'NewKidCo' 'Storm City Games' 'CokeM Interactive' 'CBS Electronics'\n",
      " 'Magix' 'Marvelous Interactive' 'Kalypso Media'\n",
      " 'Nihon Falcom Corporation' 'Wargaming.net' 'Angel Studios'\n",
      " 'Arc System Works' 'Playmates' 'SNK Playmore' 'Hamster Corporation'\n",
      " 'From Software' 'Nippon Columbia' 'Nichibutsu' 'Little Orbit'\n",
      " 'Conspiracy Entertainment' 'DTP Entertainment' 'Hect' 'Mumbo Jumbo'\n",
      " 'Pacific Century Cyber Works' 'Indie Games' 'Liquid Games' 'NEC' 'Axela'\n",
      " 'ArtDink' 'Sunsoft' 'Gust' 'SNK' 'NEC Interchannel' 'FuRyu'\n",
      " 'Xing Entertainment' 'ValuSoft' 'Victor Interactive' 'Detn8 Games'\n",
      " 'American Softworks' 'Nordcurrent' 'Bomb' 'Falcom Corporation'\n",
      " 'AQ Interactive' 'CCP' 'Milestone S.r.l.' 'JoWood Productions'\n",
      " 'Seta Corporation' 'On Demand' 'NCS' 'Aspyr' 'Gremlin Interactive Ltd'\n",
      " 'Agatsuma Entertainment' 'Compile Heart' 'Culture Brain' 'Mad Catz'\n",
      " 'Shogakukan' 'Merscom LLC' 'Rebellion Developments' 'Nippon Telenet'\n",
      " 'TDK Core' 'bitComposer Games' 'Foreign Media Games' 'Astragon' 'SSI'\n",
      " 'Kadokawa Games' 'Idea Factory' 'Performance Designed Products'\n",
      " 'Asylum Entertainment' 'Core Design Ltd.' 'PlayV' 'UFO Interactive'\n",
      " 'Idea Factory International' 'Playlogic Game Factory' 'Essential Games'\n",
      " 'Adeline Software' 'Funcom' 'Panther Software' 'Blast! Entertainment Ltd'\n",
      " 'Game Life' 'DSI Games' 'Avalon Interactive' 'Popcorn Arcade'\n",
      " 'Neko Entertainment' 'Vir2L Studios' 'Aques' 'Syscom'\n",
      " 'White Park Bay Software' 'System 3' 'Vatical Entertainment' 'Daedalic'\n",
      " 'EA Games' 'Media Factory' 'Vic Tokai' 'The Adventure Company'\n",
      " 'Game Arts' 'Broccoli' 'Acquire' 'General Entertainment'\n",
      " 'Excalibur Publishing' 'Imadio' 'Swing! Entertainment'\n",
      " 'Sony Music Entertainment' 'Aqua Plus' 'Paradox Interactive'\n",
      " 'Hip Interactive' 'DreamCatcher Interactive' 'Tripwire Interactive'\n",
      " 'Sting' 'Yacht Club Games' 'SCS Software' 'Bigben Interactive'\n",
      " 'Havas Interactive' 'Slitherine Software' 'Graffiti' 'Funsta' 'Telstar'\n",
      " 'U.S. Gold' 'DreamWorks Interactive' 'Data Design Interactive' 'MTO'\n",
      " 'DHM Interactive' 'FunSoft' 'SPS' 'Bohemia Interactive'\n",
      " 'Reef Entertainment' 'Tru Blu Entertainment' 'Moss' 'T&E Soft' 'O-Games'\n",
      " 'Aksys Games' 'NDA Productions' 'Data East' 'Time Warner Interactive'\n",
      " 'Gainax Network Systems' 'Daito' 'O3 Entertainment' 'Gameloft'\n",
      " 'Xicat Interactive' 'Simon & Schuster Interactive' 'Valcon Games'\n",
      " 'PopTop Software' 'TOHO' 'HMH Interactive' '5pb' 'Cave'\n",
      " 'CDV Software Entertainment' 'Microids' 'PM Studios' 'Paon' 'Micro Cabin'\n",
      " 'GameTek' 'Benesse' 'Type-Moon' 'Enjoy Gaming ltd.' 'Asmik Corp'\n",
      " 'Interplay Productions' 'Asmik Ace Entertainment' 'inXile Entertainment'\n",
      " 'Image Epoch' 'Phantom EFX' 'Evolved Games' 'responDESIGN'\n",
      " 'Culture Publishers' 'Griffin International' 'Hackberry' 'Hearty Robin'\n",
      " 'Nippon Amuse' 'Origin Systems' 'Seventh Chord' 'Mitsui' 'Milestone'\n",
      " 'Abylight' 'Flight-Plan' 'Glams' 'Locus' 'Warp' 'Daedalic Entertainment'\n",
      " 'Alternative Software' 'Myelin Media' 'Mercury Games'\n",
      " 'Irem Software Engineering' 'Sunrise Interactive' 'Elite'\n",
      " 'Evolution Games' 'Tivola' 'Global A Entertainment' 'Edia' 'Athena'\n",
      " 'Aria' 'Gamecock' 'Tommo' 'Altron' 'Happinet' 'iWin' 'Media Works'\n",
      " 'Fortyfive' 'Revolution Software' 'Imax' 'Crimson Cow' '10TACLE Studios'\n",
      " 'Groove Games' 'Pack-In-Video' 'Insomniac Games'\n",
      " 'Ascaron Entertainment GmbH' 'Asgard' 'Ecole' 'Yumedia' 'Phenomedia'\n",
      " 'HAL Laboratory' 'Grand Prix Games' 'DigiCube' 'Creative Core'\n",
      " 'Kaga Create' 'WayForward Technologies' 'LSP Games' 'ASCII Media Works'\n",
      " 'Coconuts Japan' 'Arika' 'Ertain' 'Marvel Entertainment' 'Prototype'\n",
      " 'Phantagram' '1C Company' 'The Learning Company' 'TechnoSoft' 'Vap'\n",
      " 'Misawa' 'Tradewest' 'Team17 Software' 'Yeti' 'Pow' 'Navarre Corp'\n",
      " 'MediaQuest' 'Max Five' 'Comfort' 'Monte Christo Multimedia'\n",
      " 'Pony Canyon' 'Riverhillsoft' 'Summitsoft' 'Milestone S.r.l' 'Playmore'\n",
      " 'MLB.com' 'Kool Kizz' 'Flashpoint Games' '49Games' 'Legacy Interactive'\n",
      " 'Alawar Entertainment' 'CyberFront' 'Cloud Imperium Games Corporation'\n",
      " 'Societa' 'Virtual Play Games' 'Interchannel' 'Sonnet' 'Experience Inc.'\n",
      " 'Zenrin' 'Iceberg Interactive' 'Ivolgamus' '2D Boy' 'MC2 Entertainment'\n",
      " 'Kando Games' 'Just Flight' 'Office Create' 'Mamba Games' 'Fields'\n",
      " 'Princess Soft' 'Maximum Family Games' 'Berkeley' 'Fuji'\n",
      " 'Dusenberry Martin Racing' 'imageepoch Inc.' 'Big Fish Games'\n",
      " 'Her Interactive' 'Kamui' 'ASK' 'TopWare Interactive' 'Headup Games'\n",
      " 'KSS' 'Cygames' 'KID' 'Quinrose' 'Sunflowers' 'dramatic create' 'TGL'\n",
      " 'Encore' 'Extreme Entertainment Group' 'Intergrow' 'G.Rev' 'Sweets'\n",
      " 'Kokopeli Digital Studios' 'Number None' 'Nexon' 'id Software'\n",
      " 'BushiRoad' 'Tryfirst' 'Strategy First' '7G//AMES' 'GN Software' \"Yuke's\"\n",
      " 'Easy Interactive' 'Licensed 4U' 'FuRyu Corporation'\n",
      " 'Lexicon Entertainment' 'Paon Corporation' 'Kids Station' 'GOA'\n",
      " 'Graphsim Entertainment' 'King Records' 'Introversion Software'\n",
      " 'Minato Station' 'Devolver Digital' 'Blue Byte' 'Gaga'\n",
      " 'Yamasa Entertainment' 'Plenty' 'Views' 'fonfun' 'NetRevo'\n",
      " 'Codemasters Online' 'Quintet' 'Phoenix Games' 'Dorart' 'Marvelous Games'\n",
      " 'Focus Multimedia' 'Imageworks' 'Karin Entertainment' 'Aerosoft'\n",
      " 'Technos Japan Corporation' 'Gakken' 'Mirai Shounen' 'Datam Polystar'\n",
      " 'Saurus' 'HuneX' 'Revolution (Japan)' 'Giza10' 'Visco' 'Alvion' 'Mycom'\n",
      " 'Giga' 'Warashi' 'System Soft' 'Sold Out' 'Lighthouse Interactive'\n",
      " 'Masque Publishing' 'RED Entertainment' 'Michaelsoft'\n",
      " 'Media Entertainment' 'New World Computing' 'Genterprise'\n",
      " 'Interworks Unlimited, Inc.' 'Boost On' 'Stainless Games'\n",
      " 'EON Digital Entertainment' 'Epic Games' 'Naxat Soft'\n",
      " 'Ascaron Entertainment' 'Piacci' 'Nitroplus' 'Paradox Development'\n",
      " 'Otomate' 'Ongakukan' 'Commseed' 'Inti Creates' 'Takuyo'\n",
      " 'Interchannel-Holon' 'Rain Games' 'UIG Entertainment']\n"
     ]
    }
   ],
   "source": [
    "print(len(full_data['Publisher'].unique()))\n",
    "print(full_data['Publisher'].unique())"
   ]
  },
  {
   "cell_type": "code",
   "execution_count": 15,
   "metadata": {
    "execution": {
     "iopub.execute_input": "2020-11-17T07:12:43.461640Z",
     "iopub.status.busy": "2020-11-17T07:12:43.460524Z",
     "iopub.status.idle": "2020-11-17T07:12:43.466584Z",
     "shell.execute_reply": "2020-11-17T07:12:43.465739Z"
    },
    "papermill": {
     "duration": 0.09768,
     "end_time": "2020-11-17T07:12:43.466723",
     "exception": false,
     "start_time": "2020-11-17T07:12:43.369043",
     "status": "completed"
    },
    "tags": []
   },
   "outputs": [
    {
     "data": {
      "text/html": [
       "<div>\n",
       "<style scoped>\n",
       "    .dataframe tbody tr th:only-of-type {\n",
       "        vertical-align: middle;\n",
       "    }\n",
       "\n",
       "    .dataframe tbody tr th {\n",
       "        vertical-align: top;\n",
       "    }\n",
       "\n",
       "    .dataframe thead th {\n",
       "        text-align: right;\n",
       "    }\n",
       "</style>\n",
       "<table border=\"1\" class=\"dataframe\">\n",
       "  <thead>\n",
       "    <tr style=\"text-align: right;\">\n",
       "      <th></th>\n",
       "      <th>Rank</th>\n",
       "      <th>Name</th>\n",
       "      <th>Platform</th>\n",
       "      <th>Year</th>\n",
       "      <th>Genre</th>\n",
       "      <th>Publisher</th>\n",
       "      <th>NA_Sales</th>\n",
       "      <th>EU_Sales</th>\n",
       "      <th>JP_Sales</th>\n",
       "      <th>Other_Sales</th>\n",
       "      <th>Global_Sales</th>\n",
       "    </tr>\n",
       "  </thead>\n",
       "  <tbody>\n",
       "    <tr>\n",
       "      <th>1662</th>\n",
       "      <td>1664</td>\n",
       "      <td>Shrek / Shrek 2 2-in-1 Gameboy Advance Video</td>\n",
       "      <td>GBA</td>\n",
       "      <td>2007.0</td>\n",
       "      <td>Misc</td>\n",
       "      <td>NaN</td>\n",
       "      <td>0.87</td>\n",
       "      <td>0.32</td>\n",
       "      <td>0.0</td>\n",
       "      <td>0.02</td>\n",
       "      <td>1.21</td>\n",
       "    </tr>\n",
       "    <tr>\n",
       "      <th>2222</th>\n",
       "      <td>2224</td>\n",
       "      <td>Bentley's Hackpack</td>\n",
       "      <td>GBA</td>\n",
       "      <td>2005.0</td>\n",
       "      <td>Misc</td>\n",
       "      <td>NaN</td>\n",
       "      <td>0.67</td>\n",
       "      <td>0.25</td>\n",
       "      <td>0.0</td>\n",
       "      <td>0.02</td>\n",
       "      <td>0.93</td>\n",
       "    </tr>\n",
       "    <tr>\n",
       "      <th>3159</th>\n",
       "      <td>3161</td>\n",
       "      <td>Nicktoons Collection: Game Boy Advance Video V...</td>\n",
       "      <td>GBA</td>\n",
       "      <td>2004.0</td>\n",
       "      <td>Misc</td>\n",
       "      <td>NaN</td>\n",
       "      <td>0.46</td>\n",
       "      <td>0.17</td>\n",
       "      <td>0.0</td>\n",
       "      <td>0.01</td>\n",
       "      <td>0.64</td>\n",
       "    </tr>\n",
       "    <tr>\n",
       "      <th>3166</th>\n",
       "      <td>3168</td>\n",
       "      <td>SpongeBob SquarePants: Game Boy Advance Video ...</td>\n",
       "      <td>GBA</td>\n",
       "      <td>2004.0</td>\n",
       "      <td>Misc</td>\n",
       "      <td>NaN</td>\n",
       "      <td>0.46</td>\n",
       "      <td>0.17</td>\n",
       "      <td>0.0</td>\n",
       "      <td>0.01</td>\n",
       "      <td>0.64</td>\n",
       "    </tr>\n",
       "    <tr>\n",
       "      <th>3766</th>\n",
       "      <td>3768</td>\n",
       "      <td>SpongeBob SquarePants: Game Boy Advance Video ...</td>\n",
       "      <td>GBA</td>\n",
       "      <td>2004.0</td>\n",
       "      <td>Misc</td>\n",
       "      <td>NaN</td>\n",
       "      <td>0.38</td>\n",
       "      <td>0.14</td>\n",
       "      <td>0.0</td>\n",
       "      <td>0.01</td>\n",
       "      <td>0.53</td>\n",
       "    </tr>\n",
       "    <tr>\n",
       "      <th>4526</th>\n",
       "      <td>4528</td>\n",
       "      <td>The Fairly Odd Parents: Game Boy Advance Video...</td>\n",
       "      <td>GBA</td>\n",
       "      <td>2004.0</td>\n",
       "      <td>Misc</td>\n",
       "      <td>NaN</td>\n",
       "      <td>0.31</td>\n",
       "      <td>0.11</td>\n",
       "      <td>0.0</td>\n",
       "      <td>0.01</td>\n",
       "      <td>0.43</td>\n",
       "    </tr>\n",
       "    <tr>\n",
       "      <th>4635</th>\n",
       "      <td>4637</td>\n",
       "      <td>The Fairly Odd Parents: Game Boy Advance Video...</td>\n",
       "      <td>GBA</td>\n",
       "      <td>2004.0</td>\n",
       "      <td>Misc</td>\n",
       "      <td>NaN</td>\n",
       "      <td>0.30</td>\n",
       "      <td>0.11</td>\n",
       "      <td>0.0</td>\n",
       "      <td>0.01</td>\n",
       "      <td>0.42</td>\n",
       "    </tr>\n",
       "    <tr>\n",
       "      <th>5647</th>\n",
       "      <td>5649</td>\n",
       "      <td>Cartoon Network Collection: Game Boy Advance V...</td>\n",
       "      <td>GBA</td>\n",
       "      <td>2005.0</td>\n",
       "      <td>Misc</td>\n",
       "      <td>NaN</td>\n",
       "      <td>0.23</td>\n",
       "      <td>0.08</td>\n",
       "      <td>0.0</td>\n",
       "      <td>0.01</td>\n",
       "      <td>0.32</td>\n",
       "    </tr>\n",
       "    <tr>\n",
       "      <th>6437</th>\n",
       "      <td>6439</td>\n",
       "      <td>Sonic X: Game Boy Advance Video Volume 1</td>\n",
       "      <td>GBA</td>\n",
       "      <td>2004.0</td>\n",
       "      <td>Misc</td>\n",
       "      <td>NaN</td>\n",
       "      <td>0.19</td>\n",
       "      <td>0.07</td>\n",
       "      <td>0.0</td>\n",
       "      <td>0.00</td>\n",
       "      <td>0.27</td>\n",
       "    </tr>\n",
       "    <tr>\n",
       "      <th>6562</th>\n",
       "      <td>6564</td>\n",
       "      <td>Dora the Explorer: Game Boy Advance Video Volu...</td>\n",
       "      <td>GBA</td>\n",
       "      <td>2004.0</td>\n",
       "      <td>Misc</td>\n",
       "      <td>NaN</td>\n",
       "      <td>0.18</td>\n",
       "      <td>0.07</td>\n",
       "      <td>0.0</td>\n",
       "      <td>0.00</td>\n",
       "      <td>0.26</td>\n",
       "    </tr>\n",
       "    <tr>\n",
       "      <th>6648</th>\n",
       "      <td>6650</td>\n",
       "      <td>Cartoon Network Collection: Game Boy Advance V...</td>\n",
       "      <td>GBA</td>\n",
       "      <td>2004.0</td>\n",
       "      <td>Misc</td>\n",
       "      <td>NaN</td>\n",
       "      <td>0.18</td>\n",
       "      <td>0.07</td>\n",
       "      <td>0.0</td>\n",
       "      <td>0.00</td>\n",
       "      <td>0.25</td>\n",
       "    </tr>\n",
       "    <tr>\n",
       "      <th>6849</th>\n",
       "      <td>6851</td>\n",
       "      <td>All Grown Up!: Game Boy Advance Video Volume 1</td>\n",
       "      <td>GBA</td>\n",
       "      <td>2004.0</td>\n",
       "      <td>Misc</td>\n",
       "      <td>NaN</td>\n",
       "      <td>0.17</td>\n",
       "      <td>0.06</td>\n",
       "      <td>0.0</td>\n",
       "      <td>0.00</td>\n",
       "      <td>0.24</td>\n",
       "    </tr>\n",
       "    <tr>\n",
       "      <th>7208</th>\n",
       "      <td>7210</td>\n",
       "      <td>Nicktoons Collection: Game Boy Advance Video V...</td>\n",
       "      <td>GBA</td>\n",
       "      <td>2004.0</td>\n",
       "      <td>Misc</td>\n",
       "      <td>NaN</td>\n",
       "      <td>0.16</td>\n",
       "      <td>0.06</td>\n",
       "      <td>0.0</td>\n",
       "      <td>0.00</td>\n",
       "      <td>0.22</td>\n",
       "    </tr>\n",
       "    <tr>\n",
       "      <th>7470</th>\n",
       "      <td>7472</td>\n",
       "      <td>SpongeBob SquarePants: Game Boy Advance Video ...</td>\n",
       "      <td>GBA</td>\n",
       "      <td>2004.0</td>\n",
       "      <td>Misc</td>\n",
       "      <td>NaN</td>\n",
       "      <td>0.15</td>\n",
       "      <td>0.05</td>\n",
       "      <td>0.0</td>\n",
       "      <td>0.00</td>\n",
       "      <td>0.21</td>\n",
       "    </tr>\n",
       "    <tr>\n",
       "      <th>7953</th>\n",
       "      <td>7955</td>\n",
       "      <td>Thomas the Tank Engine &amp; Friends</td>\n",
       "      <td>GBA</td>\n",
       "      <td>2004.0</td>\n",
       "      <td>Adventure</td>\n",
       "      <td>NaN</td>\n",
       "      <td>0.13</td>\n",
       "      <td>0.05</td>\n",
       "      <td>0.0</td>\n",
       "      <td>0.00</td>\n",
       "      <td>0.19</td>\n",
       "    </tr>\n",
       "    <tr>\n",
       "      <th>8330</th>\n",
       "      <td>8332</td>\n",
       "      <td>Dragon Ball GT: Game Boy Advance Video Volume 1</td>\n",
       "      <td>GBA</td>\n",
       "      <td>2004.0</td>\n",
       "      <td>Misc</td>\n",
       "      <td>NaN</td>\n",
       "      <td>0.12</td>\n",
       "      <td>0.05</td>\n",
       "      <td>0.0</td>\n",
       "      <td>0.00</td>\n",
       "      <td>0.17</td>\n",
       "    </tr>\n",
       "    <tr>\n",
       "      <th>8341</th>\n",
       "      <td>8343</td>\n",
       "      <td>Codename: Kids Next Door: Game Boy Advance Vid...</td>\n",
       "      <td>GBA</td>\n",
       "      <td>2004.0</td>\n",
       "      <td>Misc</td>\n",
       "      <td>NaN</td>\n",
       "      <td>0.12</td>\n",
       "      <td>0.05</td>\n",
       "      <td>0.0</td>\n",
       "      <td>0.00</td>\n",
       "      <td>0.17</td>\n",
       "    </tr>\n",
       "    <tr>\n",
       "      <th>8368</th>\n",
       "      <td>8370</td>\n",
       "      <td>Teenage Mutant Ninja Turtles: Game Boy Advance...</td>\n",
       "      <td>GBA</td>\n",
       "      <td>2004.0</td>\n",
       "      <td>Misc</td>\n",
       "      <td>NaN</td>\n",
       "      <td>0.12</td>\n",
       "      <td>0.04</td>\n",
       "      <td>0.0</td>\n",
       "      <td>0.00</td>\n",
       "      <td>0.17</td>\n",
       "    </tr>\n",
       "    <tr>\n",
       "      <th>8503</th>\n",
       "      <td>8505</td>\n",
       "      <td>Stronghold 3</td>\n",
       "      <td>PC</td>\n",
       "      <td>2011.0</td>\n",
       "      <td>Strategy</td>\n",
       "      <td>NaN</td>\n",
       "      <td>0.06</td>\n",
       "      <td>0.10</td>\n",
       "      <td>0.0</td>\n",
       "      <td>0.00</td>\n",
       "      <td>0.16</td>\n",
       "    </tr>\n",
       "    <tr>\n",
       "      <th>8770</th>\n",
       "      <td>8772</td>\n",
       "      <td>Cartoon Network Collection: Game Boy Advance V...</td>\n",
       "      <td>GBA</td>\n",
       "      <td>2005.0</td>\n",
       "      <td>Misc</td>\n",
       "      <td>NaN</td>\n",
       "      <td>0.11</td>\n",
       "      <td>0.04</td>\n",
       "      <td>0.0</td>\n",
       "      <td>0.00</td>\n",
       "      <td>0.15</td>\n",
       "    </tr>\n",
       "  </tbody>\n",
       "</table>\n",
       "</div>"
      ],
      "text/plain": [
       "      Rank                                               Name Platform  \\\n",
       "1662  1664       Shrek / Shrek 2 2-in-1 Gameboy Advance Video      GBA   \n",
       "2222  2224                                 Bentley's Hackpack      GBA   \n",
       "3159  3161  Nicktoons Collection: Game Boy Advance Video V...      GBA   \n",
       "3166  3168  SpongeBob SquarePants: Game Boy Advance Video ...      GBA   \n",
       "3766  3768  SpongeBob SquarePants: Game Boy Advance Video ...      GBA   \n",
       "4526  4528  The Fairly Odd Parents: Game Boy Advance Video...      GBA   \n",
       "4635  4637  The Fairly Odd Parents: Game Boy Advance Video...      GBA   \n",
       "5647  5649  Cartoon Network Collection: Game Boy Advance V...      GBA   \n",
       "6437  6439           Sonic X: Game Boy Advance Video Volume 1      GBA   \n",
       "6562  6564  Dora the Explorer: Game Boy Advance Video Volu...      GBA   \n",
       "6648  6650  Cartoon Network Collection: Game Boy Advance V...      GBA   \n",
       "6849  6851     All Grown Up!: Game Boy Advance Video Volume 1      GBA   \n",
       "7208  7210  Nicktoons Collection: Game Boy Advance Video V...      GBA   \n",
       "7470  7472  SpongeBob SquarePants: Game Boy Advance Video ...      GBA   \n",
       "7953  7955                   Thomas the Tank Engine & Friends      GBA   \n",
       "8330  8332    Dragon Ball GT: Game Boy Advance Video Volume 1      GBA   \n",
       "8341  8343  Codename: Kids Next Door: Game Boy Advance Vid...      GBA   \n",
       "8368  8370  Teenage Mutant Ninja Turtles: Game Boy Advance...      GBA   \n",
       "8503  8505                                       Stronghold 3       PC   \n",
       "8770  8772  Cartoon Network Collection: Game Boy Advance V...      GBA   \n",
       "\n",
       "        Year      Genre Publisher  NA_Sales  EU_Sales  JP_Sales  Other_Sales  \\\n",
       "1662  2007.0       Misc       NaN      0.87      0.32       0.0         0.02   \n",
       "2222  2005.0       Misc       NaN      0.67      0.25       0.0         0.02   \n",
       "3159  2004.0       Misc       NaN      0.46      0.17       0.0         0.01   \n",
       "3166  2004.0       Misc       NaN      0.46      0.17       0.0         0.01   \n",
       "3766  2004.0       Misc       NaN      0.38      0.14       0.0         0.01   \n",
       "4526  2004.0       Misc       NaN      0.31      0.11       0.0         0.01   \n",
       "4635  2004.0       Misc       NaN      0.30      0.11       0.0         0.01   \n",
       "5647  2005.0       Misc       NaN      0.23      0.08       0.0         0.01   \n",
       "6437  2004.0       Misc       NaN      0.19      0.07       0.0         0.00   \n",
       "6562  2004.0       Misc       NaN      0.18      0.07       0.0         0.00   \n",
       "6648  2004.0       Misc       NaN      0.18      0.07       0.0         0.00   \n",
       "6849  2004.0       Misc       NaN      0.17      0.06       0.0         0.00   \n",
       "7208  2004.0       Misc       NaN      0.16      0.06       0.0         0.00   \n",
       "7470  2004.0       Misc       NaN      0.15      0.05       0.0         0.00   \n",
       "7953  2004.0  Adventure       NaN      0.13      0.05       0.0         0.00   \n",
       "8330  2004.0       Misc       NaN      0.12      0.05       0.0         0.00   \n",
       "8341  2004.0       Misc       NaN      0.12      0.05       0.0         0.00   \n",
       "8368  2004.0       Misc       NaN      0.12      0.04       0.0         0.00   \n",
       "8503  2011.0   Strategy       NaN      0.06      0.10       0.0         0.00   \n",
       "8770  2005.0       Misc       NaN      0.11      0.04       0.0         0.00   \n",
       "\n",
       "      Global_Sales  \n",
       "1662          1.21  \n",
       "2222          0.93  \n",
       "3159          0.64  \n",
       "3166          0.64  \n",
       "3766          0.53  \n",
       "4526          0.43  \n",
       "4635          0.42  \n",
       "5647          0.32  \n",
       "6437          0.27  \n",
       "6562          0.26  \n",
       "6648          0.25  \n",
       "6849          0.24  \n",
       "7208          0.22  \n",
       "7470          0.21  \n",
       "7953          0.19  \n",
       "8330          0.17  \n",
       "8341          0.17  \n",
       "8368          0.17  \n",
       "8503          0.16  \n",
       "8770          0.15  "
      ]
     },
     "execution_count": 15,
     "metadata": {},
     "output_type": "execute_result"
    }
   ],
   "source": [
    "full_data.loc[full_data['Publisher'].isna()].head(20)"
   ]
  },
  {
   "cell_type": "markdown",
   "metadata": {
    "papermill": {
     "duration": 0.0609,
     "end_time": "2020-11-17T07:12:43.589600",
     "exception": false,
     "start_time": "2020-11-17T07:12:43.528700",
     "status": "completed"
    },
    "tags": []
   },
   "source": [
    "I don't want to drop more data, so perhaps here I will just give them a Publisher value of 'Unknown'"
   ]
  },
  {
   "cell_type": "code",
   "execution_count": 16,
   "metadata": {
    "execution": {
     "iopub.execute_input": "2020-11-17T07:12:43.723523Z",
     "iopub.status.busy": "2020-11-17T07:12:43.722567Z",
     "iopub.status.idle": "2020-11-17T07:12:43.725360Z",
     "shell.execute_reply": "2020-11-17T07:12:43.725896Z"
    },
    "papermill": {
     "duration": 0.074159,
     "end_time": "2020-11-17T07:12:43.726053",
     "exception": false,
     "start_time": "2020-11-17T07:12:43.651894",
     "status": "completed"
    },
    "tags": []
   },
   "outputs": [],
   "source": [
    "full_data.loc[full_data['Publisher'].isna(), 'Publisher'] = 'Unknown'"
   ]
  },
  {
   "cell_type": "code",
   "execution_count": 17,
   "metadata": {
    "execution": {
     "iopub.execute_input": "2020-11-17T07:12:43.860309Z",
     "iopub.status.busy": "2020-11-17T07:12:43.859189Z",
     "iopub.status.idle": "2020-11-17T07:12:43.864186Z",
     "shell.execute_reply": "2020-11-17T07:12:43.863436Z"
    },
    "papermill": {
     "duration": 0.076018,
     "end_time": "2020-11-17T07:12:43.864316",
     "exception": false,
     "start_time": "2020-11-17T07:12:43.788298",
     "status": "completed"
    },
    "tags": []
   },
   "outputs": [
    {
     "data": {
      "text/plain": [
       "0"
      ]
     },
     "execution_count": 17,
     "metadata": {},
     "output_type": "execute_result"
    }
   ],
   "source": [
    "full_data['Publisher'].isna().sum()"
   ]
  },
  {
   "cell_type": "markdown",
   "metadata": {
    "papermill": {
     "duration": 0.061248,
     "end_time": "2020-11-17T07:12:43.987612",
     "exception": false,
     "start_time": "2020-11-17T07:12:43.926364",
     "status": "completed"
    },
    "tags": []
   },
   "source": [
    "# Univariate Data Analysis\n",
    "\n",
    "Now we have take a quick look at the data. I say we can see more distributions of variables regarding video game sales. (Rank and names obviously don't need to be examined individually)"
   ]
  },
  {
   "cell_type": "markdown",
   "metadata": {
    "papermill": {
     "duration": 0.061079,
     "end_time": "2020-11-17T07:12:44.111030",
     "exception": false,
     "start_time": "2020-11-17T07:12:44.049951",
     "status": "completed"
    },
    "tags": []
   },
   "source": [
    "**Platform**"
   ]
  },
  {
   "cell_type": "code",
   "execution_count": 18,
   "metadata": {
    "execution": {
     "iopub.execute_input": "2020-11-17T07:12:44.244819Z",
     "iopub.status.busy": "2020-11-17T07:12:44.243937Z",
     "iopub.status.idle": "2020-11-17T07:12:44.698596Z",
     "shell.execute_reply": "2020-11-17T07:12:44.697487Z"
    },
    "papermill": {
     "duration": 0.5253,
     "end_time": "2020-11-17T07:12:44.698787",
     "exception": false,
     "start_time": "2020-11-17T07:12:44.173487",
     "status": "completed"
    },
    "tags": []
   },
   "outputs": [
    {
     "data": {
      "image/png": "[encoded data removed]",
      "text/plain": [
       "<Figure size 1080x720 with 1 Axes>"
      ]
     },
     "metadata": {
      "needs_background": "light"
     },
     "output_type": "display_data"
    },
    {
     "name": "stdout",
     "output_type": "stream",
     "text": [
      "DS      13.064249\n",
      "PS2     13.027500\n",
      "PS3      7.986770\n",
      "Wii      7.901023\n",
      "X360     7.564158\n",
      "PSP      7.331414\n",
      "PS       7.282416\n",
      "PC       5.775709\n",
      "GBA      4.967232\n",
      "XB       4.918234\n",
      "GC       3.319655\n",
      "3DS      3.062412\n",
      "PSV      2.523427\n",
      "PS4      2.057941\n",
      "N64      1.935444\n",
      "SNES     1.463833\n",
      "XOne     1.304587\n",
      "SAT      1.059595\n",
      "WiiU     0.875850\n",
      "2600     0.710480\n",
      "NES      0.600233\n",
      "GB       0.594108\n",
      "DC       0.318491\n",
      "GEN      0.165370\n",
      "NG       0.073498\n",
      "WS       0.036749\n",
      "SCD      0.036749\n",
      "3DO      0.018374\n",
      "TG16     0.012250\n",
      "GG       0.006125\n",
      "PCFX     0.006125\n",
      "Name: Platform, dtype: float64\n"
     ]
    }
   ],
   "source": [
    "plt.figure(figsize=(15, 10))\n",
    "plt.title(\"Platforms\")\n",
    "sns.countplot(x=full_data['Platform'], order=full_data['Platform'].value_counts().index)\n",
    "plt.show()\n",
    "\n",
    "print(full_data['Platform'].value_counts() / full_data.shape[0] * 100)"
   ]
  },
  {
   "cell_type": "markdown",
   "metadata": {
    "papermill": {
     "duration": 0.06334,
     "end_time": "2020-11-17T07:12:44.826481",
     "exception": false,
     "start_time": "2020-11-17T07:12:44.763141",
     "status": "completed"
    },
    "tags": []
   },
   "source": [
    "So we see that the most popular platforms are like DS, PS2, PS3, PC, and etc. This follows our expectations."
   ]
  },
  {
   "cell_type": "markdown",
   "metadata": {
    "papermill": {
     "duration": 0.062951,
     "end_time": "2020-11-17T07:12:44.955277",
     "exception": false,
     "start_time": "2020-11-17T07:12:44.892326",
     "status": "completed"
    },
    "tags": []
   },
   "source": [
    "**Year**"
   ]
  },
  {
   "cell_type": "code",
   "execution_count": 19,
   "metadata": {
    "execution": {
     "iopub.execute_input": "2020-11-17T07:12:45.101113Z",
     "iopub.status.busy": "2020-11-17T07:12:45.098669Z",
     "iopub.status.idle": "2020-11-17T07:12:45.579178Z",
     "shell.execute_reply": "2020-11-17T07:12:45.578358Z"
    },
    "papermill": {
     "duration": 0.560654,
     "end_time": "2020-11-17T07:12:45.579311",
     "exception": false,
     "start_time": "2020-11-17T07:12:45.018657",
     "status": "completed"
    },
    "tags": []
   },
   "outputs": [
    {
     "data": {
      "image/png": "[encoded data removed]",
      "text/plain": [
       "<Figure size 2520x720 with 1 Axes>"
      ]
     },
     "metadata": {
      "needs_background": "light"
     },
     "output_type": "display_data"
    },
    {
     "name": "stdout",
     "output_type": "stream",
     "text": [
      "2009.0    8.764623\n",
      "2008.0    8.746249\n",
      "2010.0    7.711153\n",
      "2007.0    7.362038\n",
      "2011.0    6.976174\n",
      "2006.0    6.173823\n",
      "2005.0    5.763459\n",
      "2002.0    5.077479\n",
      "2003.0    4.746739\n",
      "2004.0    4.673241\n",
      "2012.0    4.024009\n",
      "2015.0    3.760642\n",
      "2014.0    3.564648\n",
      "2013.0    3.344154\n",
      "2001.0    2.952165\n",
      "1998.0    2.321308\n",
      "2000.0    2.137564\n",
      "2016.0    2.106939\n",
      "1999.0    2.070190\n",
      "1997.0    1.770074\n",
      "1996.0    1.610829\n",
      "1995.0    1.341336\n",
      "1994.0    0.741104\n",
      "1993.0    0.367489\n",
      "1981.0    0.281742\n",
      "1992.0    0.263367\n",
      "1991.0    0.251118\n",
      "1982.0    0.220494\n",
      "1986.0    0.128621\n",
      "1983.0    0.104122\n",
      "1989.0    0.104122\n",
      "1990.0    0.097997\n",
      "1987.0    0.097997\n",
      "1988.0    0.091872\n",
      "1985.0    0.085748\n",
      "1984.0    0.085748\n",
      "1980.0    0.055123\n",
      "2017.0    0.018374\n",
      "2020.0    0.006125\n",
      "Name: Year, dtype: float64\n"
     ]
    }
   ],
   "source": [
    "plt.figure(figsize=(35, 10))\n",
    "plt.title(\"Year\")\n",
    "sns.countplot(x=full_data['Year'], order=full_data['Year'].value_counts().index)\n",
    "plt.show()\n",
    "\n",
    "print(full_data['Year'].value_counts() / full_data.shape[0] * 100)"
   ]
  },
  {
   "cell_type": "markdown",
   "metadata": {
    "papermill": {
     "duration": 0.065017,
     "end_time": "2020-11-17T07:12:45.710214",
     "exception": false,
     "start_time": "2020-11-17T07:12:45.645197",
     "status": "completed"
    },
    "tags": []
   },
   "source": [
    "We see that most games were released around 2010, which I think is partly due to the time this dataset was collected and partly because that time period was when devices like computer or game station really gained popularity."
   ]
  },
  {
   "cell_type": "markdown",
   "metadata": {
    "papermill": {
     "duration": 0.065458,
     "end_time": "2020-11-17T07:12:45.841724",
     "exception": false,
     "start_time": "2020-11-17T07:12:45.776266",
     "status": "completed"
    },
    "tags": []
   },
   "source": [
    "**Genre**"
   ]
  },
  {
   "cell_type": "code",
   "execution_count": 20,
   "metadata": {
    "execution": {
     "iopub.execute_input": "2020-11-17T07:12:45.986732Z",
     "iopub.status.busy": "2020-11-17T07:12:45.985570Z",
     "iopub.status.idle": "2020-11-17T07:12:46.236240Z",
     "shell.execute_reply": "2020-11-17T07:12:46.235394Z"
    },
    "papermill": {
     "duration": 0.329247,
     "end_time": "2020-11-17T07:12:46.236421",
     "exception": false,
     "start_time": "2020-11-17T07:12:45.907174",
     "status": "completed"
    },
    "tags": []
   },
   "outputs": [
    {
     "data": {
      "image/png": "[encoded data removed]",
      "text/plain": [
       "<Figure size 1080x720 with 1 Axes>"
      ]
     },
     "metadata": {
      "needs_background": "light"
     },
     "output_type": "display_data"
    },
    {
     "name": "stdout",
     "output_type": "stream",
     "text": [
      "Action          19.924052\n",
      "Sports          14.111594\n",
      "Misc            10.473449\n",
      "Role-Playing     9.009616\n",
      "Shooter          7.852024\n",
      "Adventure        7.815275\n",
      "Racing           7.509034\n",
      "Platform         5.365346\n",
      "Simulation       5.212225\n",
      "Fighting         5.120353\n",
      "Strategy         4.109757\n",
      "Puzzle           3.497274\n",
      "Name: Genre, dtype: float64\n"
     ]
    }
   ],
   "source": [
    "plt.figure(figsize=(15, 10))\n",
    "plt.title(\"Genre\")\n",
    "sns.countplot(x=full_data['Genre'], order=full_data['Genre'].value_counts().index)\n",
    "plt.show()\n",
    "\n",
    "print(full_data['Genre'].value_counts() / full_data.shape[0] * 100)"
   ]
  },
  {
   "cell_type": "markdown",
   "metadata": {
    "papermill": {
     "duration": 0.066231,
     "end_time": "2020-11-17T07:12:46.370278",
     "exception": false,
     "start_time": "2020-11-17T07:12:46.304047",
     "status": "completed"
    },
    "tags": []
   },
   "source": [
    "This shows that the most popular genres are action and sports. Again, this kinda follows our expectations. Action games are usually the most popular kind."
   ]
  },
  {
   "cell_type": "markdown",
   "metadata": {
    "papermill": {
     "duration": 0.066306,
     "end_time": "2020-11-17T07:12:46.503867",
     "exception": false,
     "start_time": "2020-11-17T07:12:46.437561",
     "status": "completed"
    },
    "tags": []
   },
   "source": [
    "**Publisher**\n",
    "\n",
    "Since there are too many publishers, let's just focus on the top 10 most popular publishers."
   ]
  },
  {
   "cell_type": "code",
   "execution_count": 21,
   "metadata": {
    "execution": {
     "iopub.execute_input": "2020-11-17T07:12:46.649768Z",
     "iopub.status.busy": "2020-11-17T07:12:46.648823Z",
     "iopub.status.idle": "2020-11-17T07:12:46.653337Z",
     "shell.execute_reply": "2020-11-17T07:12:46.652640Z"
    },
    "papermill": {
     "duration": 0.082885,
     "end_time": "2020-11-17T07:12:46.653471",
     "exception": false,
     "start_time": "2020-11-17T07:12:46.570586",
     "status": "completed"
    },
    "tags": []
   },
   "outputs": [],
   "source": [
    "top_ten = full_data['Publisher'].value_counts().head(10)"
   ]
  },
  {
   "cell_type": "code",
   "execution_count": 22,
   "metadata": {
    "execution": {
     "iopub.execute_input": "2020-11-17T07:12:46.852338Z",
     "iopub.status.busy": "2020-11-17T07:12:46.851225Z",
     "iopub.status.idle": "2020-11-17T07:12:47.088033Z",
     "shell.execute_reply": "2020-11-17T07:12:47.088811Z"
    },
    "papermill": {
     "duration": 0.368287,
     "end_time": "2020-11-17T07:12:47.088985",
     "exception": false,
     "start_time": "2020-11-17T07:12:46.720698",
     "status": "completed"
    },
    "tags": []
   },
   "outputs": [
    {
     "data": {
      "image/png": "[encoded data removed]",
      "text/plain": [
       "<Figure size 1080x720 with 1 Axes>"
      ]
     },
     "metadata": {
      "needs_background": "light"
     },
     "output_type": "display_data"
    },
    {
     "name": "stdout",
     "output_type": "stream",
     "text": [
      "Electronic Arts                 8.201139\n",
      "Activision                      5.916580\n",
      "Namco Bandai Games              5.683837\n",
      "Ubisoft                         5.622588\n",
      "Konami Digital Entertainment    5.040730\n",
      "THQ                             4.360875\n",
      "Nintendo                        4.262877\n",
      "Sony Computer Entertainment     4.177130\n",
      "Sega                            3.870889\n",
      "Take-Two Interactive            2.523427\n",
      "Name: Publisher, dtype: float64\n"
     ]
    }
   ],
   "source": [
    "plt.figure(figsize=(15, 10))\n",
    "plt.title(\"Publisher\")\n",
    "sns.countplot(x=full_data['Publisher'], order=top_ten.index)\n",
    "plt.show()\n",
    "\n",
    "print(top_ten / full_data.shape[0] * 100)"
   ]
  },
  {
   "cell_type": "markdown",
   "metadata": {
    "papermill": {
     "duration": 0.069434,
     "end_time": "2020-11-17T07:12:47.227687",
     "exception": false,
     "start_time": "2020-11-17T07:12:47.158253",
     "status": "completed"
    },
    "tags": []
   },
   "source": [
    "So basically the companies that sell the most amount of games are like EA, Activision, NBG, Ubisoft, and others. These companies are indeed the most famous ones out there."
   ]
  },
  {
   "cell_type": "markdown",
   "metadata": {
    "papermill": {
     "duration": 0.068127,
     "end_time": "2020-11-17T07:12:47.364590",
     "exception": false,
     "start_time": "2020-11-17T07:12:47.296463",
     "status": "completed"
    },
    "tags": []
   },
   "source": [
    "**Sales in North America**"
   ]
  },
  {
   "cell_type": "code",
   "execution_count": 23,
   "metadata": {
    "execution": {
     "iopub.execute_input": "2020-11-17T07:12:47.509921Z",
     "iopub.status.busy": "2020-11-17T07:12:47.509018Z",
     "iopub.status.idle": "2020-11-17T07:12:47.821851Z",
     "shell.execute_reply": "2020-11-17T07:12:47.822645Z"
    },
    "papermill": {
     "duration": 0.389272,
     "end_time": "2020-11-17T07:12:47.822873",
     "exception": false,
     "start_time": "2020-11-17T07:12:47.433601",
     "status": "completed"
    },
    "tags": []
   },
   "outputs": [
    {
     "data": {
      "image/png": "[encoded data removed]",
      "text/plain": [
       "<Figure size 1080x720 with 1 Axes>"
      ]
     },
     "metadata": {
      "needs_background": "light"
     },
     "output_type": "display_data"
    },
    {
     "name": "stdout",
     "output_type": "stream",
     "text": [
      "count    16327.000000\n",
      "mean         0.265415\n",
      "std          0.821591\n",
      "min          0.000000\n",
      "25%          0.000000\n",
      "50%          0.080000\n",
      "75%          0.240000\n",
      "max         41.490000\n",
      "Name: NA_Sales, dtype: float64\n"
     ]
    }
   ],
   "source": [
    "plt.figure(figsize=(15, 10))\n",
    "plt.title(\"North America Sales\")\n",
    "sns.distplot(a=full_data['NA_Sales'], kde=False)\n",
    "plt.show()\n",
    "\n",
    "print(full_data['NA_Sales'].describe())"
   ]
  },
  {
   "cell_type": "markdown",
   "metadata": {
    "papermill": {
     "duration": 0.070575,
     "end_time": "2020-11-17T07:12:47.965482",
     "exception": false,
     "start_time": "2020-11-17T07:12:47.894907",
     "status": "completed"
    },
    "tags": []
   },
   "source": [
    "OK, so we see that the sales in North America is highly right-skewed. Most companies will not even make a million sales in NA, but there is a game that sold 41.49 million times! I wonder what game that is. Let's check out."
   ]
  },
  {
   "cell_type": "code",
   "execution_count": 24,
   "metadata": {
    "execution": {
     "iopub.execute_input": "2020-11-17T07:12:48.115884Z",
     "iopub.status.busy": "2020-11-17T07:12:48.114970Z",
     "iopub.status.idle": "2020-11-17T07:12:48.133105Z",
     "shell.execute_reply": "2020-11-17T07:12:48.132358Z"
    },
    "papermill": {
     "duration": 0.096272,
     "end_time": "2020-11-17T07:12:48.133252",
     "exception": false,
     "start_time": "2020-11-17T07:12:48.036980",
     "status": "completed"
    },
    "tags": []
   },
   "outputs": [
    {
     "data": {
      "text/html": [
       "<div>\n",
       "<style scoped>\n",
       "    .dataframe tbody tr th:only-of-type {\n",
       "        vertical-align: middle;\n",
       "    }\n",
       "\n",
       "    .dataframe tbody tr th {\n",
       "        vertical-align: top;\n",
       "    }\n",
       "\n",
       "    .dataframe thead th {\n",
       "        text-align: right;\n",
       "    }\n",
       "</style>\n",
       "<table border=\"1\" class=\"dataframe\">\n",
       "  <thead>\n",
       "    <tr style=\"text-align: right;\">\n",
       "      <th></th>\n",
       "      <th>Rank</th>\n",
       "      <th>Name</th>\n",
       "      <th>Platform</th>\n",
       "      <th>Year</th>\n",
       "      <th>Genre</th>\n",
       "      <th>Publisher</th>\n",
       "      <th>NA_Sales</th>\n",
       "      <th>EU_Sales</th>\n",
       "      <th>JP_Sales</th>\n",
       "      <th>Other_Sales</th>\n",
       "      <th>Global_Sales</th>\n",
       "    </tr>\n",
       "  </thead>\n",
       "  <tbody>\n",
       "    <tr>\n",
       "      <th>0</th>\n",
       "      <td>1</td>\n",
       "      <td>Wii Sports</td>\n",
       "      <td>Wii</td>\n",
       "      <td>2006.0</td>\n",
       "      <td>Sports</td>\n",
       "      <td>Nintendo</td>\n",
       "      <td>41.49</td>\n",
       "      <td>29.02</td>\n",
       "      <td>3.77</td>\n",
       "      <td>8.46</td>\n",
       "      <td>82.74</td>\n",
       "    </tr>\n",
       "  </tbody>\n",
       "</table>\n",
       "</div>"
      ],
      "text/plain": [
       "   Rank        Name Platform    Year   Genre Publisher  NA_Sales  EU_Sales  \\\n",
       "0     1  Wii Sports      Wii  2006.0  Sports  Nintendo     41.49     29.02   \n",
       "\n",
       "   JP_Sales  Other_Sales  Global_Sales  \n",
       "0      3.77         8.46         82.74  "
      ]
     },
     "execution_count": 24,
     "metadata": {},
     "output_type": "execute_result"
    }
   ],
   "source": [
    "full_data.loc[full_data['NA_Sales'] == 41.49]"
   ]
  },
  {
   "cell_type": "markdown",
   "metadata": {
    "papermill": {
     "duration": 0.072083,
     "end_time": "2020-11-17T07:12:48.277848",
     "exception": false,
     "start_time": "2020-11-17T07:12:48.205765",
     "status": "completed"
    },
    "tags": []
   },
   "source": [
    "Wii Sports it is. Also, this is actually the #1 game in the rank! No wonder why the game is this popular in North America."
   ]
  },
  {
   "cell_type": "markdown",
   "metadata": {
    "papermill": {
     "duration": 0.071903,
     "end_time": "2020-11-17T07:12:48.420893",
     "exception": false,
     "start_time": "2020-11-17T07:12:48.348990",
     "status": "completed"
    },
    "tags": []
   },
   "source": [
    "**Sales in Europe**"
   ]
  },
  {
   "cell_type": "code",
   "execution_count": 25,
   "metadata": {
    "execution": {
     "iopub.execute_input": "2020-11-17T07:12:48.688829Z",
     "iopub.status.busy": "2020-11-17T07:12:48.686220Z",
     "iopub.status.idle": "2020-11-17T07:12:49.001118Z",
     "shell.execute_reply": "2020-11-17T07:12:49.001800Z"
    },
    "papermill": {
     "duration": 0.509348,
     "end_time": "2020-11-17T07:12:49.001984",
     "exception": false,
     "start_time": "2020-11-17T07:12:48.492636",
     "status": "completed"
    },
    "tags": []
   },
   "outputs": [
    {
     "data": {
      "image/png": "[encoded data removed]",
      "text/plain": [
       "<Figure size 1080x720 with 1 Axes>"
      ]
     },
     "metadata": {
      "needs_background": "light"
     },
     "output_type": "display_data"
    },
    {
     "name": "stdout",
     "output_type": "stream",
     "text": [
      "count    16327.000000\n",
      "mean         0.147554\n",
      "std          0.508766\n",
      "min          0.000000\n",
      "25%          0.000000\n",
      "50%          0.020000\n",
      "75%          0.110000\n",
      "max         29.020000\n",
      "Name: EU_Sales, dtype: float64\n"
     ]
    }
   ],
   "source": [
    "plt.figure(figsize=(15, 10))\n",
    "plt.title(\"Europe Sales\")\n",
    "sns.distplot(a=full_data['EU_Sales'], kde=False)\n",
    "plt.show()\n",
    "\n",
    "print(full_data['EU_Sales'].describe())"
   ]
  },
  {
   "cell_type": "markdown",
   "metadata": {
    "papermill": {
     "duration": 0.072117,
     "end_time": "2020-11-17T07:12:49.147747",
     "exception": false,
     "start_time": "2020-11-17T07:12:49.075630",
     "status": "completed"
    },
    "tags": []
   },
   "source": [
    "Again, the distribution is highly right skewed. This again indicates that the video game market is somewhat an oligopoly. Most companies will only have a small share in the market, but there are a few that will sell exponentially more. Also, let's check which game has the most sales in Europe. "
   ]
  },
  {
   "cell_type": "code",
   "execution_count": 26,
   "metadata": {
    "execution": {
     "iopub.execute_input": "2020-11-17T07:12:49.313156Z",
     "iopub.status.busy": "2020-11-17T07:12:49.312249Z",
     "iopub.status.idle": "2020-11-17T07:12:49.317159Z",
     "shell.execute_reply": "2020-11-17T07:12:49.316396Z"
    },
    "papermill": {
     "duration": 0.095869,
     "end_time": "2020-11-17T07:12:49.317293",
     "exception": false,
     "start_time": "2020-11-17T07:12:49.221424",
     "status": "completed"
    },
    "tags": []
   },
   "outputs": [
    {
     "data": {
      "text/html": [
       "<div>\n",
       "<style scoped>\n",
       "    .dataframe tbody tr th:only-of-type {\n",
       "        vertical-align: middle;\n",
       "    }\n",
       "\n",
       "    .dataframe tbody tr th {\n",
       "        vertical-align: top;\n",
       "    }\n",
       "\n",
       "    .dataframe thead th {\n",
       "        text-align: right;\n",
       "    }\n",
       "</style>\n",
       "<table border=\"1\" class=\"dataframe\">\n",
       "  <thead>\n",
       "    <tr style=\"text-align: right;\">\n",
       "      <th></th>\n",
       "      <th>Rank</th>\n",
       "      <th>Name</th>\n",
       "      <th>Platform</th>\n",
       "      <th>Year</th>\n",
       "      <th>Genre</th>\n",
       "      <th>Publisher</th>\n",
       "      <th>NA_Sales</th>\n",
       "      <th>EU_Sales</th>\n",
       "      <th>JP_Sales</th>\n",
       "      <th>Other_Sales</th>\n",
       "      <th>Global_Sales</th>\n",
       "    </tr>\n",
       "  </thead>\n",
       "  <tbody>\n",
       "    <tr>\n",
       "      <th>0</th>\n",
       "      <td>1</td>\n",
       "      <td>Wii Sports</td>\n",
       "      <td>Wii</td>\n",
       "      <td>2006.0</td>\n",
       "      <td>Sports</td>\n",
       "      <td>Nintendo</td>\n",
       "      <td>41.49</td>\n",
       "      <td>29.02</td>\n",
       "      <td>3.77</td>\n",
       "      <td>8.46</td>\n",
       "      <td>82.74</td>\n",
       "    </tr>\n",
       "  </tbody>\n",
       "</table>\n",
       "</div>"
      ],
      "text/plain": [
       "   Rank        Name Platform    Year   Genre Publisher  NA_Sales  EU_Sales  \\\n",
       "0     1  Wii Sports      Wii  2006.0  Sports  Nintendo     41.49     29.02   \n",
       "\n",
       "   JP_Sales  Other_Sales  Global_Sales  \n",
       "0      3.77         8.46         82.74  "
      ]
     },
     "execution_count": 26,
     "metadata": {},
     "output_type": "execute_result"
    }
   ],
   "source": [
    "full_data.loc[full_data['EU_Sales'] == 29.02]"
   ]
  },
  {
   "cell_type": "markdown",
   "metadata": {
    "papermill": {
     "duration": 0.072696,
     "end_time": "2020-11-17T07:12:49.464345",
     "exception": false,
     "start_time": "2020-11-17T07:12:49.391649",
     "status": "completed"
    },
    "tags": []
   },
   "source": [
    "Well, it is again Wii Sports."
   ]
  },
  {
   "cell_type": "markdown",
   "metadata": {
    "papermill": {
     "duration": 0.073446,
     "end_time": "2020-11-17T07:12:49.610818",
     "exception": false,
     "start_time": "2020-11-17T07:12:49.537372",
     "status": "completed"
    },
    "tags": []
   },
   "source": [
    "**Sales in Japan**"
   ]
  },
  {
   "cell_type": "code",
   "execution_count": 27,
   "metadata": {
    "execution": {
     "iopub.execute_input": "2020-11-17T07:12:49.775237Z",
     "iopub.status.busy": "2020-11-17T07:12:49.773680Z",
     "iopub.status.idle": "2020-11-17T07:12:50.086531Z",
     "shell.execute_reply": "2020-11-17T07:12:50.085715Z"
    },
    "papermill": {
     "duration": 0.401347,
     "end_time": "2020-11-17T07:12:50.086683",
     "exception": false,
     "start_time": "2020-11-17T07:12:49.685336",
     "status": "completed"
    },
    "tags": []
   },
   "outputs": [
    {
     "data": {
      "image/png": "[encoded data removed]",
      "text/plain": [
       "<Figure size 1080x720 with 1 Axes>"
      ]
     },
     "metadata": {
      "needs_background": "light"
     },
     "output_type": "display_data"
    },
    {
     "name": "stdout",
     "output_type": "stream",
     "text": [
      "count    16327.000000\n",
      "mean         0.078661\n",
      "std          0.311557\n",
      "min          0.000000\n",
      "25%          0.000000\n",
      "50%          0.000000\n",
      "75%          0.040000\n",
      "max         10.220000\n",
      "Name: JP_Sales, dtype: float64\n"
     ]
    }
   ],
   "source": [
    "plt.figure(figsize=(15, 10))\n",
    "plt.title(\"Japan Sales\")\n",
    "sns.distplot(a=full_data['JP_Sales'], kde=False)\n",
    "plt.show()\n",
    "\n",
    "print(full_data['JP_Sales'].describe())"
   ]
  },
  {
   "cell_type": "markdown",
   "metadata": {
    "papermill": {
     "duration": 0.07593,
     "end_time": "2020-11-17T07:12:50.239625",
     "exception": false,
     "start_time": "2020-11-17T07:12:50.163695",
     "status": "completed"
    },
    "tags": []
   },
   "source": [
    "Still right-skewed, and the game that has the most sale is:"
   ]
  },
  {
   "cell_type": "code",
   "execution_count": 28,
   "metadata": {
    "execution": {
     "iopub.execute_input": "2020-11-17T07:12:50.409483Z",
     "iopub.status.busy": "2020-11-17T07:12:50.408534Z",
     "iopub.status.idle": "2020-11-17T07:12:50.413789Z",
     "shell.execute_reply": "2020-11-17T07:12:50.413037Z"
    },
    "papermill": {
     "duration": 0.099131,
     "end_time": "2020-11-17T07:12:50.413914",
     "exception": false,
     "start_time": "2020-11-17T07:12:50.314783",
     "status": "completed"
    },
    "tags": []
   },
   "outputs": [
    {
     "data": {
      "text/html": [
       "<div>\n",
       "<style scoped>\n",
       "    .dataframe tbody tr th:only-of-type {\n",
       "        vertical-align: middle;\n",
       "    }\n",
       "\n",
       "    .dataframe tbody tr th {\n",
       "        vertical-align: top;\n",
       "    }\n",
       "\n",
       "    .dataframe thead th {\n",
       "        text-align: right;\n",
       "    }\n",
       "</style>\n",
       "<table border=\"1\" class=\"dataframe\">\n",
       "  <thead>\n",
       "    <tr style=\"text-align: right;\">\n",
       "      <th></th>\n",
       "      <th>Rank</th>\n",
       "      <th>Name</th>\n",
       "      <th>Platform</th>\n",
       "      <th>Year</th>\n",
       "      <th>Genre</th>\n",
       "      <th>Publisher</th>\n",
       "      <th>NA_Sales</th>\n",
       "      <th>EU_Sales</th>\n",
       "      <th>JP_Sales</th>\n",
       "      <th>Other_Sales</th>\n",
       "      <th>Global_Sales</th>\n",
       "    </tr>\n",
       "  </thead>\n",
       "  <tbody>\n",
       "    <tr>\n",
       "      <th>4</th>\n",
       "      <td>5</td>\n",
       "      <td>Pokemon Red/Pokemon Blue</td>\n",
       "      <td>GB</td>\n",
       "      <td>1996.0</td>\n",
       "      <td>Role-Playing</td>\n",
       "      <td>Nintendo</td>\n",
       "      <td>11.27</td>\n",
       "      <td>8.89</td>\n",
       "      <td>10.22</td>\n",
       "      <td>1.0</td>\n",
       "      <td>31.37</td>\n",
       "    </tr>\n",
       "  </tbody>\n",
       "</table>\n",
       "</div>"
      ],
      "text/plain": [
       "   Rank                      Name Platform    Year         Genre Publisher  \\\n",
       "4     5  Pokemon Red/Pokemon Blue       GB  1996.0  Role-Playing  Nintendo   \n",
       "\n",
       "   NA_Sales  EU_Sales  JP_Sales  Other_Sales  Global_Sales  \n",
       "4     11.27      8.89     10.22          1.0         31.37  "
      ]
     },
     "execution_count": 28,
     "metadata": {},
     "output_type": "execute_result"
    }
   ],
   "source": [
    "full_data.loc[full_data['JP_Sales'] == 10.22]"
   ]
  },
  {
   "cell_type": "markdown",
   "metadata": {
    "papermill": {
     "duration": 0.074814,
     "end_time": "2020-11-17T07:12:50.564384",
     "exception": false,
     "start_time": "2020-11-17T07:12:50.489570",
     "status": "completed"
    },
    "tags": []
   },
   "source": [
    "Wow! This time it is not Wii Sport! It is actually Pokemon Red/Blue! This is actually a surprise to me. I would though that since Wii Sport is the number 1 game and is from Japan, Wii Sport would be the number 1 at Japan too. I guess this is the beauty of data analysis."
   ]
  },
  {
   "cell_type": "markdown",
   "metadata": {
    "papermill": {
     "duration": 0.074958,
     "end_time": "2020-11-17T07:12:50.714878",
     "exception": false,
     "start_time": "2020-11-17T07:12:50.639920",
     "status": "completed"
    },
    "tags": []
   },
   "source": [
    "**Sales in the rest of the world**"
   ]
  },
  {
   "cell_type": "code",
   "execution_count": 29,
   "metadata": {
    "execution": {
     "iopub.execute_input": "2020-11-17T07:12:50.880781Z",
     "iopub.status.busy": "2020-11-17T07:12:50.879638Z",
     "iopub.status.idle": "2020-11-17T07:12:51.195211Z",
     "shell.execute_reply": "2020-11-17T07:12:51.194427Z"
    },
    "papermill": {
     "duration": 0.404133,
     "end_time": "2020-11-17T07:12:51.195339",
     "exception": false,
     "start_time": "2020-11-17T07:12:50.791206",
     "status": "completed"
    },
    "tags": []
   },
   "outputs": [
    {
     "data": {
      "image/png": "[encoded data removed]",
      "text/plain": [
       "<Figure size 1080x720 with 1 Axes>"
      ]
     },
     "metadata": {
      "needs_background": "light"
     },
     "output_type": "display_data"
    },
    {
     "name": "stdout",
     "output_type": "stream",
     "text": [
      "count    16327.000000\n",
      "mean         0.048325\n",
      "std          0.189885\n",
      "min          0.000000\n",
      "25%          0.000000\n",
      "50%          0.010000\n",
      "75%          0.040000\n",
      "max         10.570000\n",
      "Name: Other_Sales, dtype: float64\n"
     ]
    }
   ],
   "source": [
    "plt.figure(figsize=(15, 10))\n",
    "plt.title(\"Other Sales\")\n",
    "sns.distplot(a=full_data['Other_Sales'], kde=False)\n",
    "plt.show()\n",
    "\n",
    "print(full_data['Other_Sales'].describe())"
   ]
  },
  {
   "cell_type": "code",
   "execution_count": 30,
   "metadata": {
    "execution": {
     "iopub.execute_input": "2020-11-17T07:12:51.405084Z",
     "iopub.status.busy": "2020-11-17T07:12:51.404037Z",
     "iopub.status.idle": "2020-11-17T07:12:51.410477Z",
     "shell.execute_reply": "2020-11-17T07:12:51.409792Z"
    },
    "papermill": {
     "duration": 0.105732,
     "end_time": "2020-11-17T07:12:51.410621",
     "exception": false,
     "start_time": "2020-11-17T07:12:51.304889",
     "status": "completed"
    },
    "tags": []
   },
   "outputs": [
    {
     "data": {
      "text/html": [
       "<div>\n",
       "<style scoped>\n",
       "    .dataframe tbody tr th:only-of-type {\n",
       "        vertical-align: middle;\n",
       "    }\n",
       "\n",
       "    .dataframe tbody tr th {\n",
       "        vertical-align: top;\n",
       "    }\n",
       "\n",
       "    .dataframe thead th {\n",
       "        text-align: right;\n",
       "    }\n",
       "</style>\n",
       "<table border=\"1\" class=\"dataframe\">\n",
       "  <thead>\n",
       "    <tr style=\"text-align: right;\">\n",
       "      <th></th>\n",
       "      <th>Rank</th>\n",
       "      <th>Name</th>\n",
       "      <th>Platform</th>\n",
       "      <th>Year</th>\n",
       "      <th>Genre</th>\n",
       "      <th>Publisher</th>\n",
       "      <th>NA_Sales</th>\n",
       "      <th>EU_Sales</th>\n",
       "      <th>JP_Sales</th>\n",
       "      <th>Other_Sales</th>\n",
       "      <th>Global_Sales</th>\n",
       "    </tr>\n",
       "  </thead>\n",
       "  <tbody>\n",
       "    <tr>\n",
       "      <th>17</th>\n",
       "      <td>18</td>\n",
       "      <td>Grand Theft Auto: San Andreas</td>\n",
       "      <td>PS2</td>\n",
       "      <td>2004.0</td>\n",
       "      <td>Action</td>\n",
       "      <td>Take-Two Interactive</td>\n",
       "      <td>9.43</td>\n",
       "      <td>0.4</td>\n",
       "      <td>0.41</td>\n",
       "      <td>10.57</td>\n",
       "      <td>20.81</td>\n",
       "    </tr>\n",
       "  </tbody>\n",
       "</table>\n",
       "</div>"
      ],
      "text/plain": [
       "    Rank                           Name Platform    Year   Genre  \\\n",
       "17    18  Grand Theft Auto: San Andreas      PS2  2004.0  Action   \n",
       "\n",
       "               Publisher  NA_Sales  EU_Sales  JP_Sales  Other_Sales  \\\n",
       "17  Take-Two Interactive      9.43       0.4      0.41        10.57   \n",
       "\n",
       "    Global_Sales  \n",
       "17         20.81  "
      ]
     },
     "execution_count": 30,
     "metadata": {},
     "output_type": "execute_result"
    }
   ],
   "source": [
    "full_data.loc[full_data['Other_Sales'] == 10.57]"
   ]
  },
  {
   "cell_type": "markdown",
   "metadata": {
    "papermill": {
     "duration": 0.078198,
     "end_time": "2020-11-17T07:12:51.568357",
     "exception": false,
     "start_time": "2020-11-17T07:12:51.490159",
     "status": "completed"
    },
    "tags": []
   },
   "source": [
    "OK, now for the other parts of the world, GTA San Andreas is actully the most sold game. Again, an interesting thing to learn. "
   ]
  },
  {
   "cell_type": "markdown",
   "metadata": {
    "papermill": {
     "duration": 0.08019,
     "end_time": "2020-11-17T07:12:51.727334",
     "exception": false,
     "start_time": "2020-11-17T07:12:51.647144",
     "status": "completed"
    },
    "tags": []
   },
   "source": [
    "**Global Sales**"
   ]
  },
  {
   "cell_type": "code",
   "execution_count": 31,
   "metadata": {
    "execution": {
     "iopub.execute_input": "2020-11-17T07:12:51.933857Z",
     "iopub.status.busy": "2020-11-17T07:12:51.933098Z",
     "iopub.status.idle": "2020-11-17T07:12:52.244859Z",
     "shell.execute_reply": "2020-11-17T07:12:52.243958Z"
    },
    "papermill": {
     "duration": 0.42533,
     "end_time": "2020-11-17T07:12:52.245006",
     "exception": false,
     "start_time": "2020-11-17T07:12:51.819676",
     "status": "completed"
    },
    "tags": []
   },
   "outputs": [
    {
     "data": {
      "image/png": "[encoded data removed]",
      "text/plain": [
       "<Figure size 1080x720 with 1 Axes>"
      ]
     },
     "metadata": {
      "needs_background": "light"
     },
     "output_type": "display_data"
    },
    {
     "name": "stdout",
     "output_type": "stream",
     "text": [
      "count    16327.000000\n",
      "mean         0.540232\n",
      "std          1.565732\n",
      "min          0.010000\n",
      "25%          0.060000\n",
      "50%          0.170000\n",
      "75%          0.480000\n",
      "max         82.740000\n",
      "Name: Global_Sales, dtype: float64\n"
     ]
    }
   ],
   "source": [
    "plt.figure(figsize=(15, 10))\n",
    "plt.title(\"Global Sales\")\n",
    "sns.distplot(a=full_data['Global_Sales'], kde=False)\n",
    "plt.show()\n",
    "\n",
    "print(full_data['Global_Sales'].describe())"
   ]
  },
  {
   "cell_type": "code",
   "execution_count": 32,
   "metadata": {
    "execution": {
     "iopub.execute_input": "2020-11-17T07:12:52.424956Z",
     "iopub.status.busy": "2020-11-17T07:12:52.423980Z",
     "iopub.status.idle": "2020-11-17T07:12:52.429724Z",
     "shell.execute_reply": "2020-11-17T07:12:52.429040Z"
    },
    "papermill": {
     "duration": 0.104214,
     "end_time": "2020-11-17T07:12:52.429875",
     "exception": false,
     "start_time": "2020-11-17T07:12:52.325661",
     "status": "completed"
    },
    "tags": []
   },
   "outputs": [
    {
     "data": {
      "text/html": [
       "<div>\n",
       "<style scoped>\n",
       "    .dataframe tbody tr th:only-of-type {\n",
       "        vertical-align: middle;\n",
       "    }\n",
       "\n",
       "    .dataframe tbody tr th {\n",
       "        vertical-align: top;\n",
       "    }\n",
       "\n",
       "    .dataframe thead th {\n",
       "        text-align: right;\n",
       "    }\n",
       "</style>\n",
       "<table border=\"1\" class=\"dataframe\">\n",
       "  <thead>\n",
       "    <tr style=\"text-align: right;\">\n",
       "      <th></th>\n",
       "      <th>Rank</th>\n",
       "      <th>Name</th>\n",
       "      <th>Platform</th>\n",
       "      <th>Year</th>\n",
       "      <th>Genre</th>\n",
       "      <th>Publisher</th>\n",
       "      <th>NA_Sales</th>\n",
       "      <th>EU_Sales</th>\n",
       "      <th>JP_Sales</th>\n",
       "      <th>Other_Sales</th>\n",
       "      <th>Global_Sales</th>\n",
       "    </tr>\n",
       "  </thead>\n",
       "  <tbody>\n",
       "    <tr>\n",
       "      <th>0</th>\n",
       "      <td>1</td>\n",
       "      <td>Wii Sports</td>\n",
       "      <td>Wii</td>\n",
       "      <td>2006.0</td>\n",
       "      <td>Sports</td>\n",
       "      <td>Nintendo</td>\n",
       "      <td>41.49</td>\n",
       "      <td>29.02</td>\n",
       "      <td>3.77</td>\n",
       "      <td>8.46</td>\n",
       "      <td>82.74</td>\n",
       "    </tr>\n",
       "  </tbody>\n",
       "</table>\n",
       "</div>"
      ],
      "text/plain": [
       "   Rank        Name Platform    Year   Genre Publisher  NA_Sales  EU_Sales  \\\n",
       "0     1  Wii Sports      Wii  2006.0  Sports  Nintendo     41.49     29.02   \n",
       "\n",
       "   JP_Sales  Other_Sales  Global_Sales  \n",
       "0      3.77         8.46         82.74  "
      ]
     },
     "execution_count": 32,
     "metadata": {},
     "output_type": "execute_result"
    }
   ],
   "source": [
    "full_data.loc[full_data['Global_Sales'] == 82.74]"
   ]
  },
  {
   "cell_type": "markdown",
   "metadata": {
    "papermill": {
     "duration": 0.079934,
     "end_time": "2020-11-17T07:12:52.591187",
     "exception": false,
     "start_time": "2020-11-17T07:12:52.511253",
     "status": "completed"
    },
    "tags": []
   },
   "source": [
    "Now the global sales is shown. Again, it is visualized, and the game with the most sales is Wii Sport, which is indeed ranked #1 in our dataset."
   ]
  },
  {
   "cell_type": "markdown",
   "metadata": {
    "papermill": {
     "duration": 0.08493,
     "end_time": "2020-11-17T07:12:52.756174",
     "exception": false,
     "start_time": "2020-11-17T07:12:52.671244",
     "status": "completed"
    },
    "tags": []
   },
   "source": [
    "# Define the Question"
   ]
  },
  {
   "cell_type": "markdown",
   "metadata": {
    "papermill": {
     "duration": 0.083489,
     "end_time": "2020-11-17T07:12:52.928536",
     "exception": false,
     "start_time": "2020-11-17T07:12:52.845047",
     "status": "completed"
    },
    "tags": []
   },
   "source": [
    "Now we have looked at the data, I begin to be curious about what factors will affect the global sales of a game. Obviously when predicting about this, we cannot use any of the region sale information or the rank as parameters for our model because that is data leakage. Therefore, we are left to only the Platform, Year, Genre, and Publisher columns. So I say let's now work on making a prediction of the global sales based on these four columns and see how accurate the prediction is."
   ]
  },
  {
   "cell_type": "markdown",
   "metadata": {
    "papermill": {
     "duration": 0.081945,
     "end_time": "2020-11-17T07:12:53.092676",
     "exception": false,
     "start_time": "2020-11-17T07:12:53.010731",
     "status": "completed"
    },
    "tags": []
   },
   "source": [
    "# Other Parameters vs. Global Sales\n",
    "\n",
    "Now since we are curious in how other parameters may affect the final global sales, let's actually visualize the associations between global sales and other parameters we are interested in. "
   ]
  },
  {
   "cell_type": "markdown",
   "metadata": {
    "papermill": {
     "duration": 0.080361,
     "end_time": "2020-11-17T07:12:53.256633",
     "exception": false,
     "start_time": "2020-11-17T07:12:53.176272",
     "status": "completed"
    },
    "tags": []
   },
   "source": [
    "**Year vs. Global Sales**"
   ]
  },
  {
   "cell_type": "code",
   "execution_count": 33,
   "metadata": {
    "execution": {
     "iopub.execute_input": "2020-11-17T07:12:53.424974Z",
     "iopub.status.busy": "2020-11-17T07:12:53.424104Z",
     "iopub.status.idle": "2020-11-17T07:12:53.759907Z",
     "shell.execute_reply": "2020-11-17T07:12:53.759111Z"
    },
    "papermill": {
     "duration": 0.423792,
     "end_time": "2020-11-17T07:12:53.760049",
     "exception": false,
     "start_time": "2020-11-17T07:12:53.336257",
     "status": "completed"
    },
    "tags": []
   },
   "outputs": [
    {
     "data": {
      "image/png": "[encoded data removed]",
      "text/plain": [
       "<Figure size 2520x720 with 1 Axes>"
      ]
     },
     "metadata": {
      "needs_background": "light"
     },
     "output_type": "display_data"
    }
   ],
   "source": [
    "plt.figure(figsize=(35, 10))\n",
    "plt.title(\"Year\")\n",
    "sns.scatterplot(x=full_data['Year'], y=full_data['Global_Sales'])\n",
    "plt.show()"
   ]
  },
  {
   "cell_type": "markdown",
   "metadata": {
    "papermill": {
     "duration": 0.084715,
     "end_time": "2020-11-17T07:12:53.927559",
     "exception": false,
     "start_time": "2020-11-17T07:12:53.842844",
     "status": "completed"
    },
    "tags": []
   },
   "source": [
    "There isn't really an association between the year and the global sales of games. It is shown that most games would only make minimal global sales despite which year it is. So the global sale isn't really something that depends on the time."
   ]
  },
  {
   "cell_type": "markdown",
   "metadata": {
    "papermill": {
     "duration": 0.082504,
     "end_time": "2020-11-17T07:12:54.094339",
     "exception": false,
     "start_time": "2020-11-17T07:12:54.011835",
     "status": "completed"
    },
    "tags": []
   },
   "source": [
    "**Platform vs. Global Sales**"
   ]
  },
  {
   "cell_type": "code",
   "execution_count": 34,
   "metadata": {
    "execution": {
     "iopub.execute_input": "2020-11-17T07:12:54.268987Z",
     "iopub.status.busy": "2020-11-17T07:12:54.268145Z",
     "iopub.status.idle": "2020-11-17T07:12:54.766112Z",
     "shell.execute_reply": "2020-11-17T07:12:54.767657Z"
    },
    "papermill": {
     "duration": 0.590623,
     "end_time": "2020-11-17T07:12:54.767876",
     "exception": false,
     "start_time": "2020-11-17T07:12:54.177253",
     "status": "completed"
    },
    "tags": []
   },
   "outputs": [
    {
     "data": {
      "image/png": "[encoded data removed]",
      "text/plain": [
       "<Figure size 2520x720 with 1 Axes>"
      ]
     },
     "metadata": {
      "needs_background": "light"
     },
     "output_type": "display_data"
    },
    {
     "name": "stdout",
     "output_type": "stream",
     "text": [
      "Wii   0.2\n",
      "NES   1.375\n",
      "GB   1.18\n",
      "DS   0.11\n",
      "X360   0.29\n",
      "PS3   0.29\n",
      "PS2   0.23\n",
      "SNES   0.32\n",
      "GBA   0.16\n",
      "3DS   0.125\n",
      "PS4   0.22\n",
      "N64   0.27\n",
      "PS   0.26\n",
      "XB   0.14\n",
      "PC   0.04\n",
      "2600   0.475\n",
      "PSP   0.09\n",
      "XOne   0.24\n",
      "GC   0.15\n",
      "WiiU   0.23\n",
      "GEN   0.15\n",
      "DC   0.135\n",
      "PSV   0.06\n",
      "SAT   0.12\n",
      "SCD   0.065\n",
      "WS   0.215\n",
      "NG   0.1\n",
      "TG16   0.08\n",
      "3DO   0.02\n",
      "GG   0.04\n",
      "PCFX   0.03\n"
     ]
    }
   ],
   "source": [
    "plt.figure(figsize=(35, 10))\n",
    "plt.title(\"Platform\")\n",
    "sns.scatterplot(x=full_data['Platform'], y=full_data['Global_Sales'])\n",
    "plt.show()\n",
    "\n",
    "for plat in full_data['Platform'].unique():\n",
    "    print(plat, \" \", full_data.loc[full_data['Platform'] == plat, 'Global_Sales'].median())"
   ]
  },
  {
   "cell_type": "markdown",
   "metadata": {
    "papermill": {
     "duration": 0.08445,
     "end_time": "2020-11-17T07:12:54.938911",
     "exception": false,
     "start_time": "2020-11-17T07:12:54.854461",
     "status": "completed"
    },
    "tags": []
   },
   "source": [
    "So now there seems to be a little trend. It seems like games on platforms like Wii, NES, GB do have a higher global sales comparing to games on platforms like SAT. It is very likely that since devices like Wii are more popular, people are more likely to invest money on games that are on these platforms. "
   ]
  },
  {
   "cell_type": "markdown",
   "metadata": {
    "papermill": {
     "duration": 0.089447,
     "end_time": "2020-11-17T07:12:55.119236",
     "exception": false,
     "start_time": "2020-11-17T07:12:55.029789",
     "status": "completed"
    },
    "tags": []
   },
   "source": [
    "**Genre vs. Global Sales**"
   ]
  },
  {
   "cell_type": "code",
   "execution_count": 35,
   "metadata": {
    "execution": {
     "iopub.execute_input": "2020-11-17T07:12:55.310489Z",
     "iopub.status.busy": "2020-11-17T07:12:55.309631Z",
     "iopub.status.idle": "2020-11-17T07:12:55.661492Z",
     "shell.execute_reply": "2020-11-17T07:12:55.662347Z"
    },
    "papermill": {
     "duration": 0.456214,
     "end_time": "2020-11-17T07:12:55.662603",
     "exception": false,
     "start_time": "2020-11-17T07:12:55.206389",
     "status": "completed"
    },
    "tags": []
   },
   "outputs": [
    {
     "data": {
      "image/png": "[encoded data removed]",
      "text/plain": [
       "<Figure size 2520x720 with 1 Axes>"
      ]
     },
     "metadata": {
      "needs_background": "light"
     },
     "output_type": "display_data"
    },
    {
     "name": "stdout",
     "output_type": "stream",
     "text": [
      "Sports   0.22\n",
      "Platform   0.28\n",
      "Racing   0.19\n",
      "Role-Playing   0.19\n",
      "Puzzle   0.1\n",
      "Misc   0.16\n",
      "Shooter   0.23\n",
      "Simulation   0.16\n",
      "Action   0.19\n",
      "Fighting   0.21\n",
      "Adventure   0.06\n",
      "Strategy   0.09\n"
     ]
    }
   ],
   "source": [
    "plt.figure(figsize=(35, 10))\n",
    "plt.title(\"Genre\")\n",
    "sns.scatterplot(x=full_data['Genre'], y=full_data['Global_Sales'])\n",
    "plt.show()\n",
    "\n",
    "for genr in full_data['Genre'].unique():\n",
    "    print(genr, \" \", full_data.loc[full_data['Genre'] == genr, 'Global_Sales'].median())"
   ]
  },
  {
   "cell_type": "markdown",
   "metadata": {
    "papermill": {
     "duration": 0.091363,
     "end_time": "2020-11-17T07:12:55.842237",
     "exception": false,
     "start_time": "2020-11-17T07:12:55.750874",
     "status": "completed"
    },
    "tags": []
   },
   "source": [
    "Again, small association between the genre of the game and the global sales. However, still not a significant association."
   ]
  },
  {
   "cell_type": "markdown",
   "metadata": {
    "papermill": {
     "duration": 0.087223,
     "end_time": "2020-11-17T07:12:56.016162",
     "exception": false,
     "start_time": "2020-11-17T07:12:55.928939",
     "status": "completed"
    },
    "tags": []
   },
   "source": [
    "**Publisher vs. Global Sales**"
   ]
  },
  {
   "cell_type": "code",
   "execution_count": 36,
   "metadata": {
    "execution": {
     "iopub.execute_input": "2020-11-17T07:12:56.206730Z",
     "iopub.status.busy": "2020-11-17T07:12:56.205800Z",
     "iopub.status.idle": "2020-11-17T07:13:04.227045Z",
     "shell.execute_reply": "2020-11-17T07:13:04.229531Z"
    },
    "papermill": {
     "duration": 8.127509,
     "end_time": "2020-11-17T07:13:04.229749",
     "exception": false,
     "start_time": "2020-11-17T07:12:56.102240",
     "status": "completed"
    },
    "tags": []
   },
   "outputs": [
    {
     "data": {
      "image/png": "[encoded data removed]",
      "text/plain": [
       "<Figure size 2520x720 with 1 Axes>"
      ]
     },
     "metadata": {
      "needs_background": "light"
     },
     "output_type": "display_data"
    },
    {
     "name": "stdout",
     "output_type": "stream",
     "text": [
      "Nintendo   0.92\n",
      "Microsoft Game Studios   0.36\n",
      "Take-Two Interactive   0.305\n",
      "Sony Computer Entertainment   0.34\n",
      "Activision   0.28\n",
      "Ubisoft   0.21\n",
      "Bethesda Softworks   0.51\n",
      "Electronic Arts   0.47\n",
      "Sega   0.19\n",
      "SquareSoft   0.69\n",
      "Atari   0.18\n",
      "505 Games   0.10500000000000001\n",
      "Capcom   0.2\n",
      "GT Interactive   0.25\n",
      "Konami Digital Entertainment   0.15\n",
      "Sony Computer Entertainment Europe   1.0\n",
      "Square Enix   0.32\n",
      "LucasArts   0.52\n",
      "Virgin Interactive   0.23\n",
      "Warner Bros. Interactive Entertainment   0.39\n",
      "Universal Interactive   0.495\n",
      "Eidos Interactive   0.18\n",
      "RedOctane   1.745\n",
      "Vivendi Games   0.17\n",
      "Enix Corporation   0.655\n",
      "Namco Bandai Games   0.12\n",
      "Palcom   4.17\n",
      "Hasbro Interactive   0.5599999999999999\n",
      "THQ   0.27\n",
      "Fox Interactive   0.46499999999999997\n",
      "Acclaim Entertainment   0.195\n",
      "MTV Games   0.235\n",
      "Disney Interactive Studios   0.355\n",
      "Majesco Entertainment   0.09\n",
      "Codemasters   0.15\n",
      "Red Orb   2.62\n",
      "Level 5   0.19\n",
      "Arena Entertainment   2.36\n",
      "Midway Games   0.19\n",
      "JVC   0.06\n",
      "Deep Silver   0.1\n",
      "989 Studios   0.69\n",
      "NCSoft   0.035\n",
      "UEP Systems   2.25\n",
      "Parker Bros.   0.54\n",
      "Maxis   1.22\n",
      "Imagic   1.1600000000000001\n",
      "Tecmo Koei   0.08\n",
      "Valve Software   0.76\n",
      "ASCII Entertainment   0.355\n",
      "Mindscape   0.125\n",
      "Infogrames   0.14\n",
      "Unknown   0.05\n",
      "Square   0.485\n",
      "Valve   1.74\n",
      "Activision Value   0.16\n",
      "Banpresto   0.18\n",
      "D3Publisher   0.06\n",
      "Oxygen Interactive   0.07\n",
      "Red Storm Entertainment   0.64\n",
      "Video System   0.23500000000000001\n",
      "Hello Games   1.6\n",
      "Global Star   0.1\n",
      "Gotham Games   0.42\n",
      "Westwood Studios   1.55\n",
      "GungHo   0.14\n",
      "Crave Entertainment   0.09\n",
      "Hudson Soft   0.17\n",
      "Coleco   0.4\n",
      "Rising Star Games   0.11\n",
      "Atlus   0.12\n",
      "TDK Mediactive   0.14\n",
      "ASC Games   0.66\n",
      "Zoo Games   0.07\n",
      "Accolade   0.19\n",
      "Sony Online Entertainment   0.33499999999999996\n",
      "3DO   0.17\n",
      "RTL   0.065\n",
      "Natsume   0.1\n",
      "Focus Home Interactive   0.05\n",
      "Alchemist   0.02\n",
      "Black Label Games   1.2\n",
      "SouthPeak Games   0.1\n",
      "Mastertronic   0.03\n",
      "Ocean   0.23\n",
      "Zoo Digital Publishing   0.07500000000000001\n",
      "Psygnosis   0.11\n",
      "City Interactive   0.14500000000000002\n",
      "Empire Interactive   0.11\n",
      "Success   0.03\n",
      "Compile   0.32999999999999996\n",
      "Russel   0.02\n",
      "Taito   0.05\n",
      "Agetec   0.125\n",
      "GSP   0.095\n",
      "Microprose   0.27\n",
      "Play It   0.165\n",
      "Slightly Mad Studios   0.23\n",
      "Tomy Corporation   0.225\n",
      "Sammy Corporation   0.19\n",
      "Koch Media   0.09\n",
      "Game Factory   0.055\n",
      "Titus   0.08\n",
      "Marvelous Entertainment   0.13\n",
      "Genki   0.055\n",
      "Mojang   0.67\n",
      "Pinnacle   0.1\n",
      "CTO SpA   0.45\n",
      "TalonSoft   0.87\n",
      "Crystal Dynamics   0.17\n",
      "SCi   0.08\n",
      "Quelle   0.87\n",
      "mixi, Inc   0.86\n",
      "Rage Software   0.1\n",
      "Ubisoft Annecy   0.165\n",
      "Scholastic Inc.   0.22\n",
      "Interplay   0.15000000000000002\n",
      "Mystique   0.82\n",
      "ChunSoft   0.125\n",
      "Square EA   0.8\n",
      "20th Century Fox Video Games   0.34\n",
      "Avanquest Software   0.02\n",
      "Hudson Entertainment   0.06\n",
      "Nordic Games   0.06\n",
      "Men-A-Vision   0.77\n",
      "Nobilis   0.06\n",
      "Big Ben Interactive   0.05\n",
      "Touchstone   0.41000000000000003\n",
      "Spike   0.1\n",
      "Jester Interactive   0.4\n",
      "Nippon Ichi Software   0.08\n",
      "LEGO Media   0.14\n",
      "Quest   0.71\n",
      "Illusion Softworks   0.7\n",
      "Tigervision   0.45\n",
      "Funbox Media   0.05\n",
      "Rocket Company   0.06\n",
      "Metro 3D   0.08499999999999999\n",
      "Mattel Interactive   0.22999999999999998\n",
      "IE Institute   0.07\n",
      "Rondomedia   0.065\n",
      "Sony Computer Entertainment America   0.39\n",
      "Universal Gamex   0.63\n",
      "Ghostlight   0.115\n",
      "Wizard Video Games   0.62\n",
      "BMG Interactive Entertainment   0.11\n",
      "PQube   0.07\n",
      "Trion Worlds   0.285\n",
      "Laguna   0.355\n",
      "Ignition Entertainment   0.07\n",
      "Takara   0.235\n",
      "Kadokawa Shoten   0.045\n",
      "Destineer   0.06\n",
      "Enterbrain   0.1\n",
      "Xseed Games   0.15\n",
      "Imagineer   0.155\n",
      "System 3 Arcade Software   0.06\n",
      "CPG Products   0.54\n",
      "Aruze Corp   0.53\n",
      "Gamebridge   0.365\n",
      "Midas Interactive Entertainment   0.06\n",
      "Jaleco   0.05\n",
      "Answer Software   0.5\n",
      "XS Games   0.04\n",
      "Activision Blizzard   0.48\n",
      "Pack In Soft   0.48\n",
      "Rebellion   0.245\n",
      "Xplosiv   0.14500000000000002\n",
      "GameMill Entertainment   0.13\n",
      "Wanadoo   0.02\n",
      "NovaLogic   0.34\n",
      "Telltale Games   0.07\n",
      "Epoch   0.08\n",
      "BAM! Entertainment   0.11\n",
      "Knowledge Adventure   0.395\n",
      "Mastiff   0.095\n",
      "Tetris Online   0.43\n",
      "Harmonix Music Systems   0.4\n",
      "ESP   0.05\n",
      "TYO   0.42\n",
      "Telegames   0.1\n",
      "Mud Duck Productions   0.3\n",
      "Screenlife   0.11499999999999999\n",
      "Pioneer LDC   0.14\n",
      "Magical Company   0.41\n",
      "Mentor Interactive   0.27\n",
      "Kemco   0.08\n",
      "Human Entertainment   0.19\n",
      "Avanquest   0.06\n",
      "Data Age   0.355\n",
      "Electronic Arts Victor   0.21\n",
      "Black Bean Games   0.065\n",
      "Jack of All Games   0.02\n",
      "989 Sports   0.38\n",
      "Takara Tomy   0.06\n",
      "Media Rings   0.19\n",
      "Elf   0.32\n",
      "Starfish   0.03\n",
      "Zushi Games   0.045\n",
      "Jorudan   0.3\n",
      "Destination Software, Inc   0.04\n",
      "New   0.36\n",
      "Brash Entertainment   0.1\n",
      "ITT Family Games   0.34\n",
      "PopCap Games   0.05\n",
      "Home Entertainment Suppliers   0.04\n",
      "Ackkstudios   0.065\n",
      "Starpath Corp.   0.33\n",
      "P2 Games   0.06\n",
      "BPS   0.26\n",
      "Gathering of Developers   0.11\n",
      "NewKidCo   0.18\n",
      "Storm City Games   0.04\n",
      "CokeM Interactive   0.31\n",
      "CBS Electronics   0.31\n",
      "Magix   0.175\n",
      "Marvelous Interactive   0.03\n",
      "Kalypso Media   0.045\n",
      "Nihon Falcom Corporation   0.09\n",
      "Wargaming.net   0.29\n",
      "Angel Studios   0.12\n",
      "Arc System Works   0.03\n",
      "Playmates   0.28\n",
      "SNK Playmore   0.04\n",
      "Hamster Corporation   0.15000000000000002\n",
      "From Software   0.09\n",
      "Nippon Columbia   0.14\n",
      "Nichibutsu   0.28\n",
      "Little Orbit   0.065\n",
      "Conspiracy Entertainment   0.045\n",
      "DTP Entertainment   0.06\n",
      "Hect   0.19\n",
      "Mumbo Jumbo   0.05\n",
      "Pacific Century Cyber Works   0.26\n",
      "Indie Games   0.04\n",
      "Liquid Games   0.135\n",
      "NEC   0.14\n",
      "Axela   0.25\n",
      "ArtDink   0.04\n",
      "Sunsoft   0.08\n",
      "Gust   0.07\n",
      "SNK   0.1\n",
      "NEC Interchannel   0.08\n",
      "FuRyu   0.04\n",
      "Xing Entertainment   0.24\n",
      "ValuSoft   0.07\n",
      "Victor Interactive   0.08\n",
      "Detn8 Games   0.23\n",
      "American Softworks   0.23\n",
      "Nordcurrent   0.08\n",
      "Bomb   0.22\n",
      "Falcom Corporation   0.06\n",
      "AQ Interactive   0.1\n",
      "CCP   0.22\n",
      "Milestone S.r.l.   0.07500000000000001\n",
      "JoWood Productions   0.05\n",
      "Seta Corporation   0.08\n",
      "On Demand   0.21\n",
      "NCS   0.11\n",
      "Aspyr   0.055\n",
      "Gremlin Interactive Ltd   0.14\n",
      "Agatsuma Entertainment   0.08\n",
      "Compile Heart   0.04\n",
      "Culture Brain   0.025\n",
      "Mad Catz   0.07\n",
      "Shogakukan   0.06\n",
      "Merscom LLC   0.2\n",
      "Rebellion Developments   0.15000000000000002\n",
      "Nippon Telenet   0.13\n",
      "TDK Core   0.16\n",
      "bitComposer Games   0.08\n",
      "Foreign Media Games   0.04\n",
      "Astragon   0.1\n",
      "SSI   0.19\n",
      "Kadokawa Games   0.02\n",
      "Idea Factory   0.02\n",
      "Performance Designed Products   0.18\n",
      "Asylum Entertainment   0.07500000000000001\n",
      "Core Design Ltd.   0.14500000000000002\n",
      "PlayV   0.12\n",
      "UFO Interactive   0.03\n",
      "Idea Factory International   0.105\n",
      "Playlogic Game Factory   0.08\n",
      "Essential Games   0.04\n",
      "Adeline Software   0.17\n",
      "Funcom   0.1\n",
      "Panther Software   0.17\n",
      "Blast! Entertainment Ltd   0.035\n",
      "Game Life   0.15000000000000002\n",
      "DSI Games   0.03\n",
      "Avalon Interactive   0.060000000000000005\n",
      "Popcorn Arcade   0.04\n",
      "Neko Entertainment   0.03\n",
      "Vir2L Studios   0.07\n",
      "Aques   0.16\n",
      "Syscom   0.135\n",
      "White Park Bay Software   0.16\n",
      "System 3   0.05\n",
      "Vatical Entertainment   0.11\n",
      "Daedalic   0.11\n",
      "EA Games   0.15\n",
      "Media Factory   0.14500000000000002\n",
      "Vic Tokai   0.135\n",
      "The Adventure Company   0.09\n",
      "Game Arts   0.14\n",
      "Broccoli   0.025\n",
      "Acquire   0.08\n",
      "General Entertainment   0.14\n",
      "Excalibur Publishing   0.065\n",
      "Imadio   0.14\n",
      "Swing! Entertainment   0.07500000000000001\n",
      "Sony Music Entertainment   0.14\n",
      "Aqua Plus   0.05\n",
      "Paradox Interactive   0.03\n",
      "Hip Interactive   0.05\n",
      "DreamCatcher Interactive   0.05\n",
      "Tripwire Interactive   0.14\n",
      "Sting   0.09\n",
      "Yacht Club Games   0.11\n",
      "SCS Software   0.13\n",
      "Bigben Interactive   0.06\n",
      "Havas Interactive   0.13\n",
      "Slitherine Software   0.02\n",
      "Graffiti   0.05\n",
      "Funsta   0.02\n",
      "Telstar   0.08\n",
      "U.S. Gold   0.07500000000000001\n",
      "DreamWorks Interactive   0.13\n",
      "Data Design Interactive   0.09\n",
      "MTO   0.03\n",
      "DHM Interactive   0.04\n",
      "FunSoft   0.12\n",
      "SPS   0.12\n",
      "Bohemia Interactive   0.12\n",
      "Reef Entertainment   0.03\n",
      "Tru Blu Entertainment   0.025\n",
      "Moss   0.065\n",
      "T&E Soft   0.12\n",
      "O-Games   0.07\n",
      "Aksys Games   0.055\n",
      "NDA Productions   0.12\n",
      "Data East   0.075\n",
      "Time Warner Interactive   0.08\n",
      "Gainax Network Systems   0.08\n",
      "Daito   0.045\n",
      "O3 Entertainment   0.09\n",
      "Gameloft   0.11\n",
      "Xicat Interactive   0.03\n",
      "Simon & Schuster Interactive   0.11\n",
      "Valcon Games   0.045\n",
      "PopTop Software   0.11\n",
      "TOHO   0.11\n",
      "HMH Interactive   0.07\n",
      "5pb   0.02\n",
      "Cave   0.025\n",
      "CDV Software Entertainment   0.025\n",
      "Microids   0.025\n",
      "PM Studios   0.1\n",
      "Paon   0.03\n",
      "Micro Cabin   0.08\n",
      "GameTek   0.1\n",
      "Benesse   0.055\n",
      "Type-Moon   0.1\n",
      "Enjoy Gaming ltd.   0.1\n",
      "Asmik Corp   0.085\n",
      "Interplay Productions   0.1\n",
      "Asmik Ace Entertainment   0.09\n",
      "inXile Entertainment   0.1\n",
      "Image Epoch   0.1\n",
      "Phantom EFX   0.09\n",
      "Evolved Games   0.035\n",
      "responDESIGN   0.065\n",
      "Culture Publishers   0.09\n",
      "Griffin International   0.09\n",
      "Hackberry   0.03\n",
      "Hearty Robin   0.09\n",
      "Nippon Amuse   0.09\n",
      "Origin Systems   0.09\n",
      "Seventh Chord   0.08\n",
      "Mitsui   0.08\n",
      "Milestone   0.08\n",
      "Abylight   0.08\n",
      "Flight-Plan   0.06\n",
      "Glams   0.08\n",
      "Locus   0.07\n",
      "Warp   0.07\n",
      "Daedalic Entertainment   0.04\n",
      "Alternative Software   0.03\n",
      "Myelin Media   0.03\n",
      "Mercury Games   0.06\n",
      "Irem Software Engineering   0.03\n",
      "Sunrise Interactive   0.04\n",
      "Elite   0.07\n",
      "Evolution Games   0.07\n",
      "Tivola   0.05\n",
      "Global A Entertainment   0.035\n",
      "Edia   0.045000000000000005\n",
      "Athena   0.045000000000000005\n",
      "Aria   0.07\n",
      "Gamecock   0.055\n",
      "Tommo   0.04\n",
      "Altron   0.07\n",
      "Happinet   0.04\n",
      "iWin   0.06\n",
      "Media Works   0.03\n",
      "Fortyfive   0.06\n",
      "Revolution Software   0.034999999999999996\n",
      "Imax   0.06\n",
      "Crimson Cow   0.04\n",
      "10TACLE Studios   0.03\n",
      "Groove Games   0.045\n",
      "Pack-In-Video   0.055\n",
      "Insomniac Games   0.04\n",
      "Ascaron Entertainment GmbH   0.04\n",
      "Asgard   0.03\n",
      "Ecole   0.06\n",
      "Yumedia   0.06\n",
      "Phenomedia   0.05\n",
      "HAL Laboratory   0.06\n",
      "Grand Prix Games   0.06\n",
      "DigiCube   0.06\n",
      "Creative Core   0.03\n",
      "Kaga Create   0.02\n",
      "WayForward Technologies   0.05\n",
      "LSP Games   0.03\n",
      "ASCII Media Works   0.02\n",
      "Coconuts Japan   0.035\n",
      "Arika   0.02\n",
      "Ertain   0.05\n",
      "Marvel Entertainment   0.05\n",
      "Prototype   0.02\n",
      "Phantagram   0.05\n",
      "1C Company   0.04\n",
      "The Learning Company   0.05\n",
      "TechnoSoft   0.05\n",
      "Vap   0.05\n",
      "Misawa   0.035\n",
      "Tradewest   0.04\n",
      "Team17 Software   0.05\n",
      "Yeti   0.02\n",
      "Pow   0.05\n",
      "Navarre Corp   0.05\n",
      "MediaQuest   0.05\n",
      "Max Five   0.05\n",
      "Comfort   0.02\n",
      "Monte Christo Multimedia   0.05\n",
      "Pony Canyon   0.05\n",
      "Riverhillsoft   0.04\n",
      "Summitsoft   0.04\n",
      "Milestone S.r.l   0.025\n",
      "Playmore   0.04\n",
      "MLB.com   0.04\n",
      "Kool Kizz   0.04\n",
      "Flashpoint Games   0.04\n",
      "49Games   0.04\n",
      "Legacy Interactive   0.04\n",
      "Alawar Entertainment   0.025\n",
      "CyberFront   0.02\n",
      "Cloud Imperium Games Corporation   0.04\n",
      "Societa   0.04\n",
      "Virtual Play Games   0.03\n",
      "Interchannel   0.025\n",
      "Sonnet   0.03\n",
      "Experience Inc.   0.01\n",
      "Zenrin   0.03\n",
      "Iceberg Interactive   0.02\n",
      "Ivolgamus   0.04\n",
      "2D Boy   0.04\n",
      "MC2 Entertainment   0.02\n",
      "Kando Games   0.03\n",
      "Just Flight   0.03\n",
      "Office Create   0.03\n",
      "Mamba Games   0.025\n",
      "Fields   0.03\n",
      "Princess Soft   0.02\n",
      "Maximum Family Games   0.03\n",
      "Berkeley   0.03\n",
      "Fuji   0.03\n",
      "Dusenberry Martin Racing   0.025\n",
      "imageepoch Inc.   0.02\n",
      "Big Fish Games   0.025\n",
      "Her Interactive   0.03\n",
      "Kamui   0.03\n",
      "ASK   0.03\n",
      "TopWare Interactive   0.02\n",
      "Headup Games   0.03\n",
      "KSS   0.03\n",
      "Cygames   0.03\n",
      "KID   0.02\n",
      "Quinrose   0.01\n",
      "Sunflowers   0.03\n",
      "dramatic create   0.02\n",
      "TGL   0.03\n",
      "Encore   0.015\n",
      "Extreme Entertainment Group   0.03\n",
      "Intergrow   0.03\n",
      "G.Rev   0.02\n",
      "Sweets   0.025\n",
      "Kokopeli Digital Studios   0.03\n",
      "Number None   0.03\n",
      "Nexon   0.03\n",
      "id Software   0.03\n",
      "BushiRoad   0.03\n",
      "Tryfirst   0.03\n",
      "Strategy First   0.03\n",
      "7G//AMES   0.02\n",
      "GN Software   0.01\n",
      "Yuke's   0.03\n",
      "Easy Interactive   0.025\n",
      "Licensed 4U   0.02\n",
      "FuRyu Corporation   0.03\n",
      "Lexicon Entertainment   0.025\n",
      "Paon Corporation   0.03\n",
      "Kids Station   0.03\n",
      "GOA   0.02\n",
      "Graphsim Entertainment   0.02\n",
      "King Records   0.02\n",
      "Introversion Software   0.02\n",
      "Minato Station   0.02\n",
      "Devolver Digital   0.02\n",
      "Blue Byte   0.015\n",
      "Gaga   0.02\n",
      "Yamasa Entertainment   0.02\n",
      "Plenty   0.02\n",
      "Views   0.015\n",
      "fonfun   0.02\n",
      "NetRevo   0.015\n",
      "Codemasters Online   0.02\n",
      "Quintet   0.02\n",
      "Phoenix Games   0.02\n",
      "Dorart   0.015\n",
      "Marvelous Games   0.02\n",
      "Focus Multimedia   0.02\n",
      "Imageworks   0.02\n",
      "Karin Entertainment   0.02\n",
      "Aerosoft   0.015\n",
      "Technos Japan Corporation   0.02\n",
      "Gakken   0.02\n",
      "Mirai Shounen   0.02\n",
      "Datam Polystar   0.015\n",
      "Saurus   0.02\n",
      "HuneX   0.015\n",
      "Revolution (Japan)   0.02\n",
      "Giza10   0.02\n",
      "Visco   0.02\n",
      "Alvion   0.02\n",
      "Mycom   0.02\n",
      "Giga   0.02\n",
      "Warashi   0.02\n",
      "System Soft   0.01\n",
      "Sold Out   0.02\n",
      "Lighthouse Interactive   0.02\n",
      "Masque Publishing   0.02\n",
      "RED Entertainment   0.02\n",
      "Michaelsoft   0.01\n",
      "Media Entertainment   0.01\n",
      "New World Computing   0.01\n",
      "Genterprise   0.01\n",
      "Interworks Unlimited, Inc.   0.01\n",
      "Boost On   0.01\n",
      "Stainless Games   0.01\n",
      "EON Digital Entertainment   0.01\n",
      "Epic Games   0.01\n",
      "Naxat Soft   0.01\n",
      "Ascaron Entertainment   0.01\n",
      "Piacci   0.01\n",
      "Nitroplus   0.01\n",
      "Paradox Development   0.01\n",
      "Otomate   0.01\n",
      "Ongakukan   0.01\n",
      "Commseed   0.01\n",
      "Inti Creates   0.01\n",
      "Takuyo   0.01\n",
      "Interchannel-Holon   0.01\n",
      "Rain Games   0.01\n",
      "UIG Entertainment   0.01\n"
     ]
    }
   ],
   "source": [
    "plt.figure(figsize=(35, 10))\n",
    "plt.title(\"Publisher\")\n",
    "sns.scatterplot(x=full_data['Publisher'], y=full_data['Global_Sales'])\n",
    "plt.show()\n",
    "\n",
    "for pub in full_data['Publisher'].unique():\n",
    "    print(pub, \" \", full_data.loc[full_data['Publisher'] == pub, 'Global_Sales'].median())"
   ]
  },
  {
   "cell_type": "markdown",
   "metadata": {
    "papermill": {
     "duration": 0.093975,
     "end_time": "2020-11-17T07:13:04.419861",
     "exception": false,
     "start_time": "2020-11-17T07:13:04.325886",
     "status": "completed"
    },
    "tags": []
   },
   "source": [
    "The publisher also seems to have an effect on the global sales. Essentially, companies like Nintendo or Microsoft Game Studios are more likely to make games that have high sales. "
   ]
  },
  {
   "cell_type": "markdown",
   "metadata": {
    "papermill": {
     "duration": 0.094043,
     "end_time": "2020-11-17T07:13:04.606000",
     "exception": false,
     "start_time": "2020-11-17T07:13:04.511957",
     "status": "completed"
    },
    "tags": []
   },
   "source": [
    "In conclusion, among these four parameters, it seems like the Year doesn't have a huge impact on the global sale, but the other three parameters all have an impact to certain extent. "
   ]
  },
  {
   "cell_type": "markdown",
   "metadata": {
    "papermill": {
     "duration": 0.094344,
     "end_time": "2020-11-17T07:13:04.795552",
     "exception": false,
     "start_time": "2020-11-17T07:13:04.701208",
     "status": "completed"
    },
    "tags": []
   },
   "source": [
    "# Model Selection"
   ]
  },
  {
   "cell_type": "code",
   "execution_count": 37,
   "metadata": {
    "execution": {
     "iopub.execute_input": "2020-11-17T07:13:05.003736Z",
     "iopub.status.busy": "2020-11-17T07:13:04.997693Z",
     "iopub.status.idle": "2020-11-17T07:13:05.011360Z",
     "shell.execute_reply": "2020-11-17T07:13:05.010481Z"
    },
    "papermill": {
     "duration": 0.121549,
     "end_time": "2020-11-17T07:13:05.011521",
     "exception": false,
     "start_time": "2020-11-17T07:13:04.889972",
     "status": "completed"
    },
    "tags": []
   },
   "outputs": [],
   "source": [
    "num_features = ['Year']\n",
    "cat_features = ['Platform', 'Genre', 'Publisher']\n",
    "\n",
    "features = num_features + cat_features\n",
    "X = full_data.drop([\"Global_Sales\"], axis=1)[features]\n",
    "y = full_data[\"Global_Sales\"]\n",
    "\n",
    "num_transformer = SimpleImputer(strategy=\"constant\")\n",
    "\n",
    "cat_transformer = Pipeline(steps=[\n",
    "    (\"imputer\", SimpleImputer(strategy=\"most_frequent\")),\n",
    "    (\"onehot\", OneHotEncoder(handle_unknown='ignore'))])\n",
    "\n",
    "preprocessor = ColumnTransformer(transformers=[(\"num\", num_transformer, num_features),\n",
    "                                               (\"cat\", cat_transformer, cat_features)])\n",
    "\n",
    "X_train, X_test, y_train, y_test = train_test_split(X, y, random_state=42)"
   ]
  },
  {
   "cell_type": "code",
   "execution_count": 38,
   "metadata": {
    "execution": {
     "iopub.execute_input": "2020-11-17T07:13:05.230569Z",
     "iopub.status.busy": "2020-11-17T07:13:05.229678Z",
     "iopub.status.idle": "2020-11-17T07:13:37.239105Z",
     "shell.execute_reply": "2020-11-17T07:13:37.239867Z"
    },
    "papermill": {
     "duration": 32.125993,
     "end_time": "2020-11-17T07:13:37.240095",
     "exception": false,
     "start_time": "2020-11-17T07:13:05.114102",
     "status": "completed"
    },
    "tags": []
   },
   "outputs": [
    {
     "name": "stdout",
     "output_type": "stream",
     "text": [
      "DT_model mean squared error result: 4.254447274220941\n",
      "RF_model mean squared error result: 3.6231333280597857\n",
      "GB_model mean squared error result: 3.25079130795933\n",
      "Ada_model mean squared error result: 4.33705851619142\n",
      "KNN_model mean squared error result: 3.5230545389514942\n"
     ]
    }
   ],
   "source": [
    "from sklearn.tree import DecisionTreeRegressor\n",
    "from sklearn.ensemble import RandomForestRegressor\n",
    "from sklearn.ensemble import GradientBoostingRegressor\n",
    "from sklearn.ensemble import AdaBoostRegressor\n",
    "from sklearn.neighbors import KNeighborsRegressor\n",
    "\n",
    "base_models = [(\"DT_model\", DecisionTreeRegressor(random_state=42)),\n",
    "               (\"RF_model\", RandomForestRegressor(random_state=42,n_jobs=-1)),\n",
    "               (\"GB_model\", GradientBoostingRegressor(random_state=42)),\n",
    "               (\"Ada_model\", AdaBoostRegressor(random_state=42)),\n",
    "               (\"KNN_model\", KNeighborsRegressor(n_jobs=-1))]\n",
    "\n",
    "kfolds = 4 # 4 = 75% train, 25% validation\n",
    "split = KFold(n_splits=kfolds, shuffle=True, random_state=42)\n",
    "\n",
    "for name, model in base_models:\n",
    "    model_steps = Pipeline(steps=[('preprocessor', preprocessor),\n",
    "                              ('model', model)])\n",
    "    \n",
    "    model_steps.fit(X_train, y_train)\n",
    "\n",
    "    model_steps.fit(X_train, y_train)\n",
    "\n",
    "    model_preds = model_steps.predict(X_test)\n",
    "\n",
    "    print(f\"{name} mean squared error result: {mean_squared_error(y_test, model_preds)}\")"
   ]
  },
  {
   "cell_type": "markdown",
   "metadata": {
    "papermill": {
     "duration": 0.093414,
     "end_time": "2020-11-17T07:13:37.428823",
     "exception": false,
     "start_time": "2020-11-17T07:13:37.335409",
     "status": "completed"
    },
    "tags": []
   },
   "source": [
    "So these are our final performances. It is shown that Graident Boost Regressor has the best performance. "
   ]
  }
 ],
 "metadata": {
  "kernelspec": {
   "display_name": "Python 3",
   "language": "python",
   "name": "python3"
  },
  "language_info": {
   "codemirror_mode": {
    "name": "ipython",
    "version": 3
   },
   "file_extension": ".py",
   "mimetype": "text/x-python",
   "name": "python",
   "nbconvert_exporter": "python",
   "pygments_lexer": "ipython3",
   "version": "3.7.6"
  },
  "papermill": {
   "duration": 64.6417,
   "end_time": "2020-11-17T07:13:37.634368",
   "environment_variables": {},
   "exception": null,
   "input_path": "__notebook__.ipynb",
   "output_path": "__notebook__.ipynb",
   "parameters": {},
   "start_time": "2020-11-17T07:12:32.992668",
   "version": "2.1.0"
  }
 },
 "nbformat": 4,
 "nbformat_minor": 4
}
