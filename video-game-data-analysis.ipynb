{
 "cells": [
  {
   "cell_type": "markdown",
   "metadata": {
    "papermill": {
     "duration": 0.069473,
     "end_time": "2020-12-22T00:54:36.671058",
     "exception": false,
     "start_time": "2020-12-22T00:54:36.601585",
     "status": "completed"
    },
    "tags": []
   },
   "source": [
    "# Introduction\n",
    "\n",
    "Hello everyone! This is my data analysis with the video game sales dataset. I am actually very excited to explore more about this dataset because I am myself a video game fan. So let's load the data and take a quick look!"
   ]
  },
  {
   "cell_type": "code",
   "execution_count": 1,
   "metadata": {
    "_cell_guid": "b1076dfc-b9ad-4769-8c92-a6c4dae69d19",
    "_uuid": "8f2839f25d086af736a60e9eeb907d3b93b6e0e5",
    "execution": {
     "iopub.execute_input": "2020-12-22T00:54:36.823399Z",
     "iopub.status.busy": "2020-12-22T00:54:36.822531Z",
     "iopub.status.idle": "2020-12-22T00:54:39.325880Z",
     "shell.execute_reply": "2020-12-22T00:54:39.326543Z"
    },
    "papermill": {
     "duration": 2.587598,
     "end_time": "2020-12-22T00:54:39.326739",
     "exception": false,
     "start_time": "2020-12-22T00:54:36.739141",
     "status": "completed"
    },
    "tags": []
   },
   "outputs": [
    {
     "name": "stdout",
     "output_type": "stream",
     "text": [
      "/kaggle/input/videogamesales/vgsales.csv\n"
     ]
    }
   ],
   "source": [
    "# This Python 3 environment comes with many helpful analytics libraries installed\n",
    "# It is defined by the kaggle/python Docker image: https://github.com/kaggle/docker-python\n",
    "# For example, here's several helpful packages to load\n",
    "\n",
    "import numpy as np\n",
    "import pandas as pd\n",
    "\n",
    "from sklearn.compose import ColumnTransformer\n",
    "from sklearn.pipeline import Pipeline\n",
    "from sklearn.impute import SimpleImputer\n",
    "from sklearn.preprocessing import LabelEncoder, OneHotEncoder\n",
    "from sklearn.model_selection import train_test_split\n",
    "from sklearn.metrics import mean_squared_error\n",
    "import math\n",
    "import seaborn as sns\n",
    "import matplotlib.pyplot as plt\n",
    "%matplotlib inline\n",
    "from sklearn.model_selection import GridSearchCV\n",
    "import plotly.express as px\n",
    "from sklearn.model_selection import train_test_split, KFold, cross_validate, cross_val_score\n",
    "\n",
    "# Input data files are available in the read-only \"../input/\" directory\n",
    "# For example, running this (by clicking run or pressing Shift+Enter) will list all files under the input directory\n",
    "\n",
    "import os\n",
    "for dirname, _, filenames in os.walk('/kaggle/input'):\n",
    "    for filename in filenames:\n",
    "        print(os.path.join(dirname, filename))\n",
    "\n",
    "# You can write up to 20GB to the current directory (/kaggle/working/) that gets preserved as output when you create a version using \"Save & Run All\" \n",
    "# You can also write temporary files to /kaggle/temp/, but they won't be saved outside of the current session"
   ]
  },
  {
   "cell_type": "code",
   "execution_count": 2,
   "metadata": {
    "_cell_guid": "79c7e3d0-c299-4dcb-8224-4455121ee9b0",
    "_uuid": "d629ff2d2480ee46fbb7e2d37f6b5fab8052498a",
    "execution": {
     "iopub.execute_input": "2020-12-22T00:54:39.495915Z",
     "iopub.status.busy": "2020-12-22T00:54:39.495087Z",
     "iopub.status.idle": "2020-12-22T00:54:39.573069Z",
     "shell.execute_reply": "2020-12-22T00:54:39.572434Z"
    },
    "papermill": {
     "duration": 0.160224,
     "end_time": "2020-12-22T00:54:39.573239",
     "exception": false,
     "start_time": "2020-12-22T00:54:39.413015",
     "status": "completed"
    },
    "tags": []
   },
   "outputs": [],
   "source": [
    "full_data = pd.read_csv('/kaggle/input/videogamesales/vgsales.csv')"
   ]
  },
  {
   "cell_type": "code",
   "execution_count": 3,
   "metadata": {
    "execution": {
     "iopub.execute_input": "2020-12-22T00:54:39.732201Z",
     "iopub.status.busy": "2020-12-22T00:54:39.720757Z",
     "iopub.status.idle": "2020-12-22T00:54:39.748198Z",
     "shell.execute_reply": "2020-12-22T00:54:39.747368Z"
    },
    "papermill": {
     "duration": 0.106653,
     "end_time": "2020-12-22T00:54:39.748331",
     "exception": false,
     "start_time": "2020-12-22T00:54:39.641678",
     "status": "completed"
    },
    "tags": []
   },
   "outputs": [
    {
     "data": {
      "text/html": [
       "<div>\n",
       "<style scoped>\n",
       "    .dataframe tbody tr th:only-of-type {\n",
       "        vertical-align: middle;\n",
       "    }\n",
       "\n",
       "    .dataframe tbody tr th {\n",
       "        vertical-align: top;\n",
       "    }\n",
       "\n",
       "    .dataframe thead th {\n",
       "        text-align: right;\n",
       "    }\n",
       "</style>\n",
       "<table border=\"1\" class=\"dataframe\">\n",
       "  <thead>\n",
       "    <tr style=\"text-align: right;\">\n",
       "      <th></th>\n",
       "      <th>Rank</th>\n",
       "      <th>Name</th>\n",
       "      <th>Platform</th>\n",
       "      <th>Year</th>\n",
       "      <th>Genre</th>\n",
       "      <th>Publisher</th>\n",
       "      <th>NA_Sales</th>\n",
       "      <th>EU_Sales</th>\n",
       "      <th>JP_Sales</th>\n",
       "      <th>Other_Sales</th>\n",
       "      <th>Global_Sales</th>\n",
       "    </tr>\n",
       "  </thead>\n",
       "  <tbody>\n",
       "    <tr>\n",
       "      <th>0</th>\n",
       "      <td>1</td>\n",
       "      <td>Wii Sports</td>\n",
       "      <td>Wii</td>\n",
       "      <td>2006.0</td>\n",
       "      <td>Sports</td>\n",
       "      <td>Nintendo</td>\n",
       "      <td>41.49</td>\n",
       "      <td>29.02</td>\n",
       "      <td>3.77</td>\n",
       "      <td>8.46</td>\n",
       "      <td>82.74</td>\n",
       "    </tr>\n",
       "    <tr>\n",
       "      <th>1</th>\n",
       "      <td>2</td>\n",
       "      <td>Super Mario Bros.</td>\n",
       "      <td>NES</td>\n",
       "      <td>1985.0</td>\n",
       "      <td>Platform</td>\n",
       "      <td>Nintendo</td>\n",
       "      <td>29.08</td>\n",
       "      <td>3.58</td>\n",
       "      <td>6.81</td>\n",
       "      <td>0.77</td>\n",
       "      <td>40.24</td>\n",
       "    </tr>\n",
       "    <tr>\n",
       "      <th>2</th>\n",
       "      <td>3</td>\n",
       "      <td>Mario Kart Wii</td>\n",
       "      <td>Wii</td>\n",
       "      <td>2008.0</td>\n",
       "      <td>Racing</td>\n",
       "      <td>Nintendo</td>\n",
       "      <td>15.85</td>\n",
       "      <td>12.88</td>\n",
       "      <td>3.79</td>\n",
       "      <td>3.31</td>\n",
       "      <td>35.82</td>\n",
       "    </tr>\n",
       "    <tr>\n",
       "      <th>3</th>\n",
       "      <td>4</td>\n",
       "      <td>Wii Sports Resort</td>\n",
       "      <td>Wii</td>\n",
       "      <td>2009.0</td>\n",
       "      <td>Sports</td>\n",
       "      <td>Nintendo</td>\n",
       "      <td>15.75</td>\n",
       "      <td>11.01</td>\n",
       "      <td>3.28</td>\n",
       "      <td>2.96</td>\n",
       "      <td>33.00</td>\n",
       "    </tr>\n",
       "    <tr>\n",
       "      <th>4</th>\n",
       "      <td>5</td>\n",
       "      <td>Pokemon Red/Pokemon Blue</td>\n",
       "      <td>GB</td>\n",
       "      <td>1996.0</td>\n",
       "      <td>Role-Playing</td>\n",
       "      <td>Nintendo</td>\n",
       "      <td>11.27</td>\n",
       "      <td>8.89</td>\n",
       "      <td>10.22</td>\n",
       "      <td>1.00</td>\n",
       "      <td>31.37</td>\n",
       "    </tr>\n",
       "  </tbody>\n",
       "</table>\n",
       "</div>"
      ],
      "text/plain": [
       "   Rank                      Name Platform    Year         Genre Publisher  \\\n",
       "0     1                Wii Sports      Wii  2006.0        Sports  Nintendo   \n",
       "1     2         Super Mario Bros.      NES  1985.0      Platform  Nintendo   \n",
       "2     3            Mario Kart Wii      Wii  2008.0        Racing  Nintendo   \n",
       "3     4         Wii Sports Resort      Wii  2009.0        Sports  Nintendo   \n",
       "4     5  Pokemon Red/Pokemon Blue       GB  1996.0  Role-Playing  Nintendo   \n",
       "\n",
       "   NA_Sales  EU_Sales  JP_Sales  Other_Sales  Global_Sales  \n",
       "0     41.49     29.02      3.77         8.46         82.74  \n",
       "1     29.08      3.58      6.81         0.77         40.24  \n",
       "2     15.85     12.88      3.79         3.31         35.82  \n",
       "3     15.75     11.01      3.28         2.96         33.00  \n",
       "4     11.27      8.89     10.22         1.00         31.37  "
      ]
     },
     "execution_count": 3,
     "metadata": {},
     "output_type": "execute_result"
    }
   ],
   "source": [
    "full_data.head()"
   ]
  },
  {
   "cell_type": "code",
   "execution_count": 4,
   "metadata": {
    "execution": {
     "iopub.execute_input": "2020-12-22T00:54:39.895884Z",
     "iopub.status.busy": "2020-12-22T00:54:39.894914Z",
     "iopub.status.idle": "2020-12-22T00:54:39.901395Z",
     "shell.execute_reply": "2020-12-22T00:54:39.900624Z"
    },
    "papermill": {
     "duration": 0.083322,
     "end_time": "2020-12-22T00:54:39.901524",
     "exception": false,
     "start_time": "2020-12-22T00:54:39.818202",
     "status": "completed"
    },
    "tags": []
   },
   "outputs": [
    {
     "name": "stdout",
     "output_type": "stream",
     "text": [
      "Index(['Rank', 'Name', 'Platform', 'Year', 'Genre', 'Publisher', 'NA_Sales',\n",
      "       'EU_Sales', 'JP_Sales', 'Other_Sales', 'Global_Sales'],\n",
      "      dtype='object')\n"
     ]
    },
    {
     "data": {
      "text/plain": [
       "11"
      ]
     },
     "execution_count": 4,
     "metadata": {},
     "output_type": "execute_result"
    }
   ],
   "source": [
    "print(full_data.columns.unique())\n",
    "len(full_data.columns.unique())"
   ]
  },
  {
   "cell_type": "code",
   "execution_count": 5,
   "metadata": {
    "execution": {
     "iopub.execute_input": "2020-12-22T00:54:40.059875Z",
     "iopub.status.busy": "2020-12-22T00:54:40.058660Z",
     "iopub.status.idle": "2020-12-22T00:54:40.073326Z",
     "shell.execute_reply": "2020-12-22T00:54:40.072522Z"
    },
    "papermill": {
     "duration": 0.099912,
     "end_time": "2020-12-22T00:54:40.073473",
     "exception": false,
     "start_time": "2020-12-22T00:54:39.973561",
     "status": "completed"
    },
    "tags": []
   },
   "outputs": [
    {
     "name": "stdout",
     "output_type": "stream",
     "text": [
      "<class 'pandas.core.frame.DataFrame'>\n",
      "RangeIndex: 16598 entries, 0 to 16597\n",
      "Data columns (total 11 columns):\n",
      " #   Column        Non-Null Count  Dtype  \n",
      "---  ------        --------------  -----  \n",
      " 0   Rank          16598 non-null  int64  \n",
      " 1   Name          16598 non-null  object \n",
      " 2   Platform      16598 non-null  object \n",
      " 3   Year          16327 non-null  float64\n",
      " 4   Genre         16598 non-null  object \n",
      " 5   Publisher     16540 non-null  object \n",
      " 6   NA_Sales      16598 non-null  float64\n",
      " 7   EU_Sales      16598 non-null  float64\n",
      " 8   JP_Sales      16598 non-null  float64\n",
      " 9   Other_Sales   16598 non-null  float64\n",
      " 10  Global_Sales  16598 non-null  float64\n",
      "dtypes: float64(6), int64(1), object(4)\n",
      "memory usage: 1.4+ MB\n"
     ]
    }
   ],
   "source": [
    "full_data.info()"
   ]
  },
  {
   "cell_type": "code",
   "execution_count": 6,
   "metadata": {
    "execution": {
     "iopub.execute_input": "2020-12-22T00:54:40.235069Z",
     "iopub.status.busy": "2020-12-22T00:54:40.233880Z",
     "iopub.status.idle": "2020-12-22T00:54:40.254889Z",
     "shell.execute_reply": "2020-12-22T00:54:40.254183Z"
    },
    "papermill": {
     "duration": 0.109161,
     "end_time": "2020-12-22T00:54:40.255022",
     "exception": false,
     "start_time": "2020-12-22T00:54:40.145861",
     "status": "completed"
    },
    "tags": []
   },
   "outputs": [
    {
     "name": "stdout",
     "output_type": "stream",
     "text": [
      "Index(['Year', 'Publisher'], dtype='object')\n"
     ]
    },
    {
     "data": {
      "text/plain": [
       "2"
      ]
     },
     "execution_count": 6,
     "metadata": {},
     "output_type": "execute_result"
    }
   ],
   "source": [
    "print(full_data.columns[full_data.isna().any()].unique())\n",
    "len(full_data.columns[full_data.isna().any()].unique())"
   ]
  },
  {
   "cell_type": "markdown",
   "metadata": {
    "papermill": {
     "duration": 0.083988,
     "end_time": "2020-12-22T00:54:40.430476",
     "exception": false,
     "start_time": "2020-12-22T00:54:40.346488",
     "status": "completed"
    },
    "tags": []
   },
   "source": [
    "OK, so we see that this dataset contains 11 columns of information.\n",
    "\n",
    "\n",
    "**The columns are:**\n",
    "\n",
    "* Rank - Ranking of overall sales, integer\n",
    "\n",
    "* Name - The games name\n",
    "\n",
    "* Platform - Platform of the games release (i.e. PC,PS4, etc.), object\n",
    "\n",
    "* Year - Year of the game's release, float\n",
    "\n",
    "* Genre - Genre of the game ,object\n",
    "\n",
    "* Publisher - Publisher of the game, object\n",
    "\n",
    "* NA_Sales - Sales in North America (in millions), float\n",
    "\n",
    "* EU_Sales - Sales in Europe (in millions), float\n",
    "\n",
    "* JP_Sales - Sales in Japan (in millions), float\n",
    "\n",
    "* Other_Sales - Sales in the rest of the world (in millions), float\n",
    "\n",
    "* Global_Sales - Total worldwide sales, float\n",
    "\n",
    "\n",
    "We also see that two of the columns contain missing values. Let's take a quick look at these two columns."
   ]
  },
  {
   "cell_type": "markdown",
   "metadata": {
    "papermill": {
     "duration": 0.085242,
     "end_time": "2020-12-22T00:54:40.592000",
     "exception": false,
     "start_time": "2020-12-22T00:54:40.506758",
     "status": "completed"
    },
    "tags": []
   },
   "source": [
    "**Year**"
   ]
  },
  {
   "cell_type": "code",
   "execution_count": 7,
   "metadata": {
    "execution": {
     "iopub.execute_input": "2020-12-22T00:54:40.745663Z",
     "iopub.status.busy": "2020-12-22T00:54:40.744588Z",
     "iopub.status.idle": "2020-12-22T00:54:40.749698Z",
     "shell.execute_reply": "2020-12-22T00:54:40.749048Z"
    },
    "papermill": {
     "duration": 0.085229,
     "end_time": "2020-12-22T00:54:40.749821",
     "exception": false,
     "start_time": "2020-12-22T00:54:40.664592",
     "status": "completed"
    },
    "tags": []
   },
   "outputs": [
    {
     "data": {
      "text/plain": [
       "271"
      ]
     },
     "execution_count": 7,
     "metadata": {},
     "output_type": "execute_result"
    }
   ],
   "source": [
    "full_data['Year'].isna().sum()"
   ]
  },
  {
   "cell_type": "code",
   "execution_count": 8,
   "metadata": {
    "execution": {
     "iopub.execute_input": "2020-12-22T00:54:40.904636Z",
     "iopub.status.busy": "2020-12-22T00:54:40.903560Z",
     "iopub.status.idle": "2020-12-22T00:54:40.910905Z",
     "shell.execute_reply": "2020-12-22T00:54:40.910060Z"
    },
    "papermill": {
     "duration": 0.087004,
     "end_time": "2020-12-22T00:54:40.911074",
     "exception": false,
     "start_time": "2020-12-22T00:54:40.824070",
     "status": "completed"
    },
    "tags": []
   },
   "outputs": [
    {
     "data": {
      "text/plain": [
       "1.6598272799657012"
      ]
     },
     "execution_count": 8,
     "metadata": {},
     "output_type": "execute_result"
    }
   ],
   "source": [
    "full_data['Year'].isna().sum() / full_data['Year'].count() * 100"
   ]
  },
  {
   "cell_type": "markdown",
   "metadata": {
    "papermill": {
     "duration": 0.077152,
     "end_time": "2020-12-22T00:54:41.066559",
     "exception": false,
     "start_time": "2020-12-22T00:54:40.989407",
     "status": "completed"
    },
    "tags": []
   },
   "source": [
    "Since only 1.6% of the data has missing values, I think it is OK to fill the missing value. So let's take a deeper look at the data and how we can impute missing values."
   ]
  },
  {
   "cell_type": "code",
   "execution_count": 9,
   "metadata": {
    "execution": {
     "iopub.execute_input": "2020-12-22T00:54:41.238355Z",
     "iopub.status.busy": "2020-12-22T00:54:41.220467Z",
     "iopub.status.idle": "2020-12-22T00:54:41.243291Z",
     "shell.execute_reply": "2020-12-22T00:54:41.242524Z"
    },
    "papermill": {
     "duration": 0.102576,
     "end_time": "2020-12-22T00:54:41.243432",
     "exception": false,
     "start_time": "2020-12-22T00:54:41.140856",
     "status": "completed"
    },
    "tags": []
   },
   "outputs": [
    {
     "data": {
      "text/html": [
       "<div>\n",
       "<style scoped>\n",
       "    .dataframe tbody tr th:only-of-type {\n",
       "        vertical-align: middle;\n",
       "    }\n",
       "\n",
       "    .dataframe tbody tr th {\n",
       "        vertical-align: top;\n",
       "    }\n",
       "\n",
       "    .dataframe thead th {\n",
       "        text-align: right;\n",
       "    }\n",
       "</style>\n",
       "<table border=\"1\" class=\"dataframe\">\n",
       "  <thead>\n",
       "    <tr style=\"text-align: right;\">\n",
       "      <th></th>\n",
       "      <th>Rank</th>\n",
       "      <th>Name</th>\n",
       "      <th>Platform</th>\n",
       "      <th>Year</th>\n",
       "      <th>Genre</th>\n",
       "      <th>Publisher</th>\n",
       "      <th>NA_Sales</th>\n",
       "      <th>EU_Sales</th>\n",
       "      <th>JP_Sales</th>\n",
       "      <th>Other_Sales</th>\n",
       "      <th>Global_Sales</th>\n",
       "    </tr>\n",
       "  </thead>\n",
       "  <tbody>\n",
       "    <tr>\n",
       "      <th>179</th>\n",
       "      <td>180</td>\n",
       "      <td>Madden NFL 2004</td>\n",
       "      <td>PS2</td>\n",
       "      <td>NaN</td>\n",
       "      <td>Sports</td>\n",
       "      <td>Electronic Arts</td>\n",
       "      <td>4.26</td>\n",
       "      <td>0.26</td>\n",
       "      <td>0.01</td>\n",
       "      <td>0.71</td>\n",
       "      <td>5.23</td>\n",
       "    </tr>\n",
       "    <tr>\n",
       "      <th>377</th>\n",
       "      <td>378</td>\n",
       "      <td>FIFA Soccer 2004</td>\n",
       "      <td>PS2</td>\n",
       "      <td>NaN</td>\n",
       "      <td>Sports</td>\n",
       "      <td>Electronic Arts</td>\n",
       "      <td>0.59</td>\n",
       "      <td>2.36</td>\n",
       "      <td>0.04</td>\n",
       "      <td>0.51</td>\n",
       "      <td>3.49</td>\n",
       "    </tr>\n",
       "    <tr>\n",
       "      <th>431</th>\n",
       "      <td>432</td>\n",
       "      <td>LEGO Batman: The Videogame</td>\n",
       "      <td>Wii</td>\n",
       "      <td>NaN</td>\n",
       "      <td>Action</td>\n",
       "      <td>Warner Bros. Interactive Entertainment</td>\n",
       "      <td>1.86</td>\n",
       "      <td>1.02</td>\n",
       "      <td>0.00</td>\n",
       "      <td>0.29</td>\n",
       "      <td>3.17</td>\n",
       "    </tr>\n",
       "    <tr>\n",
       "      <th>470</th>\n",
       "      <td>471</td>\n",
       "      <td>wwe Smackdown vs. Raw 2006</td>\n",
       "      <td>PS2</td>\n",
       "      <td>NaN</td>\n",
       "      <td>Fighting</td>\n",
       "      <td>NaN</td>\n",
       "      <td>1.57</td>\n",
       "      <td>1.02</td>\n",
       "      <td>0.00</td>\n",
       "      <td>0.41</td>\n",
       "      <td>3.00</td>\n",
       "    </tr>\n",
       "    <tr>\n",
       "      <th>607</th>\n",
       "      <td>608</td>\n",
       "      <td>Space Invaders</td>\n",
       "      <td>2600</td>\n",
       "      <td>NaN</td>\n",
       "      <td>Shooter</td>\n",
       "      <td>Atari</td>\n",
       "      <td>2.36</td>\n",
       "      <td>0.14</td>\n",
       "      <td>0.00</td>\n",
       "      <td>0.03</td>\n",
       "      <td>2.53</td>\n",
       "    </tr>\n",
       "  </tbody>\n",
       "</table>\n",
       "</div>"
      ],
      "text/plain": [
       "     Rank                        Name Platform  Year     Genre  \\\n",
       "179   180             Madden NFL 2004      PS2   NaN    Sports   \n",
       "377   378            FIFA Soccer 2004      PS2   NaN    Sports   \n",
       "431   432  LEGO Batman: The Videogame      Wii   NaN    Action   \n",
       "470   471  wwe Smackdown vs. Raw 2006      PS2   NaN  Fighting   \n",
       "607   608              Space Invaders     2600   NaN   Shooter   \n",
       "\n",
       "                                  Publisher  NA_Sales  EU_Sales  JP_Sales  \\\n",
       "179                         Electronic Arts      4.26      0.26      0.01   \n",
       "377                         Electronic Arts      0.59      2.36      0.04   \n",
       "431  Warner Bros. Interactive Entertainment      1.86      1.02      0.00   \n",
       "470                                     NaN      1.57      1.02      0.00   \n",
       "607                                   Atari      2.36      0.14      0.00   \n",
       "\n",
       "     Other_Sales  Global_Sales  \n",
       "179         0.71          5.23  \n",
       "377         0.51          3.49  \n",
       "431         0.29          3.17  \n",
       "470         0.41          3.00  \n",
       "607         0.03          2.53  "
      ]
     },
     "execution_count": 9,
     "metadata": {},
     "output_type": "execute_result"
    }
   ],
   "source": [
    "full_data.loc[full_data['Year'].isna()].head()"
   ]
  },
  {
   "cell_type": "code",
   "execution_count": 10,
   "metadata": {
    "execution": {
     "iopub.execute_input": "2020-12-22T00:54:41.398934Z",
     "iopub.status.busy": "2020-12-22T00:54:41.398119Z",
     "iopub.status.idle": "2020-12-22T00:54:41.780037Z",
     "shell.execute_reply": "2020-12-22T00:54:41.779298Z"
    },
    "papermill": {
     "duration": 0.462336,
     "end_time": "2020-12-22T00:54:41.780184",
     "exception": false,
     "start_time": "2020-12-22T00:54:41.317848",
     "status": "completed"
    },
    "tags": []
   },
   "outputs": [
    {
     "data": {
      "image/png": "[encoded data removed]",
      "text/plain": [
       "<Figure size 1080x720 with 1 Axes>"
      ]
     },
     "metadata": {
      "needs_background": "light"
     },
     "output_type": "display_data"
    },
    {
     "data": {
      "text/plain": [
       "2009.0    8.764623\n",
       "2008.0    8.746249\n",
       "2010.0    7.711153\n",
       "2007.0    7.362038\n",
       "2011.0    6.976174\n",
       "2006.0    6.173823\n",
       "2005.0    5.763459\n",
       "2002.0    5.077479\n",
       "2003.0    4.746739\n",
       "2004.0    4.673241\n",
       "2012.0    4.024009\n",
       "2015.0    3.760642\n",
       "2014.0    3.564648\n",
       "2013.0    3.344154\n",
       "2001.0    2.952165\n",
       "1998.0    2.321308\n",
       "2000.0    2.137564\n",
       "2016.0    2.106939\n",
       "1999.0    2.070190\n",
       "1997.0    1.770074\n",
       "1996.0    1.610829\n",
       "1995.0    1.341336\n",
       "1994.0    0.741104\n",
       "1993.0    0.367489\n",
       "1981.0    0.281742\n",
       "1992.0    0.263367\n",
       "1991.0    0.251118\n",
       "1982.0    0.220494\n",
       "1986.0    0.128621\n",
       "1989.0    0.104122\n",
       "1983.0    0.104122\n",
       "1990.0    0.097997\n",
       "1987.0    0.097997\n",
       "1988.0    0.091872\n",
       "1985.0    0.085748\n",
       "1984.0    0.085748\n",
       "1980.0    0.055123\n",
       "2017.0    0.018374\n",
       "2020.0    0.006125\n",
       "Name: Year, dtype: float64"
      ]
     },
     "execution_count": 10,
     "metadata": {},
     "output_type": "execute_result"
    }
   ],
   "source": [
    "plt.figure(figsize=(15, 10))\n",
    "plt.title(\"Years\")\n",
    "sns.distplot(a=full_data['Year'])\n",
    "plt.show()\n",
    "\n",
    "full_data['Year'].value_counts() / full_data['Year'].dropna().count() * 100"
   ]
  },
  {
   "cell_type": "markdown",
   "metadata": {
    "papermill": {
     "duration": 0.075433,
     "end_time": "2020-12-22T00:54:41.931270",
     "exception": false,
     "start_time": "2020-12-22T00:54:41.855837",
     "status": "completed"
    },
    "tags": []
   },
   "source": [
    "Since there is not a single year that is very common, I will not fill missing values with the median or something similar. Instead, let's see if we can use a classifier to predict missing values. First, let's see which columns are most correlated with Years:"
   ]
  },
  {
   "cell_type": "code",
   "execution_count": 11,
   "metadata": {
    "execution": {
     "iopub.execute_input": "2020-12-22T00:54:42.090954Z",
     "iopub.status.busy": "2020-12-22T00:54:42.090207Z",
     "iopub.status.idle": "2020-12-22T00:54:42.104854Z",
     "shell.execute_reply": "2020-12-22T00:54:42.104176Z"
    },
    "papermill": {
     "duration": 0.097376,
     "end_time": "2020-12-22T00:54:42.104986",
     "exception": false,
     "start_time": "2020-12-22T00:54:42.007610",
     "status": "completed"
    },
    "tags": []
   },
   "outputs": [
    {
     "data": {
      "text/plain": [
       "Rank            0.178814\n",
       "JP_Sales        0.169316\n",
       "NA_Sales        0.091402\n",
       "Global_Sales    0.074735\n",
       "Other_Sales     0.041058\n",
       "EU_Sales        0.006014\n",
       "Name: Year, dtype: float64"
      ]
     },
     "execution_count": 11,
     "metadata": {},
     "output_type": "execute_result"
    }
   ],
   "source": [
    "year_corr = full_data.corr()[\"Year\"]\n",
    "year_corr.abs().sort_values(ascending=False)[1:]"
   ]
  },
  {
   "cell_type": "markdown",
   "metadata": {
    "papermill": {
     "duration": 0.075987,
     "end_time": "2020-12-22T00:54:42.257584",
     "exception": false,
     "start_time": "2020-12-22T00:54:42.181597",
     "status": "completed"
    },
    "tags": []
   },
   "source": [
    "So Rank and JP_Sales are the two numerical variables that are correlated with Year. Let's now see if there are categorical variables that are correlated:"
   ]
  },
  {
   "cell_type": "markdown",
   "metadata": {
    "papermill": {
     "duration": 0.076629,
     "end_time": "2020-12-22T00:54:42.411261",
     "exception": false,
     "start_time": "2020-12-22T00:54:42.334632",
     "status": "completed"
    },
    "tags": []
   },
   "source": [
    "**Platform**"
   ]
  },
  {
   "cell_type": "code",
   "execution_count": 12,
   "metadata": {
    "execution": {
     "iopub.execute_input": "2020-12-22T00:54:42.583635Z",
     "iopub.status.busy": "2020-12-22T00:54:42.572616Z",
     "iopub.status.idle": "2020-12-22T00:54:42.935325Z",
     "shell.execute_reply": "2020-12-22T00:54:42.934248Z"
    },
    "papermill": {
     "duration": 0.446548,
     "end_time": "2020-12-22T00:54:42.935455",
     "exception": false,
     "start_time": "2020-12-22T00:54:42.488907",
     "status": "completed"
    },
    "tags": []
   },
   "outputs": [
    {
     "data": {
      "image/png": "[encoded data removed]",
      "text/plain": [
       "<Figure size 1080x720 with 1 Axes>"
      ]
     },
     "metadata": {
      "needs_background": "light"
     },
     "output_type": "display_data"
    }
   ],
   "source": [
    "plt.figure(figsize=(15, 10))\n",
    "plt.title(\"Platform vs. Year\")\n",
    "sns.scatterplot(x=full_data['Platform'], y=full_data['Year'])\n",
    "plt.show()"
   ]
  },
  {
   "cell_type": "markdown",
   "metadata": {
    "papermill": {
     "duration": 0.077332,
     "end_time": "2020-12-22T00:54:43.091929",
     "exception": false,
     "start_time": "2020-12-22T00:54:43.014597",
     "status": "completed"
    },
    "tags": []
   },
   "source": [
    "I cannot see a trend here, so I will conclude these two variables aren't really associated."
   ]
  },
  {
   "cell_type": "markdown",
   "metadata": {
    "papermill": {
     "duration": 0.077682,
     "end_time": "2020-12-22T00:54:43.248628",
     "exception": false,
     "start_time": "2020-12-22T00:54:43.170946",
     "status": "completed"
    },
    "tags": []
   },
   "source": [
    "**Genre**"
   ]
  },
  {
   "cell_type": "code",
   "execution_count": 13,
   "metadata": {
    "execution": {
     "iopub.execute_input": "2020-12-22T00:54:43.416147Z",
     "iopub.status.busy": "2020-12-22T00:54:43.410993Z",
     "iopub.status.idle": "2020-12-22T00:54:43.677742Z",
     "shell.execute_reply": "2020-12-22T00:54:43.676996Z"
    },
    "papermill": {
     "duration": 0.351606,
     "end_time": "2020-12-22T00:54:43.677864",
     "exception": false,
     "start_time": "2020-12-22T00:54:43.326258",
     "status": "completed"
    },
    "tags": []
   },
   "outputs": [
    {
     "data": {
      "image/png": "[encoded data removed]",
      "text/plain": [
       "<Figure size 1080x720 with 1 Axes>"
      ]
     },
     "metadata": {
      "needs_background": "light"
     },
     "output_type": "display_data"
    }
   ],
   "source": [
    "plt.figure(figsize=(15, 10))\n",
    "plt.title(\"Genre vs. Year\")\n",
    "sns.scatterplot(x=full_data['Genre'], y=full_data['Year'])\n",
    "plt.show()"
   ]
  },
  {
   "cell_type": "markdown",
   "metadata": {
    "papermill": {
     "duration": 0.07859,
     "end_time": "2020-12-22T00:54:43.836627",
     "exception": false,
     "start_time": "2020-12-22T00:54:43.758037",
     "status": "completed"
    },
    "tags": []
   },
   "source": [
    "Again, I cannot see a trend. It seems like each year there are games with every genre created."
   ]
  },
  {
   "cell_type": "markdown",
   "metadata": {
    "papermill": {
     "duration": 0.080514,
     "end_time": "2020-12-22T00:54:43.996403",
     "exception": false,
     "start_time": "2020-12-22T00:54:43.915889",
     "status": "completed"
    },
    "tags": []
   },
   "source": [
    "**Publisher**"
   ]
  },
  {
   "cell_type": "code",
   "execution_count": 14,
   "metadata": {
    "execution": {
     "iopub.execute_input": "2020-12-22T00:54:44.173505Z",
     "iopub.status.busy": "2020-12-22T00:54:44.172324Z",
     "iopub.status.idle": "2020-12-22T00:54:49.793749Z",
     "shell.execute_reply": "2020-12-22T00:54:49.794399Z"
    },
    "papermill": {
     "duration": 5.718196,
     "end_time": "2020-12-22T00:54:49.794562",
     "exception": false,
     "start_time": "2020-12-22T00:54:44.076366",
     "status": "completed"
    },
    "tags": []
   },
   "outputs": [
    {
     "data": {
      "image/png": "[encoded data removed]",
      "text/plain": [
       "<Figure size 1080x720 with 1 Axes>"
      ]
     },
     "metadata": {
      "needs_background": "light"
     },
     "output_type": "display_data"
    }
   ],
   "source": [
    "plt.figure(figsize=(15, 10))\n",
    "plt.title(\"Publisher vs. Year\")\n",
    "sns.scatterplot(x=full_data['Publisher'], y=full_data['Year'])\n",
    "plt.show()"
   ]
  },
  {
   "cell_type": "markdown",
   "metadata": {
    "papermill": {
     "duration": 0.084031,
     "end_time": "2020-12-22T00:54:49.962431",
     "exception": false,
     "start_time": "2020-12-22T00:54:49.878400",
     "status": "completed"
    },
    "tags": []
   },
   "source": [
    "Although not very clear, we can see that certain publishers never released games during 1980s. So publisher perhaps can be an useful variable to add to our model."
   ]
  },
  {
   "cell_type": "code",
   "execution_count": 15,
   "metadata": {
    "execution": {
     "iopub.execute_input": "2020-12-22T00:54:50.151996Z",
     "iopub.status.busy": "2020-12-22T00:54:50.151172Z",
     "iopub.status.idle": "2020-12-22T00:54:50.176909Z",
     "shell.execute_reply": "2020-12-22T00:54:50.177500Z"
    },
    "papermill": {
     "duration": 0.130796,
     "end_time": "2020-12-22T00:54:50.177685",
     "exception": false,
     "start_time": "2020-12-22T00:54:50.046889",
     "status": "completed"
    },
    "tags": []
   },
   "outputs": [],
   "source": [
    "from sklearn.model_selection import train_test_split\n",
    "from sklearn.metrics import accuracy_score\n",
    "\n",
    "year_num_features = ['Rank', 'JP_Sales']\n",
    "year_cat_features = ['Publisher']\n",
    "year_features = year_num_features + year_cat_features\n",
    "\n",
    "num_transformer = SimpleImputer(strategy=\"constant\")\n",
    "\n",
    "cat_transformer = Pipeline(steps=[\n",
    "    (\"imputer\", SimpleImputer(strategy=\"most_frequent\")),\n",
    "    (\"onehot\", OneHotEncoder(handle_unknown='ignore'))])\n",
    "\n",
    "preprocessor = ColumnTransformer(transformers=[(\"num\", num_transformer, year_num_features),\n",
    "                                               (\"cat\", cat_transformer, year_cat_features)])\n",
    "\n",
    "year_X = full_data.dropna()[year_features]\n",
    "year_Y = full_data.dropna()['Year']\n",
    "\n",
    "year_X_train, year_X_test, year_y_train, year_y_test = train_test_split(year_X, year_Y, test_size=0.33, random_state=42)"
   ]
  },
  {
   "cell_type": "code",
   "execution_count": 16,
   "metadata": {
    "execution": {
     "iopub.execute_input": "2020-12-22T00:54:50.367456Z",
     "iopub.status.busy": "2020-12-22T00:54:50.366415Z",
     "iopub.status.idle": "2020-12-22T00:55:11.042471Z",
     "shell.execute_reply": "2020-12-22T00:55:11.041592Z"
    },
    "papermill": {
     "duration": 20.779567,
     "end_time": "2020-12-22T00:55:11.042632",
     "exception": false,
     "start_time": "2020-12-22T00:54:50.263065",
     "status": "completed"
    },
    "tags": []
   },
   "outputs": [
    {
     "name": "stdout",
     "output_type": "stream",
     "text": [
      "Ada_model accuracy: 0.09522038311326018\n",
      "RF_model accuracy: 0.12516273014692209\n",
      "KN_model accuracy: 0.05095778315045565\n"
     ]
    }
   ],
   "source": [
    "from sklearn.ensemble import AdaBoostClassifier\n",
    "from sklearn.neighbors import KNeighborsClassifier\n",
    "from sklearn.ensemble import RandomForestClassifier\n",
    "\n",
    "\n",
    "base_models = [(\"Ada_model\", AdaBoostClassifier(random_state=42)),\n",
    "               (\"RF_model\", RandomForestClassifier(random_state=42)),\n",
    "               (\"KN_model\", KNeighborsClassifier())]\n",
    "\n",
    "kfolds = 4 # 4 = 75% train, 25% validation\n",
    "split = KFold(n_splits=kfolds, shuffle=True, random_state=42)\n",
    "\n",
    "for name, model in base_models:\n",
    "    model_steps = Pipeline(steps=[('preprocessor', preprocessor),\n",
    "                              ('model', model)])\n",
    "    \n",
    "    model_steps.fit(year_X_train, year_y_train)\n",
    "\n",
    "    model_preds = model_steps.predict(year_X_test)\n",
    "\n",
    "    print(f\"{name} accuracy: {accuracy_score(year_y_test, model_preds)}\")"
   ]
  },
  {
   "cell_type": "markdown",
   "metadata": {
    "papermill": {
     "duration": 0.085052,
     "end_time": "2020-12-22T00:55:11.212641",
     "exception": false,
     "start_time": "2020-12-22T00:55:11.127589",
     "status": "completed"
    },
    "tags": []
   },
   "source": [
    "Since Random Forest has the best performance, let's fill missing values using the year it predicts"
   ]
  },
  {
   "cell_type": "code",
   "execution_count": 17,
   "metadata": {
    "execution": {
     "iopub.execute_input": "2020-12-22T00:55:11.388038Z",
     "iopub.status.busy": "2020-12-22T00:55:11.386960Z",
     "iopub.status.idle": "2020-12-22T00:55:11.399556Z",
     "shell.execute_reply": "2020-12-22T00:55:11.398915Z"
    },
    "papermill": {
     "duration": 0.103491,
     "end_time": "2020-12-22T00:55:11.399689",
     "exception": false,
     "start_time": "2020-12-22T00:55:11.296198",
     "status": "completed"
    },
    "tags": []
   },
   "outputs": [],
   "source": [
    "final_year_X_train = full_data[full_data['Year'].notnull()][year_features]\n",
    "final_year_y_train = full_data[full_data['Year'].notnull()][['Year']]\n",
    "\n",
    "final_year_X_test = full_data[full_data['Year'].isnull()][year_features]"
   ]
  },
  {
   "cell_type": "code",
   "execution_count": 18,
   "metadata": {
    "execution": {
     "iopub.execute_input": "2020-12-22T00:55:11.589200Z",
     "iopub.status.busy": "2020-12-22T00:55:11.588059Z",
     "iopub.status.idle": "2020-12-22T00:55:48.625684Z",
     "shell.execute_reply": "2020-12-22T00:55:48.624830Z"
    },
    "papermill": {
     "duration": 37.142583,
     "end_time": "2020-12-22T00:55:48.625824",
     "exception": false,
     "start_time": "2020-12-22T00:55:11.483241",
     "status": "completed"
    },
    "tags": []
   },
   "outputs": [],
   "source": [
    "model_steps = Pipeline(steps=[('preprocessor', preprocessor),\n",
    "                              ('model', RandomForestClassifier(random_state=42))])\n",
    "\n",
    "model_steps.fit(final_year_X_train, np.ravel(final_year_y_train))\n",
    "\n",
    "final_model_preds = model_steps.predict(final_year_X_test)"
   ]
  },
  {
   "cell_type": "code",
   "execution_count": 19,
   "metadata": {
    "execution": {
     "iopub.execute_input": "2020-12-22T00:55:48.802713Z",
     "iopub.status.busy": "2020-12-22T00:55:48.801940Z",
     "iopub.status.idle": "2020-12-22T00:55:48.805309Z",
     "shell.execute_reply": "2020-12-22T00:55:48.804569Z"
    },
    "papermill": {
     "duration": 0.094277,
     "end_time": "2020-12-22T00:55:48.805439",
     "exception": false,
     "start_time": "2020-12-22T00:55:48.711162",
     "status": "completed"
    },
    "tags": []
   },
   "outputs": [],
   "source": [
    "full_data.loc[full_data['Year'].isnull(), 'Year'] = final_model_preds"
   ]
  },
  {
   "cell_type": "code",
   "execution_count": 20,
   "metadata": {
    "execution": {
     "iopub.execute_input": "2020-12-22T00:55:49.032449Z",
     "iopub.status.busy": "2020-12-22T00:55:49.031341Z",
     "iopub.status.idle": "2020-12-22T00:55:49.035644Z",
     "shell.execute_reply": "2020-12-22T00:55:49.034886Z"
    },
    "papermill": {
     "duration": 0.146278,
     "end_time": "2020-12-22T00:55:49.035769",
     "exception": false,
     "start_time": "2020-12-22T00:55:48.889491",
     "status": "completed"
    },
    "tags": []
   },
   "outputs": [
    {
     "data": {
      "text/plain": [
       "0"
      ]
     },
     "execution_count": 20,
     "metadata": {},
     "output_type": "execute_result"
    }
   ],
   "source": [
    "full_data['Year'].isna().sum()"
   ]
  },
  {
   "cell_type": "markdown",
   "metadata": {
    "papermill": {
     "duration": 0.085702,
     "end_time": "2020-12-22T00:55:49.206756",
     "exception": false,
     "start_time": "2020-12-22T00:55:49.121054",
     "status": "completed"
    },
    "tags": []
   },
   "source": [
    "Now we have successfully filled the missing values in Year using predictions from a Random Forest Classifier."
   ]
  },
  {
   "cell_type": "markdown",
   "metadata": {
    "papermill": {
     "duration": 0.085557,
     "end_time": "2020-12-22T00:55:49.382485",
     "exception": false,
     "start_time": "2020-12-22T00:55:49.296928",
     "status": "completed"
    },
    "tags": []
   },
   "source": [
    "**Publisher**"
   ]
  },
  {
   "cell_type": "code",
   "execution_count": 21,
   "metadata": {
    "execution": {
     "iopub.execute_input": "2020-12-22T00:55:49.564805Z",
     "iopub.status.busy": "2020-12-22T00:55:49.563737Z",
     "iopub.status.idle": "2020-12-22T00:55:49.568777Z",
     "shell.execute_reply": "2020-12-22T00:55:49.568149Z"
    },
    "papermill": {
     "duration": 0.100858,
     "end_time": "2020-12-22T00:55:49.568899",
     "exception": false,
     "start_time": "2020-12-22T00:55:49.468041",
     "status": "completed"
    },
    "tags": []
   },
   "outputs": [
    {
     "data": {
      "text/plain": [
       "58"
      ]
     },
     "execution_count": 21,
     "metadata": {},
     "output_type": "execute_result"
    }
   ],
   "source": [
    "full_data['Publisher'].isna().sum()"
   ]
  },
  {
   "cell_type": "code",
   "execution_count": 22,
   "metadata": {
    "execution": {
     "iopub.execute_input": "2020-12-22T00:55:49.752505Z",
     "iopub.status.busy": "2020-12-22T00:55:49.751660Z",
     "iopub.status.idle": "2020-12-22T00:55:49.755547Z",
     "shell.execute_reply": "2020-12-22T00:55:49.756415Z"
    },
    "papermill": {
     "duration": 0.101973,
     "end_time": "2020-12-22T00:55:49.756639",
     "exception": false,
     "start_time": "2020-12-22T00:55:49.654666",
     "status": "completed"
    },
    "tags": []
   },
   "outputs": [
    {
     "name": "stdout",
     "output_type": "stream",
     "text": [
      "579\n",
      "['Nintendo' 'Microsoft Game Studios' 'Take-Two Interactive'\n",
      " 'Sony Computer Entertainment' 'Activision' 'Ubisoft' 'Bethesda Softworks'\n",
      " 'Electronic Arts' 'Sega' 'SquareSoft' 'Atari' '505 Games' 'Capcom'\n",
      " 'GT Interactive' 'Konami Digital Entertainment'\n",
      " 'Sony Computer Entertainment Europe' 'Square Enix' 'LucasArts'\n",
      " 'Virgin Interactive' 'Warner Bros. Interactive Entertainment'\n",
      " 'Universal Interactive' 'Eidos Interactive' 'RedOctane' 'Vivendi Games'\n",
      " 'Enix Corporation' 'Namco Bandai Games' 'Palcom' 'Hasbro Interactive'\n",
      " 'THQ' 'Fox Interactive' 'Acclaim Entertainment' 'MTV Games'\n",
      " 'Disney Interactive Studios' nan 'Majesco Entertainment' 'Codemasters'\n",
      " 'Red Orb' 'Level 5' 'Arena Entertainment' 'Midway Games' 'JVC'\n",
      " 'Deep Silver' '989 Studios' 'NCSoft' 'UEP Systems' 'Parker Bros.' 'Maxis'\n",
      " 'Imagic' 'Tecmo Koei' 'Valve Software' 'ASCII Entertainment' 'Mindscape'\n",
      " 'Infogrames' 'Unknown' 'Square' 'Valve' 'Activision Value' 'Banpresto'\n",
      " 'D3Publisher' 'Oxygen Interactive' 'Red Storm Entertainment'\n",
      " 'Video System' 'Hello Games' 'Global Star' 'Gotham Games'\n",
      " 'Westwood Studios' 'GungHo' 'Crave Entertainment' 'Hudson Soft' 'Coleco'\n",
      " 'Rising Star Games' 'Atlus' 'TDK Mediactive' 'ASC Games' 'Zoo Games'\n",
      " 'Accolade' 'Sony Online Entertainment' '3DO' 'RTL' 'Natsume'\n",
      " 'Focus Home Interactive' 'Alchemist' 'Black Label Games'\n",
      " 'SouthPeak Games' 'Mastertronic' 'Ocean' 'Zoo Digital Publishing'\n",
      " 'Psygnosis' 'City Interactive' 'Empire Interactive' 'Success' 'Compile'\n",
      " 'Russel' 'Taito' 'Agetec' 'GSP' 'Microprose' 'Play It'\n",
      " 'Slightly Mad Studios' 'Tomy Corporation' 'Sammy Corporation'\n",
      " 'Koch Media' 'Game Factory' 'Titus' 'Marvelous Entertainment' 'Genki'\n",
      " 'Mojang' 'Pinnacle' 'CTO SpA' 'TalonSoft' 'Crystal Dynamics' 'SCi'\n",
      " 'Quelle' 'mixi, Inc' 'Rage Software' 'Ubisoft Annecy' 'Scholastic Inc.'\n",
      " 'Interplay' 'Mystique' 'ChunSoft' 'Square EA'\n",
      " '20th Century Fox Video Games' 'Avanquest Software'\n",
      " 'Hudson Entertainment' 'Nordic Games' 'Men-A-Vision' 'Nobilis'\n",
      " 'Big Ben Interactive' 'Touchstone' 'Spike' 'Jester Interactive'\n",
      " 'Nippon Ichi Software' 'LEGO Media' 'Quest' 'Illusion Softworks'\n",
      " 'Tigervision' 'Funbox Media' 'Rocket Company' 'Metro 3D'\n",
      " 'Mattel Interactive' 'IE Institute' 'Rondomedia'\n",
      " 'Sony Computer Entertainment America' 'Universal Gamex' 'Ghostlight'\n",
      " 'Wizard Video Games' 'BMG Interactive Entertainment' 'PQube'\n",
      " 'Trion Worlds' 'Laguna' 'Ignition Entertainment' 'Takara'\n",
      " 'Kadokawa Shoten' 'Destineer' 'Enterbrain' 'Xseed Games' 'Imagineer'\n",
      " 'System 3 Arcade Software' 'CPG Products' 'Aruze Corp' 'Gamebridge'\n",
      " 'Midas Interactive Entertainment' 'Jaleco' 'Answer Software' 'XS Games'\n",
      " 'Activision Blizzard' 'Pack In Soft' 'Rebellion' 'Xplosiv' 'Ultravision'\n",
      " 'GameMill Entertainment' 'Wanadoo' 'NovaLogic' 'Telltale Games' 'Epoch'\n",
      " 'BAM! Entertainment' 'Knowledge Adventure' 'Mastiff' 'Tetris Online'\n",
      " 'Harmonix Music Systems' 'ESP' 'TYO' 'Telegames' 'Mud Duck Productions'\n",
      " 'Screenlife' 'Pioneer LDC' 'Magical Company' 'Mentor Interactive' 'Kemco'\n",
      " 'Human Entertainment' 'Avanquest' 'Data Age' 'Electronic Arts Victor'\n",
      " 'Black Bean Games' 'Jack of All Games' '989 Sports' 'Takara Tomy'\n",
      " 'Media Rings' 'Elf' 'Kalypso Media' 'Starfish' 'Zushi Games' 'Jorudan'\n",
      " 'Destination Software, Inc' 'New' 'Brash Entertainment'\n",
      " 'ITT Family Games' 'PopCap Games' 'Home Entertainment Suppliers'\n",
      " 'Ackkstudios' 'Starpath Corp.' 'P2 Games' 'BPS' 'Gathering of Developers'\n",
      " 'NewKidCo' 'Storm City Games' 'CokeM Interactive' 'CBS Electronics'\n",
      " 'Magix' 'Marvelous Interactive' 'Nihon Falcom Corporation'\n",
      " 'Wargaming.net' 'Angel Studios' 'Arc System Works' 'Playmates'\n",
      " 'SNK Playmore' 'Hamster Corporation' 'From Software' 'Nippon Columbia'\n",
      " 'Nichibutsu' 'Little Orbit' 'Conspiracy Entertainment'\n",
      " 'DTP Entertainment' 'Hect' 'Mumbo Jumbo' 'Pacific Century Cyber Works'\n",
      " 'Indie Games' 'Liquid Games' 'NEC' 'Axela' 'ArtDink' 'Sunsoft' 'Gust'\n",
      " 'SNK' 'NEC Interchannel' 'FuRyu' 'Xing Entertainment' 'ValuSoft'\n",
      " 'Victor Interactive' 'Detn8 Games' 'American Softworks' 'Nordcurrent'\n",
      " 'Bomb' 'Falcom Corporation' 'AQ Interactive' 'CCP' 'Milestone S.r.l.'\n",
      " 'Sears' 'JoWood Productions' 'Seta Corporation' 'On Demand' 'NCS' 'Aspyr'\n",
      " 'Gremlin Interactive Ltd' 'Agatsuma Entertainment' 'Compile Heart'\n",
      " 'Culture Brain' 'Mad Catz' 'Shogakukan' 'Merscom LLC'\n",
      " 'Rebellion Developments' 'Nippon Telenet' 'TDK Core' 'bitComposer Games'\n",
      " 'Foreign Media Games' 'Astragon' 'SSI' 'Kadokawa Games' 'Idea Factory'\n",
      " 'Performance Designed Products' 'Asylum Entertainment' 'Core Design Ltd.'\n",
      " 'PlayV' 'UFO Interactive' 'Idea Factory International'\n",
      " 'Playlogic Game Factory' 'Essential Games' 'Adeline Software' 'Funcom'\n",
      " 'Panther Software' 'Blast! Entertainment Ltd' 'Game Life' 'DSI Games'\n",
      " 'Avalon Interactive' 'Popcorn Arcade' 'Neko Entertainment'\n",
      " 'Vir2L Studios' 'Aques' 'Syscom' 'White Park Bay Software' 'System 3'\n",
      " 'Vatical Entertainment' 'Daedalic' 'EA Games' 'Media Factory' 'Vic Tokai'\n",
      " 'The Adventure Company' 'Game Arts' 'Broccoli' 'Acquire'\n",
      " 'General Entertainment' 'Excalibur Publishing' 'Imadio'\n",
      " 'Swing! Entertainment' 'Sony Music Entertainment' 'Aqua Plus'\n",
      " 'Paradox Interactive' 'Hip Interactive' 'DreamCatcher Interactive'\n",
      " 'Tripwire Interactive' 'Sting' 'Yacht Club Games' 'SCS Software'\n",
      " 'Bigben Interactive' 'Havas Interactive' 'Slitherine Software' 'Graffiti'\n",
      " 'Funsta' 'Telstar' 'U.S. Gold' 'DreamWorks Interactive'\n",
      " 'Data Design Interactive' 'MTO' 'DHM Interactive' 'FunSoft' 'SPS'\n",
      " 'Bohemia Interactive' 'Reef Entertainment' 'Tru Blu Entertainment' 'Moss'\n",
      " 'T&E Soft' 'O-Games' 'Aksys Games' 'NDA Productions' 'Data East'\n",
      " 'Time Warner Interactive' 'Gainax Network Systems' 'Daito'\n",
      " 'O3 Entertainment' 'Gameloft' 'Xicat Interactive'\n",
      " 'Simon & Schuster Interactive' 'Valcon Games' 'PopTop Software' 'TOHO'\n",
      " 'HMH Interactive' '5pb' 'Cave' 'CDV Software Entertainment' 'Microids'\n",
      " 'PM Studios' 'Paon' 'Micro Cabin' 'GameTek' 'Benesse' 'Type-Moon'\n",
      " 'Enjoy Gaming ltd.' 'Asmik Corp' 'Interplay Productions'\n",
      " 'Asmik Ace Entertainment' 'inXile Entertainment' 'Image Epoch'\n",
      " 'Phantom EFX' 'Evolved Games' 'responDESIGN' 'Culture Publishers'\n",
      " 'Griffin International' 'Hackberry' 'Hearty Robin' 'Nippon Amuse'\n",
      " 'Origin Systems' 'Seventh Chord' 'Mitsui' 'Milestone' 'Abylight'\n",
      " 'Flight-Plan' 'Glams' 'Locus' 'Warp' 'Daedalic Entertainment'\n",
      " 'Alternative Software' 'Myelin Media' 'Mercury Games'\n",
      " 'Irem Software Engineering' 'Sunrise Interactive' 'Elite'\n",
      " 'Evolution Games' 'Tivola' 'Global A Entertainment' 'Edia' 'Athena'\n",
      " 'Aria' 'Gamecock' 'Tommo' 'Altron' 'Happinet' 'iWin' 'Media Works'\n",
      " 'Fortyfive' 'Revolution Software' 'Imax' 'Crimson Cow' '10TACLE Studios'\n",
      " 'Groove Games' 'Pack-In-Video' 'Insomniac Games'\n",
      " 'Ascaron Entertainment GmbH' 'Asgard' 'Ecole' 'Yumedia' 'Phenomedia'\n",
      " 'HAL Laboratory' 'Grand Prix Games' 'DigiCube' 'Creative Core'\n",
      " 'Kaga Create' 'WayForward Technologies' 'LSP Games' 'ASCII Media Works'\n",
      " 'Coconuts Japan' 'Arika' 'Ertain' 'Marvel Entertainment' 'Prototype'\n",
      " 'TopWare Interactive' 'Phantagram' '1C Company' 'The Learning Company'\n",
      " 'TechnoSoft' 'Vap' 'Misawa' 'Tradewest' 'Team17 Software' 'Yeti' 'Pow'\n",
      " 'Navarre Corp' 'MediaQuest' 'Max Five' 'Comfort'\n",
      " 'Monte Christo Multimedia' 'Pony Canyon' 'Riverhillsoft' 'Summitsoft'\n",
      " 'Milestone S.r.l' 'Playmore' 'MLB.com' 'Kool Kizz' 'Flashpoint Games'\n",
      " '49Games' 'Legacy Interactive' 'Alawar Entertainment' 'CyberFront'\n",
      " 'Cloud Imperium Games Corporation' 'Societa' 'Virtual Play Games'\n",
      " 'Interchannel' 'Sonnet' 'Experience Inc.' 'Zenrin' 'Iceberg Interactive'\n",
      " 'Ivolgamus' '2D Boy' 'MC2 Entertainment' 'Kando Games' 'Just Flight'\n",
      " 'Office Create' 'Mamba Games' 'Fields' 'Princess Soft'\n",
      " 'Maximum Family Games' 'Berkeley' 'Fuji' 'Dusenberry Martin Racing'\n",
      " 'imageepoch Inc.' 'Big Fish Games' 'Her Interactive' 'Kamui' 'ASK'\n",
      " 'Headup Games' 'KSS' 'Cygames' 'KID' 'Quinrose' 'Sunflowers'\n",
      " 'dramatic create' 'TGL' 'Encore' 'Extreme Entertainment Group'\n",
      " 'Intergrow' 'G.Rev' 'Sweets' 'Kokopeli Digital Studios' 'Number None'\n",
      " 'Nexon' 'id Software' 'BushiRoad' 'Tryfirst' 'Strategy First' '7G//AMES'\n",
      " 'GN Software' \"Yuke's\" 'Easy Interactive' 'Licensed 4U'\n",
      " 'FuRyu Corporation' 'Lexicon Entertainment' 'Paon Corporation'\n",
      " 'Kids Station' 'GOA' 'Graphsim Entertainment' 'King Records'\n",
      " 'Introversion Software' 'Minato Station' 'Devolver Digital' 'Blue Byte'\n",
      " 'Gaga' 'Yamasa Entertainment' 'Plenty' 'Views' 'fonfun' 'NetRevo'\n",
      " 'Codemasters Online' 'Quintet' 'Phoenix Games' 'Dorart' 'Marvelous Games'\n",
      " 'Focus Multimedia' 'Imageworks' 'Karin Entertainment' 'Aerosoft'\n",
      " 'Technos Japan Corporation' 'Gakken' 'Mirai Shounen' 'Datam Polystar'\n",
      " 'Saurus' 'HuneX' 'Revolution (Japan)' 'Giza10' 'Visco' 'Alvion' 'Mycom'\n",
      " 'Giga' 'Warashi' 'System Soft' 'Sold Out' 'Lighthouse Interactive'\n",
      " 'Masque Publishing' 'RED Entertainment' 'Michaelsoft'\n",
      " 'Media Entertainment' 'New World Computing' 'Genterprise'\n",
      " 'Interworks Unlimited, Inc.' 'Boost On' 'Stainless Games'\n",
      " 'EON Digital Entertainment' 'Epic Games' 'Naxat Soft'\n",
      " 'Ascaron Entertainment' 'Piacci' 'Nitroplus' 'Paradox Development'\n",
      " 'Otomate' 'Ongakukan' 'Commseed' 'Inti Creates' 'Takuyo'\n",
      " 'Interchannel-Holon' 'Rain Games' 'UIG Entertainment']\n"
     ]
    }
   ],
   "source": [
    "print(len(full_data['Publisher'].unique()))\n",
    "print(full_data['Publisher'].unique())"
   ]
  },
  {
   "cell_type": "code",
   "execution_count": 23,
   "metadata": {
    "execution": {
     "iopub.execute_input": "2020-12-22T00:55:49.965025Z",
     "iopub.status.busy": "2020-12-22T00:55:49.963904Z",
     "iopub.status.idle": "2020-12-22T00:55:49.969720Z",
     "shell.execute_reply": "2020-12-22T00:55:49.968977Z"
    },
    "papermill": {
     "duration": 0.124884,
     "end_time": "2020-12-22T00:55:49.969848",
     "exception": false,
     "start_time": "2020-12-22T00:55:49.844964",
     "status": "completed"
    },
    "tags": []
   },
   "outputs": [
    {
     "data": {
      "text/html": [
       "<div>\n",
       "<style scoped>\n",
       "    .dataframe tbody tr th:only-of-type {\n",
       "        vertical-align: middle;\n",
       "    }\n",
       "\n",
       "    .dataframe tbody tr th {\n",
       "        vertical-align: top;\n",
       "    }\n",
       "\n",
       "    .dataframe thead th {\n",
       "        text-align: right;\n",
       "    }\n",
       "</style>\n",
       "<table border=\"1\" class=\"dataframe\">\n",
       "  <thead>\n",
       "    <tr style=\"text-align: right;\">\n",
       "      <th></th>\n",
       "      <th>Rank</th>\n",
       "      <th>Name</th>\n",
       "      <th>Platform</th>\n",
       "      <th>Year</th>\n",
       "      <th>Genre</th>\n",
       "      <th>Publisher</th>\n",
       "      <th>NA_Sales</th>\n",
       "      <th>EU_Sales</th>\n",
       "      <th>JP_Sales</th>\n",
       "      <th>Other_Sales</th>\n",
       "      <th>Global_Sales</th>\n",
       "    </tr>\n",
       "  </thead>\n",
       "  <tbody>\n",
       "    <tr>\n",
       "      <th>470</th>\n",
       "      <td>471</td>\n",
       "      <td>wwe Smackdown vs. Raw 2006</td>\n",
       "      <td>PS2</td>\n",
       "      <td>2000.0</td>\n",
       "      <td>Fighting</td>\n",
       "      <td>NaN</td>\n",
       "      <td>1.57</td>\n",
       "      <td>1.02</td>\n",
       "      <td>0.00</td>\n",
       "      <td>0.41</td>\n",
       "      <td>3.00</td>\n",
       "    </tr>\n",
       "    <tr>\n",
       "      <th>1303</th>\n",
       "      <td>1305</td>\n",
       "      <td>Triple Play 99</td>\n",
       "      <td>PS</td>\n",
       "      <td>2007.0</td>\n",
       "      <td>Sports</td>\n",
       "      <td>NaN</td>\n",
       "      <td>0.81</td>\n",
       "      <td>0.55</td>\n",
       "      <td>0.00</td>\n",
       "      <td>0.10</td>\n",
       "      <td>1.46</td>\n",
       "    </tr>\n",
       "    <tr>\n",
       "      <th>1662</th>\n",
       "      <td>1664</td>\n",
       "      <td>Shrek / Shrek 2 2-in-1 Gameboy Advance Video</td>\n",
       "      <td>GBA</td>\n",
       "      <td>2007.0</td>\n",
       "      <td>Misc</td>\n",
       "      <td>NaN</td>\n",
       "      <td>0.87</td>\n",
       "      <td>0.32</td>\n",
       "      <td>0.00</td>\n",
       "      <td>0.02</td>\n",
       "      <td>1.21</td>\n",
       "    </tr>\n",
       "    <tr>\n",
       "      <th>2222</th>\n",
       "      <td>2224</td>\n",
       "      <td>Bentley's Hackpack</td>\n",
       "      <td>GBA</td>\n",
       "      <td>2005.0</td>\n",
       "      <td>Misc</td>\n",
       "      <td>NaN</td>\n",
       "      <td>0.67</td>\n",
       "      <td>0.25</td>\n",
       "      <td>0.00</td>\n",
       "      <td>0.02</td>\n",
       "      <td>0.93</td>\n",
       "    </tr>\n",
       "    <tr>\n",
       "      <th>3159</th>\n",
       "      <td>3161</td>\n",
       "      <td>Nicktoons Collection: Game Boy Advance Video V...</td>\n",
       "      <td>GBA</td>\n",
       "      <td>2004.0</td>\n",
       "      <td>Misc</td>\n",
       "      <td>NaN</td>\n",
       "      <td>0.46</td>\n",
       "      <td>0.17</td>\n",
       "      <td>0.00</td>\n",
       "      <td>0.01</td>\n",
       "      <td>0.64</td>\n",
       "    </tr>\n",
       "    <tr>\n",
       "      <th>3166</th>\n",
       "      <td>3168</td>\n",
       "      <td>SpongeBob SquarePants: Game Boy Advance Video ...</td>\n",
       "      <td>GBA</td>\n",
       "      <td>2004.0</td>\n",
       "      <td>Misc</td>\n",
       "      <td>NaN</td>\n",
       "      <td>0.46</td>\n",
       "      <td>0.17</td>\n",
       "      <td>0.00</td>\n",
       "      <td>0.01</td>\n",
       "      <td>0.64</td>\n",
       "    </tr>\n",
       "    <tr>\n",
       "      <th>3766</th>\n",
       "      <td>3768</td>\n",
       "      <td>SpongeBob SquarePants: Game Boy Advance Video ...</td>\n",
       "      <td>GBA</td>\n",
       "      <td>2004.0</td>\n",
       "      <td>Misc</td>\n",
       "      <td>NaN</td>\n",
       "      <td>0.38</td>\n",
       "      <td>0.14</td>\n",
       "      <td>0.00</td>\n",
       "      <td>0.01</td>\n",
       "      <td>0.53</td>\n",
       "    </tr>\n",
       "    <tr>\n",
       "      <th>4145</th>\n",
       "      <td>4147</td>\n",
       "      <td>Sonic the Hedgehog</td>\n",
       "      <td>PS3</td>\n",
       "      <td>1998.0</td>\n",
       "      <td>Platform</td>\n",
       "      <td>NaN</td>\n",
       "      <td>0.00</td>\n",
       "      <td>0.48</td>\n",
       "      <td>0.00</td>\n",
       "      <td>0.00</td>\n",
       "      <td>0.48</td>\n",
       "    </tr>\n",
       "    <tr>\n",
       "      <th>4526</th>\n",
       "      <td>4528</td>\n",
       "      <td>The Fairly Odd Parents: Game Boy Advance Video...</td>\n",
       "      <td>GBA</td>\n",
       "      <td>2004.0</td>\n",
       "      <td>Misc</td>\n",
       "      <td>NaN</td>\n",
       "      <td>0.31</td>\n",
       "      <td>0.11</td>\n",
       "      <td>0.00</td>\n",
       "      <td>0.01</td>\n",
       "      <td>0.43</td>\n",
       "    </tr>\n",
       "    <tr>\n",
       "      <th>4635</th>\n",
       "      <td>4637</td>\n",
       "      <td>The Fairly Odd Parents: Game Boy Advance Video...</td>\n",
       "      <td>GBA</td>\n",
       "      <td>2004.0</td>\n",
       "      <td>Misc</td>\n",
       "      <td>NaN</td>\n",
       "      <td>0.30</td>\n",
       "      <td>0.11</td>\n",
       "      <td>0.00</td>\n",
       "      <td>0.01</td>\n",
       "      <td>0.42</td>\n",
       "    </tr>\n",
       "    <tr>\n",
       "      <th>5302</th>\n",
       "      <td>5304</td>\n",
       "      <td>Dragon Ball Z: Budokai Tenkaichi 2 (JP sales)</td>\n",
       "      <td>Wii</td>\n",
       "      <td>1994.0</td>\n",
       "      <td>Action</td>\n",
       "      <td>NaN</td>\n",
       "      <td>0.15</td>\n",
       "      <td>0.05</td>\n",
       "      <td>0.14</td>\n",
       "      <td>0.01</td>\n",
       "      <td>0.35</td>\n",
       "    </tr>\n",
       "    <tr>\n",
       "      <th>5647</th>\n",
       "      <td>5649</td>\n",
       "      <td>Cartoon Network Collection: Game Boy Advance V...</td>\n",
       "      <td>GBA</td>\n",
       "      <td>2005.0</td>\n",
       "      <td>Misc</td>\n",
       "      <td>NaN</td>\n",
       "      <td>0.23</td>\n",
       "      <td>0.08</td>\n",
       "      <td>0.00</td>\n",
       "      <td>0.01</td>\n",
       "      <td>0.32</td>\n",
       "    </tr>\n",
       "    <tr>\n",
       "      <th>6272</th>\n",
       "      <td>6274</td>\n",
       "      <td>The Legend of Zelda: The Minish Cap(weekly JP ...</td>\n",
       "      <td>GBA</td>\n",
       "      <td>1996.0</td>\n",
       "      <td>Action</td>\n",
       "      <td>NaN</td>\n",
       "      <td>0.00</td>\n",
       "      <td>0.00</td>\n",
       "      <td>0.27</td>\n",
       "      <td>0.01</td>\n",
       "      <td>0.27</td>\n",
       "    </tr>\n",
       "    <tr>\n",
       "      <th>6437</th>\n",
       "      <td>6439</td>\n",
       "      <td>Sonic X: Game Boy Advance Video Volume 1</td>\n",
       "      <td>GBA</td>\n",
       "      <td>2004.0</td>\n",
       "      <td>Misc</td>\n",
       "      <td>NaN</td>\n",
       "      <td>0.19</td>\n",
       "      <td>0.07</td>\n",
       "      <td>0.00</td>\n",
       "      <td>0.00</td>\n",
       "      <td>0.27</td>\n",
       "    </tr>\n",
       "    <tr>\n",
       "      <th>6562</th>\n",
       "      <td>6564</td>\n",
       "      <td>Dora the Explorer: Game Boy Advance Video Volu...</td>\n",
       "      <td>GBA</td>\n",
       "      <td>2004.0</td>\n",
       "      <td>Misc</td>\n",
       "      <td>NaN</td>\n",
       "      <td>0.18</td>\n",
       "      <td>0.07</td>\n",
       "      <td>0.00</td>\n",
       "      <td>0.00</td>\n",
       "      <td>0.26</td>\n",
       "    </tr>\n",
       "    <tr>\n",
       "      <th>6648</th>\n",
       "      <td>6650</td>\n",
       "      <td>Cartoon Network Collection: Game Boy Advance V...</td>\n",
       "      <td>GBA</td>\n",
       "      <td>2004.0</td>\n",
       "      <td>Misc</td>\n",
       "      <td>NaN</td>\n",
       "      <td>0.18</td>\n",
       "      <td>0.07</td>\n",
       "      <td>0.00</td>\n",
       "      <td>0.00</td>\n",
       "      <td>0.25</td>\n",
       "    </tr>\n",
       "    <tr>\n",
       "      <th>6849</th>\n",
       "      <td>6851</td>\n",
       "      <td>All Grown Up!: Game Boy Advance Video Volume 1</td>\n",
       "      <td>GBA</td>\n",
       "      <td>2004.0</td>\n",
       "      <td>Misc</td>\n",
       "      <td>NaN</td>\n",
       "      <td>0.17</td>\n",
       "      <td>0.06</td>\n",
       "      <td>0.00</td>\n",
       "      <td>0.00</td>\n",
       "      <td>0.24</td>\n",
       "    </tr>\n",
       "    <tr>\n",
       "      <th>7208</th>\n",
       "      <td>7210</td>\n",
       "      <td>Nicktoons Collection: Game Boy Advance Video V...</td>\n",
       "      <td>GBA</td>\n",
       "      <td>2004.0</td>\n",
       "      <td>Misc</td>\n",
       "      <td>NaN</td>\n",
       "      <td>0.16</td>\n",
       "      <td>0.06</td>\n",
       "      <td>0.00</td>\n",
       "      <td>0.00</td>\n",
       "      <td>0.22</td>\n",
       "    </tr>\n",
       "    <tr>\n",
       "      <th>7351</th>\n",
       "      <td>7353</td>\n",
       "      <td>Yu Yu Hakusho: Dark Tournament</td>\n",
       "      <td>PS2</td>\n",
       "      <td>2007.0</td>\n",
       "      <td>Fighting</td>\n",
       "      <td>NaN</td>\n",
       "      <td>0.10</td>\n",
       "      <td>0.08</td>\n",
       "      <td>0.00</td>\n",
       "      <td>0.03</td>\n",
       "      <td>0.21</td>\n",
       "    </tr>\n",
       "    <tr>\n",
       "      <th>7470</th>\n",
       "      <td>7472</td>\n",
       "      <td>SpongeBob SquarePants: Game Boy Advance Video ...</td>\n",
       "      <td>GBA</td>\n",
       "      <td>2004.0</td>\n",
       "      <td>Misc</td>\n",
       "      <td>NaN</td>\n",
       "      <td>0.15</td>\n",
       "      <td>0.05</td>\n",
       "      <td>0.00</td>\n",
       "      <td>0.00</td>\n",
       "      <td>0.21</td>\n",
       "    </tr>\n",
       "  </tbody>\n",
       "</table>\n",
       "</div>"
      ],
      "text/plain": [
       "      Rank                                               Name Platform  \\\n",
       "470    471                         wwe Smackdown vs. Raw 2006      PS2   \n",
       "1303  1305                                     Triple Play 99       PS   \n",
       "1662  1664       Shrek / Shrek 2 2-in-1 Gameboy Advance Video      GBA   \n",
       "2222  2224                                 Bentley's Hackpack      GBA   \n",
       "3159  3161  Nicktoons Collection: Game Boy Advance Video V...      GBA   \n",
       "3166  3168  SpongeBob SquarePants: Game Boy Advance Video ...      GBA   \n",
       "3766  3768  SpongeBob SquarePants: Game Boy Advance Video ...      GBA   \n",
       "4145  4147                                 Sonic the Hedgehog      PS3   \n",
       "4526  4528  The Fairly Odd Parents: Game Boy Advance Video...      GBA   \n",
       "4635  4637  The Fairly Odd Parents: Game Boy Advance Video...      GBA   \n",
       "5302  5304      Dragon Ball Z: Budokai Tenkaichi 2 (JP sales)      Wii   \n",
       "5647  5649  Cartoon Network Collection: Game Boy Advance V...      GBA   \n",
       "6272  6274  The Legend of Zelda: The Minish Cap(weekly JP ...      GBA   \n",
       "6437  6439           Sonic X: Game Boy Advance Video Volume 1      GBA   \n",
       "6562  6564  Dora the Explorer: Game Boy Advance Video Volu...      GBA   \n",
       "6648  6650  Cartoon Network Collection: Game Boy Advance V...      GBA   \n",
       "6849  6851     All Grown Up!: Game Boy Advance Video Volume 1      GBA   \n",
       "7208  7210  Nicktoons Collection: Game Boy Advance Video V...      GBA   \n",
       "7351  7353                     Yu Yu Hakusho: Dark Tournament      PS2   \n",
       "7470  7472  SpongeBob SquarePants: Game Boy Advance Video ...      GBA   \n",
       "\n",
       "        Year     Genre Publisher  NA_Sales  EU_Sales  JP_Sales  Other_Sales  \\\n",
       "470   2000.0  Fighting       NaN      1.57      1.02      0.00         0.41   \n",
       "1303  2007.0    Sports       NaN      0.81      0.55      0.00         0.10   \n",
       "1662  2007.0      Misc       NaN      0.87      0.32      0.00         0.02   \n",
       "2222  2005.0      Misc       NaN      0.67      0.25      0.00         0.02   \n",
       "3159  2004.0      Misc       NaN      0.46      0.17      0.00         0.01   \n",
       "3166  2004.0      Misc       NaN      0.46      0.17      0.00         0.01   \n",
       "3766  2004.0      Misc       NaN      0.38      0.14      0.00         0.01   \n",
       "4145  1998.0  Platform       NaN      0.00      0.48      0.00         0.00   \n",
       "4526  2004.0      Misc       NaN      0.31      0.11      0.00         0.01   \n",
       "4635  2004.0      Misc       NaN      0.30      0.11      0.00         0.01   \n",
       "5302  1994.0    Action       NaN      0.15      0.05      0.14         0.01   \n",
       "5647  2005.0      Misc       NaN      0.23      0.08      0.00         0.01   \n",
       "6272  1996.0    Action       NaN      0.00      0.00      0.27         0.01   \n",
       "6437  2004.0      Misc       NaN      0.19      0.07      0.00         0.00   \n",
       "6562  2004.0      Misc       NaN      0.18      0.07      0.00         0.00   \n",
       "6648  2004.0      Misc       NaN      0.18      0.07      0.00         0.00   \n",
       "6849  2004.0      Misc       NaN      0.17      0.06      0.00         0.00   \n",
       "7208  2004.0      Misc       NaN      0.16      0.06      0.00         0.00   \n",
       "7351  2007.0  Fighting       NaN      0.10      0.08      0.00         0.03   \n",
       "7470  2004.0      Misc       NaN      0.15      0.05      0.00         0.00   \n",
       "\n",
       "      Global_Sales  \n",
       "470           3.00  \n",
       "1303          1.46  \n",
       "1662          1.21  \n",
       "2222          0.93  \n",
       "3159          0.64  \n",
       "3166          0.64  \n",
       "3766          0.53  \n",
       "4145          0.48  \n",
       "4526          0.43  \n",
       "4635          0.42  \n",
       "5302          0.35  \n",
       "5647          0.32  \n",
       "6272          0.27  \n",
       "6437          0.27  \n",
       "6562          0.26  \n",
       "6648          0.25  \n",
       "6849          0.24  \n",
       "7208          0.22  \n",
       "7351          0.21  \n",
       "7470          0.21  "
      ]
     },
     "execution_count": 23,
     "metadata": {},
     "output_type": "execute_result"
    }
   ],
   "source": [
    "full_data.loc[full_data['Publisher'].isna()].head(20)"
   ]
  },
  {
   "cell_type": "markdown",
   "metadata": {
    "papermill": {
     "duration": 0.088512,
     "end_time": "2020-12-22T00:55:50.146462",
     "exception": false,
     "start_time": "2020-12-22T00:55:50.057950",
     "status": "completed"
    },
    "tags": []
   },
   "source": [
    "I don't want to drop data, so here I will just give them a Publisher value of 'Unknown'"
   ]
  },
  {
   "cell_type": "code",
   "execution_count": 24,
   "metadata": {
    "execution": {
     "iopub.execute_input": "2020-12-22T00:55:50.331560Z",
     "iopub.status.busy": "2020-12-22T00:55:50.330633Z",
     "iopub.status.idle": "2020-12-22T00:55:50.333302Z",
     "shell.execute_reply": "2020-12-22T00:55:50.333835Z"
    },
    "papermill": {
     "duration": 0.099606,
     "end_time": "2020-12-22T00:55:50.333999",
     "exception": false,
     "start_time": "2020-12-22T00:55:50.234393",
     "status": "completed"
    },
    "tags": []
   },
   "outputs": [],
   "source": [
    "full_data.loc[full_data['Publisher'].isna(), 'Publisher'] = 'Unknown'"
   ]
  },
  {
   "cell_type": "code",
   "execution_count": 25,
   "metadata": {
    "execution": {
     "iopub.execute_input": "2020-12-22T00:55:50.519800Z",
     "iopub.status.busy": "2020-12-22T00:55:50.518892Z",
     "iopub.status.idle": "2020-12-22T00:55:50.523140Z",
     "shell.execute_reply": "2020-12-22T00:55:50.522403Z"
    },
    "papermill": {
     "duration": 0.100986,
     "end_time": "2020-12-22T00:55:50.523275",
     "exception": false,
     "start_time": "2020-12-22T00:55:50.422289",
     "status": "completed"
    },
    "tags": []
   },
   "outputs": [
    {
     "data": {
      "text/plain": [
       "0"
      ]
     },
     "execution_count": 25,
     "metadata": {},
     "output_type": "execute_result"
    }
   ],
   "source": [
    "full_data['Publisher'].isna().sum()"
   ]
  },
  {
   "cell_type": "markdown",
   "metadata": {
    "papermill": {
     "duration": 0.08793,
     "end_time": "2020-12-22T00:55:50.700736",
     "exception": false,
     "start_time": "2020-12-22T00:55:50.612806",
     "status": "completed"
    },
    "tags": []
   },
   "source": [
    "# Univariate Data Analysis\n",
    "\n",
    "Now we have take a quick look at the data. I say we can see more distributions of variables regarding video game sales. (Rank and names obviously don't need to be examined individually)"
   ]
  },
  {
   "cell_type": "markdown",
   "metadata": {
    "papermill": {
     "duration": 0.089137,
     "end_time": "2020-12-22T00:55:50.878597",
     "exception": false,
     "start_time": "2020-12-22T00:55:50.789460",
     "status": "completed"
    },
    "tags": []
   },
   "source": [
    "**Platform**"
   ]
  },
  {
   "cell_type": "code",
   "execution_count": 26,
   "metadata": {
    "execution": {
     "iopub.execute_input": "2020-12-22T00:55:51.072057Z",
     "iopub.status.busy": "2020-12-22T00:55:51.070877Z",
     "iopub.status.idle": "2020-12-22T00:55:51.423839Z",
     "shell.execute_reply": "2020-12-22T00:55:51.422935Z"
    },
    "papermill": {
     "duration": 0.456202,
     "end_time": "2020-12-22T00:55:51.423969",
     "exception": false,
     "start_time": "2020-12-22T00:55:50.967767",
     "status": "completed"
    },
    "tags": []
   },
   "outputs": [
    {
     "data": {
      "image/png": "[encoded data removed]",
      "text/plain": [
       "<Figure size 1080x720 with 1 Axes>"
      ]
     },
     "metadata": {
      "needs_background": "light"
     },
     "output_type": "display_data"
    },
    {
     "name": "stdout",
     "output_type": "stream",
     "text": [
      "DS      13.031691\n",
      "PS2     13.019641\n",
      "PS3      8.006989\n",
      "Wii      7.982890\n",
      "X360     7.621400\n",
      "PSP      7.308109\n",
      "PS       7.205687\n",
      "PC       5.783829\n",
      "XB       4.964454\n",
      "GBA      4.952404\n",
      "GC       3.349801\n",
      "3DS      3.066635\n",
      "PSV      2.488252\n",
      "PS4      2.024340\n",
      "N64      1.921918\n",
      "SNES     1.439933\n",
      "XOne     1.283287\n",
      "SAT      1.042294\n",
      "WiiU     0.861550\n",
      "2600     0.801301\n",
      "NES      0.590433\n",
      "GB       0.590433\n",
      "DC       0.313291\n",
      "GEN      0.162670\n",
      "NG       0.072298\n",
      "WS       0.036149\n",
      "SCD      0.036149\n",
      "3DO      0.018074\n",
      "TG16     0.012050\n",
      "PCFX     0.006025\n",
      "GG       0.006025\n",
      "Name: Platform, dtype: float64\n"
     ]
    }
   ],
   "source": [
    "plt.figure(figsize=(15, 10))\n",
    "plt.title(\"Platforms\")\n",
    "sns.countplot(x=full_data['Platform'], order=full_data['Platform'].value_counts().index)\n",
    "plt.show()\n",
    "\n",
    "print(full_data['Platform'].value_counts() / full_data.shape[0] * 100)"
   ]
  },
  {
   "cell_type": "markdown",
   "metadata": {
    "papermill": {
     "duration": 0.090103,
     "end_time": "2020-12-22T00:55:51.603830",
     "exception": false,
     "start_time": "2020-12-22T00:55:51.513727",
     "status": "completed"
    },
    "tags": []
   },
   "source": [
    "So we see that the most popular platforms are like DS, PS2, PS3, PC, and etc. This follows our expectations."
   ]
  },
  {
   "cell_type": "markdown",
   "metadata": {
    "papermill": {
     "duration": 0.089289,
     "end_time": "2020-12-22T00:55:51.783469",
     "exception": false,
     "start_time": "2020-12-22T00:55:51.694180",
     "status": "completed"
    },
    "tags": []
   },
   "source": [
    "**Year**"
   ]
  },
  {
   "cell_type": "code",
   "execution_count": 27,
   "metadata": {
    "execution": {
     "iopub.execute_input": "2020-12-22T00:55:51.979093Z",
     "iopub.status.busy": "2020-12-22T00:55:51.977846Z",
     "iopub.status.idle": "2020-12-22T00:55:52.438071Z",
     "shell.execute_reply": "2020-12-22T00:55:52.437004Z"
    },
    "papermill": {
     "duration": 0.564994,
     "end_time": "2020-12-22T00:55:52.438276",
     "exception": false,
     "start_time": "2020-12-22T00:55:51.873282",
     "status": "completed"
    },
    "tags": []
   },
   "outputs": [
    {
     "data": {
      "image/png": "[encoded data removed]",
      "text/plain": [
       "<Figure size 2520x720 with 1 Axes>"
      ]
     },
     "metadata": {
      "needs_background": "light"
     },
     "output_type": "display_data"
    },
    {
     "name": "stdout",
     "output_type": "stream",
     "text": [
      "2009.0    8.766116\n",
      "2008.0    8.675744\n",
      "2010.0    7.844319\n",
      "2007.0    7.332209\n",
      "2011.0    7.121340\n",
      "2006.0    6.139294\n",
      "2005.0    5.783829\n",
      "2002.0    5.048801\n",
      "2003.0    4.729485\n",
      "2004.0    4.681287\n",
      "2012.0    4.006507\n",
      "2015.0    3.747439\n",
      "2014.0    3.578744\n",
      "2013.0    3.307627\n",
      "2001.0    2.952163\n",
      "1998.0    2.307507\n",
      "2000.0    2.120737\n",
      "2016.0    2.084589\n",
      "1999.0    2.036390\n",
      "1997.0    1.747198\n",
      "1996.0    1.596578\n",
      "1995.0    1.319436\n",
      "1994.0    0.735028\n",
      "1993.0    0.361489\n",
      "1981.0    0.349440\n",
      "1992.0    0.265092\n",
      "1991.0    0.247018\n",
      "1982.0    0.222918\n",
      "1986.0    0.126521\n",
      "1989.0    0.108447\n",
      "1987.0    0.102422\n",
      "1983.0    0.102422\n",
      "1990.0    0.096397\n",
      "1988.0    0.096397\n",
      "1985.0    0.084348\n",
      "1984.0    0.084348\n",
      "1980.0    0.066273\n",
      "2017.0    0.018074\n",
      "2020.0    0.006025\n",
      "Name: Year, dtype: float64\n"
     ]
    }
   ],
   "source": [
    "plt.figure(figsize=(35, 10))\n",
    "plt.title(\"Year\")\n",
    "sns.countplot(x=full_data['Year'], order=full_data['Year'].value_counts().index)\n",
    "plt.show()\n",
    "\n",
    "print(full_data['Year'].value_counts() / full_data.shape[0] * 100)"
   ]
  },
  {
   "cell_type": "markdown",
   "metadata": {
    "papermill": {
     "duration": 0.092513,
     "end_time": "2020-12-22T00:55:52.625484",
     "exception": false,
     "start_time": "2020-12-22T00:55:52.532971",
     "status": "completed"
    },
    "tags": []
   },
   "source": [
    "We see that most games were released around 2010, which I think is partly due to the time this dataset was collected and partly because that time period was when devices like computer or game station really gained popularity."
   ]
  },
  {
   "cell_type": "markdown",
   "metadata": {
    "papermill": {
     "duration": 0.091261,
     "end_time": "2020-12-22T00:55:52.808625",
     "exception": false,
     "start_time": "2020-12-22T00:55:52.717364",
     "status": "completed"
    },
    "tags": []
   },
   "source": [
    "**Genre**"
   ]
  },
  {
   "cell_type": "code",
   "execution_count": 28,
   "metadata": {
    "execution": {
     "iopub.execute_input": "2020-12-22T00:55:53.008767Z",
     "iopub.status.busy": "2020-12-22T00:55:53.007632Z",
     "iopub.status.idle": "2020-12-22T00:55:53.247340Z",
     "shell.execute_reply": "2020-12-22T00:55:53.248139Z"
    },
    "papermill": {
     "duration": 0.347949,
     "end_time": "2020-12-22T00:55:53.248340",
     "exception": false,
     "start_time": "2020-12-22T00:55:52.900391",
     "status": "completed"
    },
    "tags": []
   },
   "outputs": [
    {
     "data": {
      "image/png": "[encoded data removed]",
      "text/plain": [
       "<Figure size 1080x720 with 1 Axes>"
      ]
     },
     "metadata": {
      "needs_background": "light"
     },
     "output_type": "display_data"
    },
    {
     "name": "stdout",
     "output_type": "stream",
     "text": [
      "Action          19.978311\n",
      "Sports          14.134233\n",
      "Misc            10.477166\n",
      "Role-Playing     8.964936\n",
      "Shooter          7.892517\n",
      "Adventure        7.747921\n",
      "Racing           7.525003\n",
      "Platform         5.337993\n",
      "Simulation       5.223521\n",
      "Fighting         5.109049\n",
      "Strategy         4.102904\n",
      "Puzzle           3.506447\n",
      "Name: Genre, dtype: float64\n"
     ]
    }
   ],
   "source": [
    "plt.figure(figsize=(15, 10))\n",
    "plt.title(\"Genre\")\n",
    "sns.countplot(x=full_data['Genre'], order=full_data['Genre'].value_counts().index)\n",
    "plt.show()\n",
    "\n",
    "print(full_data['Genre'].value_counts() / full_data.shape[0] * 100)"
   ]
  },
  {
   "cell_type": "markdown",
   "metadata": {
    "papermill": {
     "duration": 0.092135,
     "end_time": "2020-12-22T00:55:53.433564",
     "exception": false,
     "start_time": "2020-12-22T00:55:53.341429",
     "status": "completed"
    },
    "tags": []
   },
   "source": [
    "This shows that the most popular genres are action and sports. Again, this kinda follows our expectations. Action games are usually the most popular kind."
   ]
  },
  {
   "cell_type": "markdown",
   "metadata": {
    "papermill": {
     "duration": 0.093253,
     "end_time": "2020-12-22T00:55:53.619689",
     "exception": false,
     "start_time": "2020-12-22T00:55:53.526436",
     "status": "completed"
    },
    "tags": []
   },
   "source": [
    "**Publisher**\n",
    "\n",
    "Since there are too many publishers, let's just focus on the top 10 most popular publishers."
   ]
  },
  {
   "cell_type": "code",
   "execution_count": 29,
   "metadata": {
    "execution": {
     "iopub.execute_input": "2020-12-22T00:55:53.819323Z",
     "iopub.status.busy": "2020-12-22T00:55:53.818267Z",
     "iopub.status.idle": "2020-12-22T00:55:53.821807Z",
     "shell.execute_reply": "2020-12-22T00:55:53.821023Z"
    },
    "papermill": {
     "duration": 0.109154,
     "end_time": "2020-12-22T00:55:53.821939",
     "exception": false,
     "start_time": "2020-12-22T00:55:53.712785",
     "status": "completed"
    },
    "tags": []
   },
   "outputs": [],
   "source": [
    "top_ten = full_data['Publisher'].value_counts().head(10)"
   ]
  },
  {
   "cell_type": "code",
   "execution_count": 30,
   "metadata": {
    "execution": {
     "iopub.execute_input": "2020-12-22T00:55:54.029003Z",
     "iopub.status.busy": "2020-12-22T00:55:54.024911Z",
     "iopub.status.idle": "2020-12-22T00:55:54.247775Z",
     "shell.execute_reply": "2020-12-22T00:55:54.248537Z"
    },
    "papermill": {
     "duration": 0.333791,
     "end_time": "2020-12-22T00:55:54.248750",
     "exception": false,
     "start_time": "2020-12-22T00:55:53.914959",
     "status": "completed"
    },
    "tags": []
   },
   "outputs": [
    {
     "data": {
      "image/png": "[encoded data removed]",
      "text/plain": [
       "<Figure size 1080x720 with 1 Axes>"
      ]
     },
     "metadata": {
      "needs_background": "light"
     },
     "output_type": "display_data"
    },
    {
     "name": "stdout",
     "output_type": "stream",
     "text": [
      "Electronic Arts                 8.139535\n",
      "Activision                      5.874202\n",
      "Namco Bandai Games              5.615134\n",
      "Ubisoft                         5.548861\n",
      "Konami Digital Entertainment    5.012652\n",
      "THQ                             4.307748\n",
      "Nintendo                        4.235450\n",
      "Sony Computer Entertainment     4.114954\n",
      "Sega                            3.849861\n",
      "Take-Two Interactive            2.488252\n",
      "Name: Publisher, dtype: float64\n"
     ]
    }
   ],
   "source": [
    "plt.figure(figsize=(15, 10))\n",
    "plt.title(\"Publisher\")\n",
    "sns.countplot(x=full_data['Publisher'], order=top_ten.index)\n",
    "plt.show()\n",
    "\n",
    "print(top_ten / full_data.shape[0] * 100)"
   ]
  },
  {
   "cell_type": "markdown",
   "metadata": {
    "papermill": {
     "duration": 0.094076,
     "end_time": "2020-12-22T00:55:54.438323",
     "exception": false,
     "start_time": "2020-12-22T00:55:54.344247",
     "status": "completed"
    },
    "tags": []
   },
   "source": [
    "So basically the companies that sell the most amount of games are like EA, Activision, NBG, Ubisoft, and others. These companies are indeed the most famous ones out there."
   ]
  },
  {
   "cell_type": "markdown",
   "metadata": {
    "papermill": {
     "duration": 0.095251,
     "end_time": "2020-12-22T00:55:54.628089",
     "exception": false,
     "start_time": "2020-12-22T00:55:54.532838",
     "status": "completed"
    },
    "tags": []
   },
   "source": [
    "**Sales in North America**"
   ]
  },
  {
   "cell_type": "code",
   "execution_count": 31,
   "metadata": {
    "execution": {
     "iopub.execute_input": "2020-12-22T00:55:54.830714Z",
     "iopub.status.busy": "2020-12-22T00:55:54.829926Z",
     "iopub.status.idle": "2020-12-22T00:55:55.274080Z",
     "shell.execute_reply": "2020-12-22T00:55:55.273077Z"
    },
    "papermill": {
     "duration": 0.551563,
     "end_time": "2020-12-22T00:55:55.274275",
     "exception": false,
     "start_time": "2020-12-22T00:55:54.722712",
     "status": "completed"
    },
    "tags": []
   },
   "outputs": [
    {
     "data": {
      "image/png": "[encoded data removed]",
      "text/plain": [
       "<Figure size 1080x720 with 1 Axes>"
      ]
     },
     "metadata": {
      "needs_background": "light"
     },
     "output_type": "display_data"
    },
    {
     "name": "stdout",
     "output_type": "stream",
     "text": [
      "count    16598.000000\n",
      "mean         0.264667\n",
      "std          0.816683\n",
      "min          0.000000\n",
      "25%          0.000000\n",
      "50%          0.080000\n",
      "75%          0.240000\n",
      "max         41.490000\n",
      "Name: NA_Sales, dtype: float64\n"
     ]
    }
   ],
   "source": [
    "plt.figure(figsize=(15, 10))\n",
    "plt.title(\"North America Sales\")\n",
    "sns.distplot(a=full_data['NA_Sales'], kde=False)\n",
    "plt.show()\n",
    "\n",
    "print(full_data['NA_Sales'].describe())"
   ]
  },
  {
   "cell_type": "code",
   "execution_count": 32,
   "metadata": {
    "execution": {
     "iopub.execute_input": "2020-12-22T00:55:55.487584Z",
     "iopub.status.busy": "2020-12-22T00:55:55.486694Z",
     "iopub.status.idle": "2020-12-22T00:55:55.650376Z",
     "shell.execute_reply": "2020-12-22T00:55:55.649693Z"
    },
    "papermill": {
     "duration": 0.267235,
     "end_time": "2020-12-22T00:55:55.650508",
     "exception": false,
     "start_time": "2020-12-22T00:55:55.383273",
     "status": "completed"
    },
    "tags": []
   },
   "outputs": [
    {
     "data": {
      "image/png": "[encoded data removed]",
      "text/plain": [
       "<Figure size 1080x720 with 1 Axes>"
      ]
     },
     "metadata": {
      "needs_background": "light"
     },
     "output_type": "display_data"
    },
    {
     "name": "stdout",
     "output_type": "stream",
     "text": [
      "count    16598.000000\n",
      "mean         0.264667\n",
      "std          0.816683\n",
      "min          0.000000\n",
      "25%          0.000000\n",
      "50%          0.080000\n",
      "75%          0.240000\n",
      "max         41.490000\n",
      "Name: NA_Sales, dtype: float64\n"
     ]
    }
   ],
   "source": [
    "plt.figure(figsize=(15, 10))\n",
    "plt.title(\"North America Sales\")\n",
    "sns.boxplot(x=full_data['NA_Sales'])\n",
    "plt.show()\n",
    "\n",
    "print(full_data['NA_Sales'].describe())"
   ]
  },
  {
   "cell_type": "markdown",
   "metadata": {
    "papermill": {
     "duration": 0.098074,
     "end_time": "2020-12-22T00:55:55.846869",
     "exception": false,
     "start_time": "2020-12-22T00:55:55.748795",
     "status": "completed"
    },
    "tags": []
   },
   "source": [
    "OK, so we see that the sales in North America is highly right-skewed. Most companies will not even make a million sales in NA, but there is a game that sold 41.49 million times! I wonder what game that is. Let's check out."
   ]
  },
  {
   "cell_type": "code",
   "execution_count": 33,
   "metadata": {
    "execution": {
     "iopub.execute_input": "2020-12-22T00:55:56.063123Z",
     "iopub.status.busy": "2020-12-22T00:55:56.062250Z",
     "iopub.status.idle": "2020-12-22T00:55:56.066415Z",
     "shell.execute_reply": "2020-12-22T00:55:56.066976Z"
    },
    "papermill": {
     "duration": 0.122107,
     "end_time": "2020-12-22T00:55:56.067172",
     "exception": false,
     "start_time": "2020-12-22T00:55:55.945065",
     "status": "completed"
    },
    "tags": []
   },
   "outputs": [
    {
     "data": {
      "text/html": [
       "<div>\n",
       "<style scoped>\n",
       "    .dataframe tbody tr th:only-of-type {\n",
       "        vertical-align: middle;\n",
       "    }\n",
       "\n",
       "    .dataframe tbody tr th {\n",
       "        vertical-align: top;\n",
       "    }\n",
       "\n",
       "    .dataframe thead th {\n",
       "        text-align: right;\n",
       "    }\n",
       "</style>\n",
       "<table border=\"1\" class=\"dataframe\">\n",
       "  <thead>\n",
       "    <tr style=\"text-align: right;\">\n",
       "      <th></th>\n",
       "      <th>Rank</th>\n",
       "      <th>Name</th>\n",
       "      <th>Platform</th>\n",
       "      <th>Year</th>\n",
       "      <th>Genre</th>\n",
       "      <th>Publisher</th>\n",
       "      <th>NA_Sales</th>\n",
       "      <th>EU_Sales</th>\n",
       "      <th>JP_Sales</th>\n",
       "      <th>Other_Sales</th>\n",
       "      <th>Global_Sales</th>\n",
       "    </tr>\n",
       "  </thead>\n",
       "  <tbody>\n",
       "    <tr>\n",
       "      <th>0</th>\n",
       "      <td>1</td>\n",
       "      <td>Wii Sports</td>\n",
       "      <td>Wii</td>\n",
       "      <td>2006.0</td>\n",
       "      <td>Sports</td>\n",
       "      <td>Nintendo</td>\n",
       "      <td>41.49</td>\n",
       "      <td>29.02</td>\n",
       "      <td>3.77</td>\n",
       "      <td>8.46</td>\n",
       "      <td>82.74</td>\n",
       "    </tr>\n",
       "  </tbody>\n",
       "</table>\n",
       "</div>"
      ],
      "text/plain": [
       "   Rank        Name Platform    Year   Genre Publisher  NA_Sales  EU_Sales  \\\n",
       "0     1  Wii Sports      Wii  2006.0  Sports  Nintendo     41.49     29.02   \n",
       "\n",
       "   JP_Sales  Other_Sales  Global_Sales  \n",
       "0      3.77         8.46         82.74  "
      ]
     },
     "execution_count": 33,
     "metadata": {},
     "output_type": "execute_result"
    }
   ],
   "source": [
    "full_data.loc[full_data['NA_Sales'] == 41.49]"
   ]
  },
  {
   "cell_type": "markdown",
   "metadata": {
    "papermill": {
     "duration": 0.098304,
     "end_time": "2020-12-22T00:55:56.265548",
     "exception": false,
     "start_time": "2020-12-22T00:55:56.167244",
     "status": "completed"
    },
    "tags": []
   },
   "source": [
    "Wii Sports it is. Also, this is actually the #1 game in the rank! No wonder why the game is this popular in North America."
   ]
  },
  {
   "cell_type": "markdown",
   "metadata": {
    "papermill": {
     "duration": 0.115707,
     "end_time": "2020-12-22T00:55:56.495347",
     "exception": false,
     "start_time": "2020-12-22T00:55:56.379640",
     "status": "completed"
    },
    "tags": []
   },
   "source": [
    "**Sales in Europe**"
   ]
  },
  {
   "cell_type": "code",
   "execution_count": 34,
   "metadata": {
    "execution": {
     "iopub.execute_input": "2020-12-22T00:55:56.706576Z",
     "iopub.status.busy": "2020-12-22T00:55:56.705634Z",
     "iopub.status.idle": "2020-12-22T00:55:57.017277Z",
     "shell.execute_reply": "2020-12-22T00:55:57.016434Z"
    },
    "papermill": {
     "duration": 0.423207,
     "end_time": "2020-12-22T00:55:57.017449",
     "exception": false,
     "start_time": "2020-12-22T00:55:56.594242",
     "status": "completed"
    },
    "tags": []
   },
   "outputs": [
    {
     "data": {
      "image/png": "[encoded data removed]",
      "text/plain": [
       "<Figure size 1080x720 with 1 Axes>"
      ]
     },
     "metadata": {
      "needs_background": "light"
     },
     "output_type": "display_data"
    },
    {
     "name": "stdout",
     "output_type": "stream",
     "text": [
      "count    16598.000000\n",
      "mean         0.146652\n",
      "std          0.505351\n",
      "min          0.000000\n",
      "25%          0.000000\n",
      "50%          0.020000\n",
      "75%          0.110000\n",
      "max         29.020000\n",
      "Name: EU_Sales, dtype: float64\n"
     ]
    }
   ],
   "source": [
    "plt.figure(figsize=(15, 10))\n",
    "plt.title(\"Europe Sales\")\n",
    "sns.distplot(a=full_data['EU_Sales'], kde=False)\n",
    "plt.show()\n",
    "\n",
    "print(full_data['EU_Sales'].describe())"
   ]
  },
  {
   "cell_type": "code",
   "execution_count": 35,
   "metadata": {
    "execution": {
     "iopub.execute_input": "2020-12-22T00:55:57.235518Z",
     "iopub.status.busy": "2020-12-22T00:55:57.234190Z",
     "iopub.status.idle": "2020-12-22T00:55:57.399308Z",
     "shell.execute_reply": "2020-12-22T00:55:57.398472Z"
    },
    "papermill": {
     "duration": 0.280169,
     "end_time": "2020-12-22T00:55:57.399436",
     "exception": false,
     "start_time": "2020-12-22T00:55:57.119267",
     "status": "completed"
    },
    "tags": []
   },
   "outputs": [
    {
     "data": {
      "image/png": "[encoded data removed]",
      "text/plain": [
       "<Figure size 1080x720 with 1 Axes>"
      ]
     },
     "metadata": {
      "needs_background": "light"
     },
     "output_type": "display_data"
    },
    {
     "name": "stdout",
     "output_type": "stream",
     "text": [
      "count    16598.000000\n",
      "mean         0.146652\n",
      "std          0.505351\n",
      "min          0.000000\n",
      "25%          0.000000\n",
      "50%          0.020000\n",
      "75%          0.110000\n",
      "max         29.020000\n",
      "Name: EU_Sales, dtype: float64\n"
     ]
    }
   ],
   "source": [
    "plt.figure(figsize=(15, 10))\n",
    "plt.title(\"Europe Sales\")\n",
    "sns.boxplot(x=full_data['EU_Sales'])\n",
    "plt.show()\n",
    "\n",
    "print(full_data['EU_Sales'].describe())"
   ]
  },
  {
   "cell_type": "markdown",
   "metadata": {
    "papermill": {
     "duration": 0.101045,
     "end_time": "2020-12-22T00:55:57.601740",
     "exception": false,
     "start_time": "2020-12-22T00:55:57.500695",
     "status": "completed"
    },
    "tags": []
   },
   "source": [
    "Again, the distribution is highly right skewed. This again indicates that the video game market is somewhat an oligopoly. Most companies will only have a small share in the market, but there are a few that will sell exponentially more. Also, let's check which game has the most sales in Europe. "
   ]
  },
  {
   "cell_type": "code",
   "execution_count": 36,
   "metadata": {
    "execution": {
     "iopub.execute_input": "2020-12-22T00:55:57.817366Z",
     "iopub.status.busy": "2020-12-22T00:55:57.812921Z",
     "iopub.status.idle": "2020-12-22T00:55:57.828889Z",
     "shell.execute_reply": "2020-12-22T00:55:57.828275Z"
    },
    "papermill": {
     "duration": 0.124742,
     "end_time": "2020-12-22T00:55:57.829008",
     "exception": false,
     "start_time": "2020-12-22T00:55:57.704266",
     "status": "completed"
    },
    "tags": []
   },
   "outputs": [
    {
     "data": {
      "text/html": [
       "<div>\n",
       "<style scoped>\n",
       "    .dataframe tbody tr th:only-of-type {\n",
       "        vertical-align: middle;\n",
       "    }\n",
       "\n",
       "    .dataframe tbody tr th {\n",
       "        vertical-align: top;\n",
       "    }\n",
       "\n",
       "    .dataframe thead th {\n",
       "        text-align: right;\n",
       "    }\n",
       "</style>\n",
       "<table border=\"1\" class=\"dataframe\">\n",
       "  <thead>\n",
       "    <tr style=\"text-align: right;\">\n",
       "      <th></th>\n",
       "      <th>Rank</th>\n",
       "      <th>Name</th>\n",
       "      <th>Platform</th>\n",
       "      <th>Year</th>\n",
       "      <th>Genre</th>\n",
       "      <th>Publisher</th>\n",
       "      <th>NA_Sales</th>\n",
       "      <th>EU_Sales</th>\n",
       "      <th>JP_Sales</th>\n",
       "      <th>Other_Sales</th>\n",
       "      <th>Global_Sales</th>\n",
       "    </tr>\n",
       "  </thead>\n",
       "  <tbody>\n",
       "    <tr>\n",
       "      <th>0</th>\n",
       "      <td>1</td>\n",
       "      <td>Wii Sports</td>\n",
       "      <td>Wii</td>\n",
       "      <td>2006.0</td>\n",
       "      <td>Sports</td>\n",
       "      <td>Nintendo</td>\n",
       "      <td>41.49</td>\n",
       "      <td>29.02</td>\n",
       "      <td>3.77</td>\n",
       "      <td>8.46</td>\n",
       "      <td>82.74</td>\n",
       "    </tr>\n",
       "  </tbody>\n",
       "</table>\n",
       "</div>"
      ],
      "text/plain": [
       "   Rank        Name Platform    Year   Genre Publisher  NA_Sales  EU_Sales  \\\n",
       "0     1  Wii Sports      Wii  2006.0  Sports  Nintendo     41.49     29.02   \n",
       "\n",
       "   JP_Sales  Other_Sales  Global_Sales  \n",
       "0      3.77         8.46         82.74  "
      ]
     },
     "execution_count": 36,
     "metadata": {},
     "output_type": "execute_result"
    }
   ],
   "source": [
    "full_data.loc[full_data['EU_Sales'] == 29.02]"
   ]
  },
  {
   "cell_type": "markdown",
   "metadata": {
    "papermill": {
     "duration": 0.101969,
     "end_time": "2020-12-22T00:55:58.033801",
     "exception": false,
     "start_time": "2020-12-22T00:55:57.931832",
     "status": "completed"
    },
    "tags": []
   },
   "source": [
    "Well, it is again Wii Sports."
   ]
  },
  {
   "cell_type": "markdown",
   "metadata": {
    "papermill": {
     "duration": 0.101671,
     "end_time": "2020-12-22T00:55:58.237920",
     "exception": false,
     "start_time": "2020-12-22T00:55:58.136249",
     "status": "completed"
    },
    "tags": []
   },
   "source": [
    "**Sales in Japan**"
   ]
  },
  {
   "cell_type": "code",
   "execution_count": 37,
   "metadata": {
    "execution": {
     "iopub.execute_input": "2020-12-22T00:55:58.455027Z",
     "iopub.status.busy": "2020-12-22T00:55:58.454039Z",
     "iopub.status.idle": "2020-12-22T00:55:58.755398Z",
     "shell.execute_reply": "2020-12-22T00:55:58.754704Z"
    },
    "papermill": {
     "duration": 0.415747,
     "end_time": "2020-12-22T00:55:58.755540",
     "exception": false,
     "start_time": "2020-12-22T00:55:58.339793",
     "status": "completed"
    },
    "tags": []
   },
   "outputs": [
    {
     "data": {
      "image/png": "[encoded data removed]",
      "text/plain": [
       "<Figure size 1080x720 with 1 Axes>"
      ]
     },
     "metadata": {
      "needs_background": "light"
     },
     "output_type": "display_data"
    },
    {
     "name": "stdout",
     "output_type": "stream",
     "text": [
      "count    16598.000000\n",
      "mean         0.077782\n",
      "std          0.309291\n",
      "min          0.000000\n",
      "25%          0.000000\n",
      "50%          0.000000\n",
      "75%          0.040000\n",
      "max         10.220000\n",
      "Name: JP_Sales, dtype: float64\n"
     ]
    }
   ],
   "source": [
    "plt.figure(figsize=(15, 10))\n",
    "plt.title(\"Japan Sales\")\n",
    "sns.distplot(a=full_data['JP_Sales'], kde=False)\n",
    "plt.show()\n",
    "\n",
    "print(full_data['JP_Sales'].describe())"
   ]
  },
  {
   "cell_type": "code",
   "execution_count": 38,
   "metadata": {
    "execution": {
     "iopub.execute_input": "2020-12-22T00:55:58.986399Z",
     "iopub.status.busy": "2020-12-22T00:55:58.984983Z",
     "iopub.status.idle": "2020-12-22T00:55:59.140449Z",
     "shell.execute_reply": "2020-12-22T00:55:59.141005Z"
    },
    "papermill": {
     "duration": 0.281559,
     "end_time": "2020-12-22T00:55:59.141201",
     "exception": false,
     "start_time": "2020-12-22T00:55:58.859642",
     "status": "completed"
    },
    "tags": []
   },
   "outputs": [
    {
     "data": {
      "image/png": "[encoded data removed]",
      "text/plain": [
       "<Figure size 1080x720 with 1 Axes>"
      ]
     },
     "metadata": {
      "needs_background": "light"
     },
     "output_type": "display_data"
    },
    {
     "name": "stdout",
     "output_type": "stream",
     "text": [
      "count    16598.000000\n",
      "mean         0.077782\n",
      "std          0.309291\n",
      "min          0.000000\n",
      "25%          0.000000\n",
      "50%          0.000000\n",
      "75%          0.040000\n",
      "max         10.220000\n",
      "Name: JP_Sales, dtype: float64\n"
     ]
    }
   ],
   "source": [
    "plt.figure(figsize=(15, 10))\n",
    "plt.title(\"Japan Sales\")\n",
    "sns.boxplot(x=full_data['JP_Sales'])\n",
    "plt.show()\n",
    "\n",
    "print(full_data['JP_Sales'].describe())"
   ]
  },
  {
   "cell_type": "markdown",
   "metadata": {
    "papermill": {
     "duration": 0.104646,
     "end_time": "2020-12-22T00:55:59.351029",
     "exception": false,
     "start_time": "2020-12-22T00:55:59.246383",
     "status": "completed"
    },
    "tags": []
   },
   "source": [
    "Still right-skewed, and the game that has the most sale is:"
   ]
  },
  {
   "cell_type": "code",
   "execution_count": 39,
   "metadata": {
    "execution": {
     "iopub.execute_input": "2020-12-22T00:55:59.579694Z",
     "iopub.status.busy": "2020-12-22T00:55:59.578780Z",
     "iopub.status.idle": "2020-12-22T00:55:59.583352Z",
     "shell.execute_reply": "2020-12-22T00:55:59.582609Z"
    },
    "papermill": {
     "duration": 0.127684,
     "end_time": "2020-12-22T00:55:59.583478",
     "exception": false,
     "start_time": "2020-12-22T00:55:59.455794",
     "status": "completed"
    },
    "tags": []
   },
   "outputs": [
    {
     "data": {
      "text/html": [
       "<div>\n",
       "<style scoped>\n",
       "    .dataframe tbody tr th:only-of-type {\n",
       "        vertical-align: middle;\n",
       "    }\n",
       "\n",
       "    .dataframe tbody tr th {\n",
       "        vertical-align: top;\n",
       "    }\n",
       "\n",
       "    .dataframe thead th {\n",
       "        text-align: right;\n",
       "    }\n",
       "</style>\n",
       "<table border=\"1\" class=\"dataframe\">\n",
       "  <thead>\n",
       "    <tr style=\"text-align: right;\">\n",
       "      <th></th>\n",
       "      <th>Rank</th>\n",
       "      <th>Name</th>\n",
       "      <th>Platform</th>\n",
       "      <th>Year</th>\n",
       "      <th>Genre</th>\n",
       "      <th>Publisher</th>\n",
       "      <th>NA_Sales</th>\n",
       "      <th>EU_Sales</th>\n",
       "      <th>JP_Sales</th>\n",
       "      <th>Other_Sales</th>\n",
       "      <th>Global_Sales</th>\n",
       "    </tr>\n",
       "  </thead>\n",
       "  <tbody>\n",
       "    <tr>\n",
       "      <th>4</th>\n",
       "      <td>5</td>\n",
       "      <td>Pokemon Red/Pokemon Blue</td>\n",
       "      <td>GB</td>\n",
       "      <td>1996.0</td>\n",
       "      <td>Role-Playing</td>\n",
       "      <td>Nintendo</td>\n",
       "      <td>11.27</td>\n",
       "      <td>8.89</td>\n",
       "      <td>10.22</td>\n",
       "      <td>1.0</td>\n",
       "      <td>31.37</td>\n",
       "    </tr>\n",
       "  </tbody>\n",
       "</table>\n",
       "</div>"
      ],
      "text/plain": [
       "   Rank                      Name Platform    Year         Genre Publisher  \\\n",
       "4     5  Pokemon Red/Pokemon Blue       GB  1996.0  Role-Playing  Nintendo   \n",
       "\n",
       "   NA_Sales  EU_Sales  JP_Sales  Other_Sales  Global_Sales  \n",
       "4     11.27      8.89     10.22          1.0         31.37  "
      ]
     },
     "execution_count": 39,
     "metadata": {},
     "output_type": "execute_result"
    }
   ],
   "source": [
    "full_data.loc[full_data['JP_Sales'] == 10.22]"
   ]
  },
  {
   "cell_type": "markdown",
   "metadata": {
    "papermill": {
     "duration": 0.105492,
     "end_time": "2020-12-22T00:55:59.795540",
     "exception": false,
     "start_time": "2020-12-22T00:55:59.690048",
     "status": "completed"
    },
    "tags": []
   },
   "source": [
    "Wow! This time it is not Wii Sport! It is actually Pokemon Red/Blue! This is actually a surprise to me. I would though that since Wii Sport is the number 1 game and is from Japan, Wii Sport would be the number 1 at Japan too. I guess this is the beauty of data analysis."
   ]
  },
  {
   "cell_type": "markdown",
   "metadata": {
    "papermill": {
     "duration": 0.106463,
     "end_time": "2020-12-22T00:56:00.007416",
     "exception": false,
     "start_time": "2020-12-22T00:55:59.900953",
     "status": "completed"
    },
    "tags": []
   },
   "source": [
    "**Sales in the rest of the world**"
   ]
  },
  {
   "cell_type": "code",
   "execution_count": 40,
   "metadata": {
    "execution": {
     "iopub.execute_input": "2020-12-22T00:56:00.227310Z",
     "iopub.status.busy": "2020-12-22T00:56:00.226215Z",
     "iopub.status.idle": "2020-12-22T00:56:00.537664Z",
     "shell.execute_reply": "2020-12-22T00:56:00.536710Z"
    },
    "papermill": {
     "duration": 0.424661,
     "end_time": "2020-12-22T00:56:00.537811",
     "exception": false,
     "start_time": "2020-12-22T00:56:00.113150",
     "status": "completed"
    },
    "tags": []
   },
   "outputs": [
    {
     "data": {
      "image/png": "[encoded data removed]",
      "text/plain": [
       "<Figure size 1080x720 with 1 Axes>"
      ]
     },
     "metadata": {
      "needs_background": "light"
     },
     "output_type": "display_data"
    },
    {
     "name": "stdout",
     "output_type": "stream",
     "text": [
      "count    16598.000000\n",
      "mean         0.048063\n",
      "std          0.188588\n",
      "min          0.000000\n",
      "25%          0.000000\n",
      "50%          0.010000\n",
      "75%          0.040000\n",
      "max         10.570000\n",
      "Name: Other_Sales, dtype: float64\n"
     ]
    }
   ],
   "source": [
    "plt.figure(figsize=(15, 10))\n",
    "plt.title(\"Other Sales\")\n",
    "sns.distplot(a=full_data['Other_Sales'], kde=False)\n",
    "plt.show()\n",
    "\n",
    "print(full_data['Other_Sales'].describe())"
   ]
  },
  {
   "cell_type": "code",
   "execution_count": 41,
   "metadata": {
    "execution": {
     "iopub.execute_input": "2020-12-22T00:56:00.768162Z",
     "iopub.status.busy": "2020-12-22T00:56:00.766795Z",
     "iopub.status.idle": "2020-12-22T00:56:00.926065Z",
     "shell.execute_reply": "2020-12-22T00:56:00.925232Z"
    },
    "papermill": {
     "duration": 0.279985,
     "end_time": "2020-12-22T00:56:00.926273",
     "exception": false,
     "start_time": "2020-12-22T00:56:00.646288",
     "status": "completed"
    },
    "tags": []
   },
   "outputs": [
    {
     "data": {
      "image/png": "[encoded data removed]",
      "text/plain": [
       "<Figure size 1080x720 with 1 Axes>"
      ]
     },
     "metadata": {
      "needs_background": "light"
     },
     "output_type": "display_data"
    },
    {
     "name": "stdout",
     "output_type": "stream",
     "text": [
      "count    16598.000000\n",
      "mean         0.048063\n",
      "std          0.188588\n",
      "min          0.000000\n",
      "25%          0.000000\n",
      "50%          0.010000\n",
      "75%          0.040000\n",
      "max         10.570000\n",
      "Name: Other_Sales, dtype: float64\n"
     ]
    }
   ],
   "source": [
    "plt.figure(figsize=(15, 10))\n",
    "plt.title(\"Other Sales\")\n",
    "sns.boxplot(x=full_data['Other_Sales'])\n",
    "plt.show()\n",
    "\n",
    "print(full_data['Other_Sales'].describe())"
   ]
  },
  {
   "cell_type": "code",
   "execution_count": 42,
   "metadata": {
    "execution": {
     "iopub.execute_input": "2020-12-22T00:56:01.167574Z",
     "iopub.status.busy": "2020-12-22T00:56:01.160365Z",
     "iopub.status.idle": "2020-12-22T00:56:01.178833Z",
     "shell.execute_reply": "2020-12-22T00:56:01.178046Z"
    },
    "papermill": {
     "duration": 0.134302,
     "end_time": "2020-12-22T00:56:01.178960",
     "exception": false,
     "start_time": "2020-12-22T00:56:01.044658",
     "status": "completed"
    },
    "tags": []
   },
   "outputs": [
    {
     "data": {
      "text/html": [
       "<div>\n",
       "<style scoped>\n",
       "    .dataframe tbody tr th:only-of-type {\n",
       "        vertical-align: middle;\n",
       "    }\n",
       "\n",
       "    .dataframe tbody tr th {\n",
       "        vertical-align: top;\n",
       "    }\n",
       "\n",
       "    .dataframe thead th {\n",
       "        text-align: right;\n",
       "    }\n",
       "</style>\n",
       "<table border=\"1\" class=\"dataframe\">\n",
       "  <thead>\n",
       "    <tr style=\"text-align: right;\">\n",
       "      <th></th>\n",
       "      <th>Rank</th>\n",
       "      <th>Name</th>\n",
       "      <th>Platform</th>\n",
       "      <th>Year</th>\n",
       "      <th>Genre</th>\n",
       "      <th>Publisher</th>\n",
       "      <th>NA_Sales</th>\n",
       "      <th>EU_Sales</th>\n",
       "      <th>JP_Sales</th>\n",
       "      <th>Other_Sales</th>\n",
       "      <th>Global_Sales</th>\n",
       "    </tr>\n",
       "  </thead>\n",
       "  <tbody>\n",
       "    <tr>\n",
       "      <th>17</th>\n",
       "      <td>18</td>\n",
       "      <td>Grand Theft Auto: San Andreas</td>\n",
       "      <td>PS2</td>\n",
       "      <td>2004.0</td>\n",
       "      <td>Action</td>\n",
       "      <td>Take-Two Interactive</td>\n",
       "      <td>9.43</td>\n",
       "      <td>0.4</td>\n",
       "      <td>0.41</td>\n",
       "      <td>10.57</td>\n",
       "      <td>20.81</td>\n",
       "    </tr>\n",
       "  </tbody>\n",
       "</table>\n",
       "</div>"
      ],
      "text/plain": [
       "    Rank                           Name Platform    Year   Genre  \\\n",
       "17    18  Grand Theft Auto: San Andreas      PS2  2004.0  Action   \n",
       "\n",
       "               Publisher  NA_Sales  EU_Sales  JP_Sales  Other_Sales  \\\n",
       "17  Take-Two Interactive      9.43       0.4      0.41        10.57   \n",
       "\n",
       "    Global_Sales  \n",
       "17         20.81  "
      ]
     },
     "execution_count": 42,
     "metadata": {},
     "output_type": "execute_result"
    }
   ],
   "source": [
    "full_data.loc[full_data['Other_Sales'] == 10.57]"
   ]
  },
  {
   "cell_type": "markdown",
   "metadata": {
    "papermill": {
     "duration": 0.110162,
     "end_time": "2020-12-22T00:56:01.399462",
     "exception": false,
     "start_time": "2020-12-22T00:56:01.289300",
     "status": "completed"
    },
    "tags": []
   },
   "source": [
    "OK, now for the other parts of the world, GTA San Andreas is actully the most sold game. Again, an interesting thing to learn. "
   ]
  },
  {
   "cell_type": "markdown",
   "metadata": {
    "papermill": {
     "duration": 0.110221,
     "end_time": "2020-12-22T00:56:01.619554",
     "exception": false,
     "start_time": "2020-12-22T00:56:01.509333",
     "status": "completed"
    },
    "tags": []
   },
   "source": [
    "**Global Sales**"
   ]
  },
  {
   "cell_type": "code",
   "execution_count": 43,
   "metadata": {
    "execution": {
     "iopub.execute_input": "2020-12-22T00:56:01.856329Z",
     "iopub.status.busy": "2020-12-22T00:56:01.855485Z",
     "iopub.status.idle": "2020-12-22T00:56:02.157244Z",
     "shell.execute_reply": "2020-12-22T00:56:02.158045Z"
    },
    "papermill": {
     "duration": 0.427166,
     "end_time": "2020-12-22T00:56:02.158255",
     "exception": false,
     "start_time": "2020-12-22T00:56:01.731089",
     "status": "completed"
    },
    "tags": []
   },
   "outputs": [
    {
     "data": {
      "image/png": "[encoded data removed]",
      "text/plain": [
       "<Figure size 1080x720 with 1 Axes>"
      ]
     },
     "metadata": {
      "needs_background": "light"
     },
     "output_type": "display_data"
    },
    {
     "name": "stdout",
     "output_type": "stream",
     "text": [
      "count    16598.000000\n",
      "mean         0.537441\n",
      "std          1.555028\n",
      "min          0.010000\n",
      "25%          0.060000\n",
      "50%          0.170000\n",
      "75%          0.470000\n",
      "max         82.740000\n",
      "Name: Global_Sales, dtype: float64\n"
     ]
    }
   ],
   "source": [
    "plt.figure(figsize=(15, 10))\n",
    "plt.title(\"Global Sales\")\n",
    "sns.distplot(a=full_data['Global_Sales'], kde=False)\n",
    "plt.show()\n",
    "\n",
    "print(full_data['Global_Sales'].describe())"
   ]
  },
  {
   "cell_type": "code",
   "execution_count": 44,
   "metadata": {
    "execution": {
     "iopub.execute_input": "2020-12-22T00:56:02.394643Z",
     "iopub.status.busy": "2020-12-22T00:56:02.390115Z",
     "iopub.status.idle": "2020-12-22T00:56:02.548793Z",
     "shell.execute_reply": "2020-12-22T00:56:02.547884Z"
    },
    "papermill": {
     "duration": 0.276825,
     "end_time": "2020-12-22T00:56:02.548956",
     "exception": false,
     "start_time": "2020-12-22T00:56:02.272131",
     "status": "completed"
    },
    "tags": []
   },
   "outputs": [
    {
     "data": {
      "image/png": "[encoded data removed]",
      "text/plain": [
       "<Figure size 1080x720 with 1 Axes>"
      ]
     },
     "metadata": {
      "needs_background": "light"
     },
     "output_type": "display_data"
    },
    {
     "name": "stdout",
     "output_type": "stream",
     "text": [
      "count    16598.000000\n",
      "mean         0.537441\n",
      "std          1.555028\n",
      "min          0.010000\n",
      "25%          0.060000\n",
      "50%          0.170000\n",
      "75%          0.470000\n",
      "max         82.740000\n",
      "Name: Global_Sales, dtype: float64\n"
     ]
    }
   ],
   "source": [
    "plt.figure(figsize=(15, 10))\n",
    "plt.title(\"Global Sales\")\n",
    "sns.boxplot(x=full_data['Global_Sales'])\n",
    "plt.show()\n",
    "\n",
    "print(full_data['Global_Sales'].describe())"
   ]
  },
  {
   "cell_type": "code",
   "execution_count": 45,
   "metadata": {
    "execution": {
     "iopub.execute_input": "2020-12-22T00:56:02.793267Z",
     "iopub.status.busy": "2020-12-22T00:56:02.792347Z",
     "iopub.status.idle": "2020-12-22T00:56:02.797485Z",
     "shell.execute_reply": "2020-12-22T00:56:02.796837Z"
    },
    "papermill": {
     "duration": 0.135518,
     "end_time": "2020-12-22T00:56:02.797608",
     "exception": false,
     "start_time": "2020-12-22T00:56:02.662090",
     "status": "completed"
    },
    "tags": []
   },
   "outputs": [
    {
     "data": {
      "text/html": [
       "<div>\n",
       "<style scoped>\n",
       "    .dataframe tbody tr th:only-of-type {\n",
       "        vertical-align: middle;\n",
       "    }\n",
       "\n",
       "    .dataframe tbody tr th {\n",
       "        vertical-align: top;\n",
       "    }\n",
       "\n",
       "    .dataframe thead th {\n",
       "        text-align: right;\n",
       "    }\n",
       "</style>\n",
       "<table border=\"1\" class=\"dataframe\">\n",
       "  <thead>\n",
       "    <tr style=\"text-align: right;\">\n",
       "      <th></th>\n",
       "      <th>Rank</th>\n",
       "      <th>Name</th>\n",
       "      <th>Platform</th>\n",
       "      <th>Year</th>\n",
       "      <th>Genre</th>\n",
       "      <th>Publisher</th>\n",
       "      <th>NA_Sales</th>\n",
       "      <th>EU_Sales</th>\n",
       "      <th>JP_Sales</th>\n",
       "      <th>Other_Sales</th>\n",
       "      <th>Global_Sales</th>\n",
       "    </tr>\n",
       "  </thead>\n",
       "  <tbody>\n",
       "    <tr>\n",
       "      <th>0</th>\n",
       "      <td>1</td>\n",
       "      <td>Wii Sports</td>\n",
       "      <td>Wii</td>\n",
       "      <td>2006.0</td>\n",
       "      <td>Sports</td>\n",
       "      <td>Nintendo</td>\n",
       "      <td>41.49</td>\n",
       "      <td>29.02</td>\n",
       "      <td>3.77</td>\n",
       "      <td>8.46</td>\n",
       "      <td>82.74</td>\n",
       "    </tr>\n",
       "  </tbody>\n",
       "</table>\n",
       "</div>"
      ],
      "text/plain": [
       "   Rank        Name Platform    Year   Genre Publisher  NA_Sales  EU_Sales  \\\n",
       "0     1  Wii Sports      Wii  2006.0  Sports  Nintendo     41.49     29.02   \n",
       "\n",
       "   JP_Sales  Other_Sales  Global_Sales  \n",
       "0      3.77         8.46         82.74  "
      ]
     },
     "execution_count": 45,
     "metadata": {},
     "output_type": "execute_result"
    }
   ],
   "source": [
    "full_data.loc[full_data['Global_Sales'] == 82.74]"
   ]
  },
  {
   "cell_type": "markdown",
   "metadata": {
    "papermill": {
     "duration": 0.113878,
     "end_time": "2020-12-22T00:56:03.024946",
     "exception": false,
     "start_time": "2020-12-22T00:56:02.911068",
     "status": "completed"
    },
    "tags": []
   },
   "source": [
    "Now the global sales is shown. Again, it is visualized, and the game with the most sales is Wii Sport, which is indeed ranked #1 in our dataset."
   ]
  },
  {
   "cell_type": "markdown",
   "metadata": {
    "papermill": {
     "duration": 0.129289,
     "end_time": "2020-12-22T00:56:03.294491",
     "exception": false,
     "start_time": "2020-12-22T00:56:03.165202",
     "status": "completed"
    },
    "tags": []
   },
   "source": [
    "# Define the Question"
   ]
  },
  {
   "cell_type": "markdown",
   "metadata": {
    "papermill": {
     "duration": 0.114247,
     "end_time": "2020-12-22T00:56:03.523788",
     "exception": false,
     "start_time": "2020-12-22T00:56:03.409541",
     "status": "completed"
    },
    "tags": []
   },
   "source": [
    "Now we have looked at the data, I begin to be curious about what factors will affect the global sales of a game. Obviously when predicting about this, we cannot use any of the region sale information or the rank as parameters for our model because that is data leakage. Therefore, we are left to only the Platform, Year, Genre, and Publisher columns. So I say let's now work on making a prediction of the global sales based on these four columns and see how accurate the prediction is."
   ]
  },
  {
   "cell_type": "markdown",
   "metadata": {
    "papermill": {
     "duration": 0.114833,
     "end_time": "2020-12-22T00:56:03.752812",
     "exception": false,
     "start_time": "2020-12-22T00:56:03.637979",
     "status": "completed"
    },
    "tags": []
   },
   "source": [
    "# Other Parameters vs. Global Sales\n",
    "\n",
    "Now since we are curious in how other parameters may affect the final global sales, let's actually visualize the associations between global sales and other parameters we are interested in. "
   ]
  },
  {
   "cell_type": "markdown",
   "metadata": {
    "papermill": {
     "duration": 0.114314,
     "end_time": "2020-12-22T00:56:03.980680",
     "exception": false,
     "start_time": "2020-12-22T00:56:03.866366",
     "status": "completed"
    },
    "tags": []
   },
   "source": [
    "**Year vs. Global Sales**"
   ]
  },
  {
   "cell_type": "code",
   "execution_count": 46,
   "metadata": {
    "execution": {
     "iopub.execute_input": "2020-12-22T00:56:04.230553Z",
     "iopub.status.busy": "2020-12-22T00:56:04.228944Z",
     "iopub.status.idle": "2020-12-22T00:56:04.536822Z",
     "shell.execute_reply": "2020-12-22T00:56:04.536208Z"
    },
    "papermill": {
     "duration": 0.443156,
     "end_time": "2020-12-22T00:56:04.536950",
     "exception": false,
     "start_time": "2020-12-22T00:56:04.093794",
     "status": "completed"
    },
    "tags": []
   },
   "outputs": [
    {
     "data": {
      "image/png": "[encoded data removed]",
      "text/plain": [
       "<Figure size 2520x720 with 1 Axes>"
      ]
     },
     "metadata": {
      "needs_background": "light"
     },
     "output_type": "display_data"
    }
   ],
   "source": [
    "plt.figure(figsize=(35, 10))\n",
    "plt.title(\"Year\")\n",
    "sns.scatterplot(x=full_data['Year'], y=full_data['Global_Sales'])\n",
    "plt.show()"
   ]
  },
  {
   "cell_type": "markdown",
   "metadata": {
    "papermill": {
     "duration": 0.116451,
     "end_time": "2020-12-22T00:56:04.768324",
     "exception": false,
     "start_time": "2020-12-22T00:56:04.651873",
     "status": "completed"
    },
    "tags": []
   },
   "source": [
    "There isn't really an association between the year and the global sales of games. It is shown that most games would only make minimal global sales despite which year it is. So the global sale isn't really something that depends on the time."
   ]
  },
  {
   "cell_type": "markdown",
   "metadata": {
    "papermill": {
     "duration": 0.115789,
     "end_time": "2020-12-22T00:56:04.999053",
     "exception": false,
     "start_time": "2020-12-22T00:56:04.883264",
     "status": "completed"
    },
    "tags": []
   },
   "source": [
    "**Platform vs. Global Sales**"
   ]
  },
  {
   "cell_type": "code",
   "execution_count": 47,
   "metadata": {
    "execution": {
     "iopub.execute_input": "2020-12-22T00:56:05.240485Z",
     "iopub.status.busy": "2020-12-22T00:56:05.239672Z",
     "iopub.status.idle": "2020-12-22T00:56:07.127155Z",
     "shell.execute_reply": "2020-12-22T00:56:07.126212Z"
    },
    "papermill": {
     "duration": 2.012775,
     "end_time": "2020-12-22T00:56:07.127350",
     "exception": false,
     "start_time": "2020-12-22T00:56:05.114575",
     "status": "completed"
    },
    "tags": []
   },
   "outputs": [
    {
     "data": {
      "image/png": "[encoded data removed]",
      "text/plain": [
       "<Figure size 2520x720 with 1 Axes>"
      ]
     },
     "metadata": {
      "needs_background": "light"
     },
     "output_type": "display_data"
    },
    {
     "name": "stdout",
     "output_type": "stream",
     "text": [
      "Wii   0.2\n",
      "NES   1.375\n",
      "GB   1.165\n",
      "DS   0.11\n",
      "X360   0.28\n",
      "PS3   0.28\n",
      "PS2   0.23\n",
      "SNES   0.32\n",
      "GBA   0.165\n",
      "3DS   0.12\n",
      "PS4   0.22\n",
      "N64   0.27\n",
      "PS   0.26\n",
      "XB   0.14\n",
      "PC   0.04\n",
      "2600   0.46\n",
      "PSP   0.09\n",
      "XOne   0.24\n",
      "GC   0.15\n",
      "WiiU   0.23\n",
      "GEN   0.15\n",
      "DC   0.135\n",
      "PSV   0.06\n",
      "SAT   0.12\n",
      "SCD   0.065\n",
      "WS   0.215\n",
      "NG   0.1\n",
      "TG16   0.08\n",
      "3DO   0.02\n",
      "GG   0.04\n",
      "PCFX   0.03\n"
     ]
    }
   ],
   "source": [
    "plt.figure(figsize=(35, 10))\n",
    "plt.title(\"Platform\")\n",
    "sns.barplot(x=full_data['Platform'], y=full_data['Global_Sales'])\n",
    "plt.show()\n",
    "\n",
    "for plat in full_data['Platform'].unique():\n",
    "    print(plat, \" \", full_data.loc[full_data['Platform'] == plat, 'Global_Sales'].median())"
   ]
  },
  {
   "cell_type": "markdown",
   "metadata": {
    "papermill": {
     "duration": 0.119506,
     "end_time": "2020-12-22T00:56:07.365337",
     "exception": false,
     "start_time": "2020-12-22T00:56:07.245831",
     "status": "completed"
    },
    "tags": []
   },
   "source": [
    "So now there seems to be a little trend. It seems like games on platforms like Wii, NES, GB do have a higher global sales comparing to games on platforms like SAT. It is very likely that since devices like Wii are more popular, people are more likely to invest money on games that are on these platforms. "
   ]
  },
  {
   "cell_type": "markdown",
   "metadata": {
    "papermill": {
     "duration": 0.116061,
     "end_time": "2020-12-22T00:56:07.597604",
     "exception": false,
     "start_time": "2020-12-22T00:56:07.481543",
     "status": "completed"
    },
    "tags": []
   },
   "source": [
    "**Genre vs. Global Sales**"
   ]
  },
  {
   "cell_type": "code",
   "execution_count": 48,
   "metadata": {
    "execution": {
     "iopub.execute_input": "2020-12-22T00:56:07.840088Z",
     "iopub.status.busy": "2020-12-22T00:56:07.839315Z",
     "iopub.status.idle": "2020-12-22T00:56:08.757624Z",
     "shell.execute_reply": "2020-12-22T00:56:08.758320Z"
    },
    "papermill": {
     "duration": 1.043611,
     "end_time": "2020-12-22T00:56:08.758496",
     "exception": false,
     "start_time": "2020-12-22T00:56:07.714885",
     "status": "completed"
    },
    "tags": []
   },
   "outputs": [
    {
     "data": {
      "image/png": "[encoded data removed]",
      "text/plain": [
       "<Figure size 2520x720 with 1 Axes>"
      ]
     },
     "metadata": {
      "needs_background": "light"
     },
     "output_type": "display_data"
    },
    {
     "name": "stdout",
     "output_type": "stream",
     "text": [
      "Sports   0.22\n",
      "Platform   0.28\n",
      "Racing   0.19\n",
      "Role-Playing   0.185\n",
      "Puzzle   0.11\n",
      "Misc   0.16\n",
      "Shooter   0.23\n",
      "Simulation   0.16\n",
      "Action   0.19\n",
      "Fighting   0.21\n",
      "Adventure   0.06\n",
      "Strategy   0.09\n"
     ]
    }
   ],
   "source": [
    "plt.figure(figsize=(35, 10))\n",
    "plt.title(\"Genre\")\n",
    "sns.barplot(x=full_data['Genre'], y=full_data['Global_Sales'])\n",
    "plt.show()\n",
    "\n",
    "for genr in full_data['Genre'].unique():\n",
    "    print(genr, \" \", full_data.loc[full_data['Genre'] == genr, 'Global_Sales'].median())"
   ]
  },
  {
   "cell_type": "markdown",
   "metadata": {
    "papermill": {
     "duration": 0.12047,
     "end_time": "2020-12-22T00:56:08.997550",
     "exception": false,
     "start_time": "2020-12-22T00:56:08.877080",
     "status": "completed"
    },
    "tags": []
   },
   "source": [
    "Again, small association between the genre of the game and the global sales. However, still not a significant association."
   ]
  },
  {
   "cell_type": "markdown",
   "metadata": {
    "papermill": {
     "duration": 0.118552,
     "end_time": "2020-12-22T00:56:09.235519",
     "exception": false,
     "start_time": "2020-12-22T00:56:09.116967",
     "status": "completed"
    },
    "tags": []
   },
   "source": [
    "**Publisher vs. Global Sales**"
   ]
  },
  {
   "cell_type": "code",
   "execution_count": 49,
   "metadata": {
    "execution": {
     "iopub.execute_input": "2020-12-22T00:56:09.481609Z",
     "iopub.status.busy": "2020-12-22T00:56:09.480717Z",
     "iopub.status.idle": "2020-12-22T00:56:09.489818Z",
     "shell.execute_reply": "2020-12-22T00:56:09.489074Z"
    },
    "papermill": {
     "duration": 0.136075,
     "end_time": "2020-12-22T00:56:09.489939",
     "exception": false,
     "start_time": "2020-12-22T00:56:09.353864",
     "status": "completed"
    },
    "tags": []
   },
   "outputs": [],
   "source": [
    "sale_pbl = full_data[['Publisher', 'Global_Sales']]\n",
    "sale_pbl = sale_pbl.groupby('Publisher')['Global_Sales'].sum().sort_values(ascending=False).head(20)\n",
    "sale_pbl = pd.DataFrame(sale_pbl).reset_index()\n",
    "# sale_pbl"
   ]
  },
  {
   "cell_type": "code",
   "execution_count": 50,
   "metadata": {
    "execution": {
     "iopub.execute_input": "2020-12-22T00:56:09.753320Z",
     "iopub.status.busy": "2020-12-22T00:56:09.737443Z",
     "iopub.status.idle": "2020-12-22T00:56:10.077439Z",
     "shell.execute_reply": "2020-12-22T00:56:10.078033Z"
    },
    "papermill": {
     "duration": 0.469623,
     "end_time": "2020-12-22T00:56:10.078233",
     "exception": false,
     "start_time": "2020-12-22T00:56:09.608610",
     "status": "completed"
    },
    "tags": []
   },
   "outputs": [
    {
     "data": {
      "text/plain": [
       "(array([ 0,  1,  2,  3,  4,  5,  6,  7,  8,  9, 10, 11, 12, 13, 14, 15, 16,\n",
       "        17, 18, 19]),\n",
       " <a list of 20 Text major ticklabel objects>)"
      ]
     },
     "execution_count": 50,
     "metadata": {},
     "output_type": "execute_result"
    },
    {
     "data": {
      "image/png": "[encoded data removed]",
      "text/plain": [
       "<Figure size 1080x720 with 1 Axes>"
      ]
     },
     "metadata": {
      "needs_background": "light"
     },
     "output_type": "display_data"
    }
   ],
   "source": [
    "plt.figure(figsize=(15, 10))\n",
    "sns.barplot(x='Publisher', y='Global_Sales', data=sale_pbl)\n",
    "plt.xticks(rotation=90)"
   ]
  },
  {
   "cell_type": "markdown",
   "metadata": {
    "papermill": {
     "duration": 0.120339,
     "end_time": "2020-12-22T00:56:10.326652",
     "exception": false,
     "start_time": "2020-12-22T00:56:10.206313",
     "status": "completed"
    },
    "tags": []
   },
   "source": [
    "The publisher also seems to have an effect on the global sales. Essentially, companies like Nintendo or EA are more likely to make games that have high sales. "
   ]
  },
  {
   "cell_type": "markdown",
   "metadata": {
    "papermill": {
     "duration": 0.121639,
     "end_time": "2020-12-22T00:56:10.569046",
     "exception": false,
     "start_time": "2020-12-22T00:56:10.447407",
     "status": "completed"
    },
    "tags": []
   },
   "source": [
    "In conclusion, among these four parameters, it seems like the Year doesn't have a huge impact on the global sale, but the other three parameters all have an impact to certain extent. "
   ]
  },
  {
   "cell_type": "markdown",
   "metadata": {
    "papermill": {
     "duration": 0.122374,
     "end_time": "2020-12-22T00:56:10.816591",
     "exception": false,
     "start_time": "2020-12-22T00:56:10.694217",
     "status": "completed"
    },
    "tags": []
   },
   "source": [
    "# Model"
   ]
  },
  {
   "cell_type": "code",
   "execution_count": 51,
   "metadata": {
    "execution": {
     "iopub.execute_input": "2020-12-22T00:56:11.072326Z",
     "iopub.status.busy": "2020-12-22T00:56:11.070317Z",
     "iopub.status.idle": "2020-12-22T00:56:11.081282Z",
     "shell.execute_reply": "2020-12-22T00:56:11.081840Z"
    },
    "papermill": {
     "duration": 0.143922,
     "end_time": "2020-12-22T00:56:11.082014",
     "exception": false,
     "start_time": "2020-12-22T00:56:10.938092",
     "status": "completed"
    },
    "tags": []
   },
   "outputs": [],
   "source": [
    "num_features = []\n",
    "cat_features = ['Platform', 'Genre', 'Publisher']\n",
    "\n",
    "features = num_features + cat_features\n",
    "X = full_data.drop([\"Global_Sales\"], axis=1)[features]\n",
    "y = full_data[\"Global_Sales\"]\n",
    "\n",
    "num_transformer = SimpleImputer(strategy=\"constant\")\n",
    "\n",
    "cat_transformer = Pipeline(steps=[\n",
    "    (\"imputer\", SimpleImputer(strategy=\"most_frequent\")),\n",
    "    (\"onehot\", OneHotEncoder(handle_unknown='ignore'))])\n",
    "\n",
    "preprocessor = ColumnTransformer(transformers=[(\"num\", num_transformer, num_features),\n",
    "                                               (\"cat\", cat_transformer, cat_features)])\n",
    "\n",
    "X_train, X_test, y_train, y_test = train_test_split(X, y, random_state=42)"
   ]
  },
  {
   "cell_type": "code",
   "execution_count": 52,
   "metadata": {
    "execution": {
     "iopub.execute_input": "2020-12-22T00:56:11.386933Z",
     "iopub.status.busy": "2020-12-22T00:56:11.356605Z",
     "iopub.status.idle": "2020-12-22T00:56:22.795406Z",
     "shell.execute_reply": "2020-12-22T00:56:22.794627Z"
    },
    "papermill": {
     "duration": 11.590725,
     "end_time": "2020-12-22T00:56:22.795528",
     "exception": false,
     "start_time": "2020-12-22T00:56:11.204803",
     "status": "completed"
    },
    "tags": []
   },
   "outputs": [
    {
     "name": "stdout",
     "output_type": "stream",
     "text": [
      "DT_model mean squared error result: 3.2137796464619712\n",
      "RF_model mean squared error result: 3.1735327400883566\n",
      "GB_model mean squared error result: 3.208400155874944\n",
      "Ada_model mean squared error result: 4.402157328889326\n",
      "KNN_model mean squared error result: 3.5410205031325295\n"
     ]
    }
   ],
   "source": [
    "from sklearn.tree import DecisionTreeRegressor\n",
    "from sklearn.ensemble import RandomForestRegressor\n",
    "from sklearn.ensemble import GradientBoostingRegressor\n",
    "from sklearn.ensemble import AdaBoostRegressor\n",
    "from sklearn.neighbors import KNeighborsRegressor\n",
    "from sklearn.metrics import mean_squared_error, mean_absolute_error, r2_score\n",
    "\n",
    "base_models = [(\"DT_model\", DecisionTreeRegressor(random_state=42)),\n",
    "               (\"RF_model\", RandomForestRegressor(random_state=42,n_jobs=-1)),\n",
    "               (\"GB_model\", GradientBoostingRegressor(random_state=42)),\n",
    "               (\"Ada_model\", AdaBoostRegressor(random_state=42)),\n",
    "               (\"KNN_model\", KNeighborsRegressor(n_jobs=-1))]\n",
    "\n",
    "kfolds = 4 # 4 = 75% train, 25% validation\n",
    "split = KFold(n_splits=kfolds, shuffle=True, random_state=42)\n",
    "\n",
    "for name, model in base_models:\n",
    "    model_steps = Pipeline(steps=[('preprocessor', preprocessor),\n",
    "                              ('model', model)])\n",
    "    \n",
    "    model_steps.fit(X_train, y_train)\n",
    "\n",
    "    model_preds = model_steps.predict(X_test)\n",
    "\n",
    "    print(f\"{name} mean squared error result: {mean_squared_error(y_test, model_preds)}\")"
   ]
  },
  {
   "cell_type": "markdown",
   "metadata": {
    "papermill": {
     "duration": 0.123773,
     "end_time": "2020-12-22T00:56:23.043272",
     "exception": false,
     "start_time": "2020-12-22T00:56:22.919499",
     "status": "completed"
    },
    "tags": []
   },
   "source": [
    "So these are the performances of baseline models. From the results we can see Random Forest is again the best baseline model."
   ]
  },
  {
   "cell_type": "code",
   "execution_count": 53,
   "metadata": {
    "execution": {
     "iopub.execute_input": "2020-12-22T00:56:23.296475Z",
     "iopub.status.busy": "2020-12-22T00:56:23.295701Z",
     "iopub.status.idle": "2020-12-22T00:56:23.299332Z",
     "shell.execute_reply": "2020-12-22T00:56:23.298683Z"
    },
    "papermill": {
     "duration": 0.132544,
     "end_time": "2020-12-22T00:56:23.299466",
     "exception": false,
     "start_time": "2020-12-22T00:56:23.166922",
     "status": "completed"
    },
    "tags": []
   },
   "outputs": [],
   "source": [
    "param_grid = { \n",
    "    'n_estimators': [100, 500, 1000],\n",
    "    'max_depth' : [3, 5, 8, None],\n",
    "    'max_features': ['auto', 'sqrt', 'log2']\n",
    "}"
   ]
  },
  {
   "cell_type": "code",
   "execution_count": 54,
   "metadata": {
    "execution": {
     "iopub.execute_input": "2020-12-22T00:56:23.554850Z",
     "iopub.status.busy": "2020-12-22T00:56:23.554035Z",
     "iopub.status.idle": "2020-12-22T00:56:44.540852Z",
     "shell.execute_reply": "2020-12-22T00:56:44.541510Z"
    },
    "papermill": {
     "duration": 21.119442,
     "end_time": "2020-12-22T00:56:44.541673",
     "exception": false,
     "start_time": "2020-12-22T00:56:23.422231",
     "status": "completed"
    },
    "tags": []
   },
   "outputs": [
    {
     "name": "stdout",
     "output_type": "stream",
     "text": [
      "Mean Squared Error:  3.1735327400883566\n"
     ]
    }
   ],
   "source": [
    "final_RF_model = RandomForestRegressor(random_state=42, n_estimators=100, max_depth=None, max_features='auto')\n",
    "\n",
    "model_steps = Pipeline(steps=[('preprocessor', preprocessor), ('model', final_RF_model)])\n",
    "\n",
    "model_steps.fit(X_train, y_train)\n",
    "\n",
    "model_preds = model_steps.predict(X_test)\n",
    "\n",
    "print(\"Mean Squared Error: \", mean_squared_error(y_test, model_preds))"
   ]
  },
  {
   "cell_type": "markdown",
   "metadata": {
    "papermill": {
     "duration": 0.125667,
     "end_time": "2020-12-22T00:56:44.791078",
     "exception": false,
     "start_time": "2020-12-22T00:56:44.665411",
     "status": "completed"
    },
    "tags": []
   },
   "source": [
    "After tuning parameters, I found the default parameters actually have the lowest error. So the final performance of our model is a 3.17 mean squred error when predicting global sales for a video game."
   ]
  }
 ],
 "metadata": {
  "kernelspec": {
   "display_name": "Python 3",
   "language": "python",
   "name": "python3"
  },
  "language_info": {
   "codemirror_mode": {
    "name": "ipython",
    "version": 3
   },
   "file_extension": ".py",
   "mimetype": "text/x-python",
   "name": "python",
   "nbconvert_exporter": "python",
   "pygments_lexer": "ipython3",
   "version": "3.7.6"
  },
  "papermill": {
   "duration": 133.559033,
   "end_time": "2020-12-22T00:56:45.023324",
   "environment_variables": {},
   "exception": null,
   "input_path": "__notebook__.ipynb",
   "output_path": "__notebook__.ipynb",
   "parameters": {},
   "start_time": "2020-12-22T00:54:31.464291",
   "version": "2.1.0"
  }
 },
 "nbformat": 4,
 "nbformat_minor": 4
}
